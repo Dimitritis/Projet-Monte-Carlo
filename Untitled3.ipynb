{
 "cells": [
  {
   "cell_type": "markdown",
   "metadata": {},
   "source": [
    "$\\dfrac{\\partial^2 L}{\\partial \\mu^2}(\\mu, \\Sigma) = \\displaystyle \\sum_{i = 1}^{n} \\boldsymbol{\\Sigma}^{-1} + \\dfrac{(A_1(\\boldsymbol{\\mu},\\boldsymbol{\\Sigma})+A_2(\\boldsymbol{\\mu},\\boldsymbol{\\Sigma}))C(\\boldsymbol{\\mu},\\boldsymbol{\\Sigma})-B(\\boldsymbol{\\mu},\\boldsymbol{\\Sigma})^TB(\\boldsymbol{\\mu},\\boldsymbol{\\Sigma})}{\\left(C(\\boldsymbol{\\mu},\\boldsymbol{\\Sigma})\\right)^2}$\n",
    "\n",
    "Avec $A_1(\\boldsymbol{\\mu},\\boldsymbol{\\Sigma}) = \\displaystyle \\sum_{j = 1}^{m} - \\boldsymbol{\\Sigma}^{-1}\\exp\\left[\\dfrac{\\left(\\boldsymbol{Y_j}-\\boldsymbol{\\mu'}\\right)^\\top\\boldsymbol{\\Sigma'}^{-1}\\left(\\boldsymbol{Y_j}-\\boldsymbol{\\mu'}\\right)-\\left(\\boldsymbol{Y_j}-\\boldsymbol{\\mu}\\right)^\\top\\boldsymbol{\\Sigma}^{-1}\\left(\\boldsymbol{Y_j}-\\boldsymbol{\\mu}\\right)}{2}\\right]$,\n",
    "\n",
    "$A_2(\\boldsymbol{\\mu},\\boldsymbol{\\Sigma}) = \\boldsymbol{\\Sigma}^{-1}\\displaystyle \\sum_{j = 1}^{m} \\left(\\boldsymbol{Y_j}-\\boldsymbol{\\mu}\\right)\\left(\\boldsymbol{Y_j}-\\boldsymbol{\\mu}\\right)^\\top\\exp\\left[\\dfrac{\\left(\\boldsymbol{Y_j}-\\boldsymbol{\\mu'}\\right)^\\top\\boldsymbol{\\Sigma'}^{-1}\\left(\\boldsymbol{Y_j}-\\boldsymbol{\\mu'}\\right)-\\left(\\boldsymbol{Y_j}-\\boldsymbol{\\mu}\\right)^\\top\\boldsymbol{\\Sigma}^{-1}\\left(\\boldsymbol{Y_j}-\\boldsymbol{\\mu}\\right)}{2}\\right]\\boldsymbol{\\Sigma}^{-1}$\n",
    "\n",
    "$B(\\boldsymbol{\\mu},\\boldsymbol{\\Sigma}) =\\displaystyle \\sum_{j = 1}^{m} \\left(\\boldsymbol{Y_j}-\\boldsymbol{\\mu}\\right)^\\top\\boldsymbol{\\Sigma}^{-1}\\exp\\left[\\dfrac{\\left(\\boldsymbol{Y_j}-\\boldsymbol{\\mu'}\\right)^\\top\\boldsymbol{\\Sigma'}^{-1}\\left(\\boldsymbol{Y_j}-\\boldsymbol{\\mu'}\\right)-\\left(\\boldsymbol{Y_j}-\\boldsymbol{\\mu}\\right)^\\top\\boldsymbol{\\Sigma}^{-1}\\left(\\boldsymbol{Y_j}-\\boldsymbol{\\mu}\\right)}{2}\\right]$\n",
    "\n",
    "$C(\\boldsymbol{\\mu},\\boldsymbol{\\Sigma}) =\\displaystyle \\sum_{j = 1}^{m} \\exp\\left[\\dfrac{\\left(\\boldsymbol{Y_j}-\\boldsymbol{\\mu'}\\right)^\\top\\boldsymbol{\\Sigma'}^{-1}\\left(\\boldsymbol{Y_j}-\\boldsymbol{\\mu'}\\right)-\\left(\\boldsymbol{Y_j}-\\boldsymbol{\\mu}\\right)^\\top\\boldsymbol{\\Sigma}^{-1}\\left(\\boldsymbol{Y_j}-\\boldsymbol{\\mu}\\right)}{2}\\right]$\n",
    "\n",
    "$\\dfrac{\\partial^2 L}{\\partial \\mu\\sigma_{ij}}(\\mu, \\Sigma) = \\displaystyle \\sum_{i = 1}^{n}  \\left(\\boldsymbol{X_i}-\\boldsymbol{\\mu}\\right)^\\top\\boldsymbol{\\Sigma}^{-1}\\dfrac{\\partial \\boldsymbol{\\Sigma}}{\\partial \\sigma_{ij}}\\boldsymbol{\\Sigma}^{-1} + \\dfrac{(A_1(\\boldsymbol{\\mu},\\boldsymbol{\\Sigma})+A_2(\\boldsymbol{\\mu},\\boldsymbol{\\Sigma}))C(\\boldsymbol{\\mu},\\boldsymbol{\\Sigma})-B(\\boldsymbol{\\mu},\\boldsymbol{\\Sigma})^2}{\\left(C(\\boldsymbol{\\mu},\\boldsymbol{\\Sigma})\\right)^2}$\n",
    "\n",
    "Avec $A_1(\\boldsymbol{\\mu},\\boldsymbol{\\Sigma}) = - \\displaystyle \\sum_{j = 1}^{m} \\left(\\boldsymbol{Y_j}-\\boldsymbol{\\mu}\\right)^\\top\\boldsymbol{\\Sigma}^{-1}\\dfrac{\\partial \\boldsymbol{\\Sigma}}{\\partial \\sigma_{ij}}\\boldsymbol{\\Sigma}^{-1}\\exp\\left[\\dfrac{\\left(\\boldsymbol{Y_j}-\\boldsymbol{\\mu'}\\right)^\\top\\boldsymbol{\\Sigma'}^{-1}\\left(\\boldsymbol{Y_j}-\\boldsymbol{\\mu'}\\right)-\\left(\\boldsymbol{Y_j}-\\boldsymbol{\\mu}\\right)^\\top\\boldsymbol{\\Sigma}^{-1}\\left(\\boldsymbol{Y_j}-\\boldsymbol{\\mu}\\right)}{2}\\right] $\n",
    "\n",
    "$A_2(\\boldsymbol{\\mu},\\boldsymbol{\\Sigma}) =  \\displaystyle \\sum_{j = 1}^{m} \\left(\\boldsymbol{Y_j}-\\boldsymbol{\\mu}\\right)^\\top\\boldsymbol{\\Sigma}^{-1}\\dfrac{1}{2}\\left(\\boldsymbol{Y_j}-\\boldsymbol{\\mu}\\right)^\\top\\boldsymbol{\\Sigma}^{-1}\\dfrac{\\partial \\boldsymbol{\\Sigma}}{\\partial \\sigma_{ij}}\\boldsymbol{\\Sigma}^{-1}\\left(\\boldsymbol{Y_j}-\\boldsymbol{\\mu}\\right)\\exp\\left[\\dfrac{\\left(\\boldsymbol{Y_j}-\\boldsymbol{\\mu'}\\right)^\\top\\boldsymbol{\\Sigma'}^{-1}\\left(\\boldsymbol{Y_j}-\\boldsymbol{\\mu'}\\right)-\\left(\\boldsymbol{Y_j}-\\boldsymbol{\\mu}\\right)^\\top\\boldsymbol{\\Sigma}^{-1}\\left(\\boldsymbol{Y_j}-\\boldsymbol{\\mu}\\right)}{2}\\right] $\n",
    "\n",
    "$B(\\boldsymbol{\\mu},\\boldsymbol{\\Sigma}) = \\displaystyle \\sum_{j = 1}^{m} \\dfrac{1}{2}\\left(\\boldsymbol{Y_j}-\\boldsymbol{\\mu}\\right)^\\top\\boldsymbol{\\Sigma}^{-1}\\dfrac{\\partial \\boldsymbol{\\Sigma}}{\\partial \\sigma_{ij}}\\boldsymbol{\\Sigma}^{-1}\\left(\\boldsymbol{Y_j}-\\boldsymbol{\\mu}\\right)\\exp\\left[\\dfrac{\\left(\\boldsymbol{Y_j}-\\boldsymbol{\\mu'}\\right)^\\top\\boldsymbol{\\Sigma'}^{-1}\\left(\\boldsymbol{Y_j}-\\boldsymbol{\\mu'}\\right)-\\left(\\boldsymbol{Y_j}-\\boldsymbol{\\mu}\\right)^\\top\\boldsymbol{\\Sigma}^{-1}\\left(\\boldsymbol{Y_j}-\\boldsymbol{\\mu}\\right)}{2}\\right]$\n",
    "\n",
    "$\\dfrac{\\partial^2 L}{\\partial \\sigma_{ij}\\sigma_{kl}}(\\mu, \\Sigma) = \\displaystyle \\sum_{i = 1}^{n} -\\dfrac{1}{2}\\left(\\boldsymbol{X_i}-\\boldsymbol{\\mu}\\right)^\\top LOL(\\boldsymbol{\\Sigma})\\left(\\boldsymbol{X_i}-\\boldsymbol{\\mu}\\right) + \\dfrac{(A_1(\\boldsymbol{\\mu},\\boldsymbol{\\Sigma})+A_2(\\boldsymbol{\\mu},\\boldsymbol{\\Sigma}))C(\\boldsymbol{\\mu},\\boldsymbol{\\Sigma})-B(\\boldsymbol{\\mu},\\boldsymbol{\\Sigma})}{\\left(C(\\boldsymbol{\\mu},\\boldsymbol{\\Sigma})\\right)^2}$\n",
    "\n",
    "$LOL(\\boldsymbol{\\Sigma}) = -(\\boldsymbol{\\Sigma}^{-1}\\dfrac{\\partial \\boldsymbol{\\Sigma}}{\\partial \\sigma_{kl}}\\boldsymbol{\\Sigma}^{-1}\\dfrac{\\partial \\boldsymbol{\\Sigma}}{\\partial \\sigma_{ij}}\\boldsymbol{\\Sigma}^{-1} + \\boldsymbol{\\Sigma}^{-1}\\dfrac{\\partial \\boldsymbol{\\Sigma}}{\\partial \\sigma_{ij}}\\boldsymbol{\\Sigma}^{-1}\\dfrac{\\partial \\boldsymbol{\\Sigma}}{\\partial \\sigma_{kl}}\\boldsymbol{\\Sigma}^{-1})$\n",
    "\n",
    "Avec $A_1(\\boldsymbol{\\mu},\\boldsymbol{\\Sigma}) = \\displaystyle \\sum_{j = 1}^{m} \\dfrac{1}{2}\\left(\\boldsymbol{Y_j}-\\boldsymbol{\\mu}\\right)^\\top LOL(\\boldsymbol{\\Sigma})\\left(\\boldsymbol{Y_j}-\\boldsymbol{\\mu}\\right) \\exp\\left[\\dfrac{\\left(\\boldsymbol{Y_j}-\\boldsymbol{\\mu'}\\right)^\\top\\boldsymbol{\\Sigma'}^{-1}\\left(\\boldsymbol{Y_j}-\\boldsymbol{\\mu'}\\right)-\\left(\\boldsymbol{Y_j}-\\boldsymbol{\\mu}\\right)^\\top\\boldsymbol{\\Sigma}^{-1}\\left(\\boldsymbol{Y_j}-\\boldsymbol{\\mu}\\right)}{2}\\right]$\n",
    "\n",
    "$A_2(\\boldsymbol{\\mu},\\boldsymbol{\\Sigma}) = \\displaystyle \\sum_{j = 1}^{m} \\dfrac{1}{2}\\left(\\boldsymbol{Y_j}-\\boldsymbol{\\mu}\\right)^\\top\\boldsymbol{\\Sigma}^{-1}\\dfrac{\\partial \\boldsymbol{\\Sigma}}{\\partial \\sigma_{ij}}\\boldsymbol{\\Sigma}^{-1}\\left(\\boldsymbol{Y_j}-\\boldsymbol{\\mu}\\right)\\dfrac{1}{2}\\left(\\boldsymbol{Y_j}-\\boldsymbol{\\mu}\\right)^\\top\\boldsymbol{\\Sigma}^{-1}\\dfrac{\\partial \\boldsymbol{\\Sigma}}{\\partial \\sigma_{kl}}\\boldsymbol{\\Sigma}^{-1}\\left(\\boldsymbol{Y_j}-\\boldsymbol{\\mu}\\right)\\exp\\left[\\dfrac{\\left(\\boldsymbol{Y_j}-\\boldsymbol{\\mu'}\\right)^\\top\\boldsymbol{\\Sigma'}^{-1}\\left(\\boldsymbol{Y_j}-\\boldsymbol{\\mu'}\\right)-\\left(\\boldsymbol{Y_j}-\\boldsymbol{\\mu}\\right)^\\top\\boldsymbol{\\Sigma}^{-1}\\left(\\boldsymbol{Y_j}-\\boldsymbol{\\mu}\\right)}{2}\\right]$\n",
    "\n",
    "$B(\\boldsymbol{\\mu},\\boldsymbol{\\Sigma}) = \\displaystyle \\sum_{j = 1}^{m}\\dfrac{1}{2}\\left(\\boldsymbol{Y_j}-\\boldsymbol{\\mu}\\right)^\\top\\boldsymbol{\\Sigma}^{-1}\\dfrac{\\partial \\boldsymbol{\\Sigma}}{\\partial \\sigma_{ij}}\\boldsymbol{\\Sigma}^{-1}\\left(\\boldsymbol{Y_j}-\\boldsymbol{\\mu}\\right)\\exp\\left[\\dfrac{\\left(\\boldsymbol{Y_j}-\\boldsymbol{\\mu'}\\right)^\\top\\boldsymbol{\\Sigma'}^{-1}\\left(\\boldsymbol{Y_j}-\\boldsymbol{\\mu'}\\right)-\\left(\\boldsymbol{Y_j}-\\boldsymbol{\\mu}\\right)^\\top\\boldsymbol{\\Sigma}^{-1}\\left(\\boldsymbol{Y_j}-\\boldsymbol{\\mu}\\right)}{2}\\right]$ \n",
    "\n",
    "$\\times \\displaystyle \\sum_{j = 1}^{m}\\dfrac{1}{2}\\left(\\boldsymbol{Y_j}-\\boldsymbol{\\mu}\\right)^\\top\\boldsymbol{\\Sigma}^{-1}\\dfrac{\\partial \\boldsymbol{\\Sigma}}{\\partial \\sigma_{kl}}\\boldsymbol{\\Sigma}^{-1}\\left(\\boldsymbol{Y_j}-\\boldsymbol{\\mu}\\right)\\exp\\left[\\dfrac{\\left(\\boldsymbol{Y_j}-\\boldsymbol{\\mu'}\\right)^\\top\\boldsymbol{\\Sigma'}^{-1}\\left(\\boldsymbol{Y_j}-\\boldsymbol{\\mu'}\\right)-\\left(\\boldsymbol{Y_j}-\\boldsymbol{\\mu}\\right)^\\top\\boldsymbol{\\Sigma}^{-1}\\left(\\boldsymbol{Y_j}-\\boldsymbol{\\mu}\\right)}{2}\\right]$"
   ]
  },
  {
   "cell_type": "code",
   "execution_count": null,
   "metadata": {},
   "outputs": [],
   "source": [
    "def Hessienne_l(P):\n",
    "    p = len(P)\n",
    "    mu = P[:d]\n",
    "    Sigma = P[d:].reshape(d, d)\n",
    "    Q = np.linalg.inv(Sigma)\n",
    "    Stock_expY = np.array(Stock)+np.array([-OP_chiante(Yi, mu, Q) for Yi in Y])\n",
    "    C = np.sum(np.exp(Stock_expY))\n",
    "    H = np.zeros((p, p))\n",
    "    for i in range(d,p):\n",
    "        H[:d, i] = Hessienne_l_sigma_mu((i-d)//d, (i-d)%d, mu, Sigma, Q, Stock_expY, C)\n",
    "        for j in range(d,p):\n",
    "            H[i, j] = Hessienne_l_sigma((i-d)//d, (i-d)%d, (j-d)//d, (j-d)%d, mu, Sigma, Q, Stock_expY, C)\n",
    "    H = symmetrize(H)\n",
    "    H[:d, :d] = Hessienne_l_mu(mu, Sigma, Q, Stock_expY, C)\n",
    "    return(H)"
   ]
  },
  {
   "cell_type": "code",
   "execution_count": null,
   "metadata": {},
   "outputs": [],
   "source": [
    "def Hessienne_l_mu(mu, Sigma, Q, Stock_expY, C):\n",
    "    Y_mu = [(Yi-mu).reshape((-1,1)) for Yi in Y]\n",
    "    OP_Y_T = [np.dot(Y_mu[i], Y_mu[i].T)*np.exp(Stock_expY)[i] for i in range(len(Stock_expY))]\n",
    "    B_Y_T = [np.dot(Y_mu[i].T, Q)*np.exp(Stock_expY)[i] for i in range(len(Stock_expY))]\n",
    "    Stock_Y = np.array([np.dot(Yi-mu, Q) for Yi in Y])\n",
    "    Stock_Y_T = np.sum(OP_Y_T, axis = 0)\n",
    "    A1 = -Q*C\n",
    "    B = np.sum(B_Y_T, axis = 0).reshape((1,-1))\n",
    "    A2 = np.dot(np.dot(Q,Stock_Y_T),Q)\n",
    "    F = len(Stock_Y)*(Q+((A1+A2)*C-np.dot(B.T,B))/C**2)\n",
    "    return(F)"
   ]
  },
  {
   "cell_type": "code",
   "execution_count": null,
   "metadata": {},
   "outputs": [],
   "source": [
    "def Hessienne_l_sigma(i, j, k, l, mu, Sigma, Q, Stock_expY, C):\n",
    "    dQij = dSigma_ij(Sigma, Q, i, j)\n",
    "    dQkl = dSigma_ij(Sigma, Q, k, l)\n",
    "    HSigma = -(np.dot(np.dot(dQij,Q),dQkl)\\\n",
    "              +np.dot(np.dot(dQkl,Q),dQij))\n",
    "    A1 = np.array([OP_chiante(Y[i], mu, HSigma)*np.exp(Stock_expY[i]) for i in range(len(Y))])\n",
    "    B1 = np.array([OP_chiante(Y[i], mu, dQkl)*np.exp(Stock_expY[i]) for i in range(len(Y))])\n",
    "    B2 = np.array([OP_chiante(Y[i], mu, dQij)*np.exp(Stock_expY[i]) for i in range(len(Y))])\n",
    "    B = np.sum(B1)*np.sum(B2)\n",
    "    A2 = np.array([OP_chiante(Y[i], mu, dQij)*OP_chiante(Y[i], mu, dQkl)*np.exp(Stock_expY[i]) for i in range(len(Y))])\n",
    "    X_H = np.array([-OP_chiante(Xi, mu, HSigma) for Xi in X])\n",
    "    G = np.sum(X_H)+len(X)*((np.sum(A1)+np.sum(A2))*C-B)/C**2\n",
    "    return(G)"
   ]
  },
  {
   "cell_type": "code",
   "execution_count": null,
   "metadata": {},
   "outputs": [],
   "source": [
    "def Hessienne_l_sigma_mu(i, j, mu, Sigma, Q, Stock_expY, C):\n",
    "    dQij = dSigma_ij(Sigma, Q, i, j)\n",
    "    Y_HExp = np.array([np.dot(Y[i]-mu, Q)*np.exp(Stock_expY[i]) for i in range(len(Y))])\n",
    "    A1 = np.array([-np.dot(Y[i]-mu, dQij)*np.exp(Stock_expY[i]) for i in range(len(Y))])\n",
    "    B = np.array([OP_chiante(Y[i], mu, dQij)*np.exp(Stock_expY[i]) for i in range(len(Y))])\n",
    "    A2 = np.array([np.dot(Y[i]-mu, Q)*B[i] for i in range(len(Y))])\n",
    "    X_H = np.array([np.dot(Xi-mu, dQij) for Xi in X])\n",
    "    T = np.sum(X_H, axis = 0)+len(X)*((np.sum(A1+A2, axis = 0))*C-np.sum(Y_HExp, axis = 0)*np.sum(B))/C**2\n",
    "    return(T)    "
   ]
  }
 ],
 "metadata": {
  "kernelspec": {
   "display_name": "Python 3",
   "language": "python",
   "name": "python3"
  },
  "language_info": {
   "codemirror_mode": {
    "name": "ipython",
    "version": 3
   },
   "file_extension": ".py",
   "mimetype": "text/x-python",
   "name": "python",
   "nbconvert_exporter": "python",
   "pygments_lexer": "ipython3",
   "version": "3.6.8"
  },
  "latex_envs": {
   "LaTeX_envs_menu_present": true,
   "autoclose": false,
   "autocomplete": true,
   "bibliofile": "biblio.bib",
   "cite_by": "apalike",
   "current_citInitial": 1,
   "eqLabelWithNumbers": true,
   "eqNumInitial": 1,
   "hotkeys": {
    "equation": "Ctrl-E",
    "itemize": "Ctrl-I"
   },
   "labels_anchors": false,
   "latex_user_defs": false,
   "report_style_numbering": false,
   "user_envs_cfg": false
  },
  "varInspector": {
   "cols": {
    "lenName": 16,
    "lenType": 16,
    "lenVar": 40
   },
   "kernels_config": {
    "python": {
     "delete_cmd_postfix": "",
     "delete_cmd_prefix": "del ",
     "library": "var_list.py",
     "varRefreshCmd": "print(var_dic_list())"
    },
    "r": {
     "delete_cmd_postfix": ") ",
     "delete_cmd_prefix": "rm(",
     "library": "var_list.r",
     "varRefreshCmd": "cat(var_dic_list()) "
    }
   },
   "types_to_exclude": [
    "module",
    "function",
    "builtin_function_or_method",
    "instance",
    "_Feature"
   ],
   "window_display": false
  }
 },
 "nbformat": 4,
 "nbformat_minor": 2
}
