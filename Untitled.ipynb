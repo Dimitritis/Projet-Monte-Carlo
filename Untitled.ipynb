{
 "cells": [
  {
   "cell_type": "markdown",
   "metadata": {},
   "source": [
    "## Lois normales tronquées\n",
    "\n",
    "Une loi normale tronquée de dimension $d$ est la loi du vecteur $X \\sim N_{d}(\\mu, \\Sigma)$, conditionnellement à\n",
    "l’événement $X_i > 0$ pour tous les $i = 1, . . . , d$.\n",
    "\n",
    "1. Ecrire la densité de cette loi, et montrer qu’elle fait intervenir une intégrale difficile à calculer (que l’on notera $Z(\\mu, \\Sigma))$.\n",
    "\n",
    "Montrons que cette loi est de masse nulle sur $\\mathbb{R}^{-}$. On appelle $X > 0$ l'événement $X_i > 0$ pour tous les $i = 1, . . . , d$. \n",
    "\n",
    "Or &nbsp; $\\mathbb{P}(X \\leq 0 | X > 0) = \\dfrac{\\mathbb{P}(X \\leq 0 , X > 0)}{\\mathbb{P}(X > 0)} = 0$ &nbsp; car $X > 0$ et  $X \\leq 0$  sont disjoints. \n",
    "\n",
    "Calculons donc maintenant pour tout $t > 0$, &nbsp; $\\mathbb{P}(X \\leq t | X > 0) = G(t)$:\n",
    "\n",
    "$$G(t) = \\dfrac{\\mathbb{P}(X \\leq t , X > 0)}{\\mathbb{P}(X > 0)} = \\dfrac{F(t)-F(0)}{1-F(0)}, \\ \\text{où}\\ F\\ \\text{est la fonction de répartition de}\\ X \\text{.}$$\n",
    "\n",
    "$X|X > 0$ est donc de loi continue et de densité $g: x \\mapsto \\dfrac{f(x)}{1-F(0)}\\mathbb{1}_{x > 0} $. On remarque alors que $\\displaystyle 1-F(0) = \\int_{\\mathbb{R}^{+}_{*}}^{} \\frac{1}\n",
    "{(2\\pi)^{N/2} \\left| \\boldsymbol{\\Sigma}\\right|^{1/2}}\\;\\exp\\left[\n",
    "-\\frac{1}{2}\\left(\\boldsymbol{x}-\\boldsymbol{\\mu}\\right)^\\top\\boldsymbol{\\Sigma}^{-1}\\left(\\boldsymbol{x}-\\boldsymbol{\\mu}\\right)\\right] \\, \\mathrm{d}x$"
   ]
  }
 ],
 "metadata": {
  "kernelspec": {
   "display_name": "Python 3",
   "language": "python",
   "name": "python3"
  },
  "language_info": {
   "codemirror_mode": {
    "name": "ipython",
    "version": 3
   },
   "file_extension": ".py",
   "mimetype": "text/x-python",
   "name": "python",
   "nbconvert_exporter": "python",
   "pygments_lexer": "ipython3",
   "version": "3.6.8"
  },
  "varInspector": {
   "cols": {
    "lenName": 16,
    "lenType": 16,
    "lenVar": 40
   },
   "kernels_config": {
    "python": {
     "delete_cmd_postfix": "",
     "delete_cmd_prefix": "del ",
     "library": "var_list.py",
     "varRefreshCmd": "print(var_dic_list())"
    },
    "r": {
     "delete_cmd_postfix": ") ",
     "delete_cmd_prefix": "rm(",
     "library": "var_list.r",
     "varRefreshCmd": "cat(var_dic_list()) "
    }
   },
   "types_to_exclude": [
    "module",
    "function",
    "builtin_function_or_method",
    "instance",
    "_Feature"
   ],
   "window_display": false
  }
 },
 "nbformat": 4,
 "nbformat_minor": 2
}
