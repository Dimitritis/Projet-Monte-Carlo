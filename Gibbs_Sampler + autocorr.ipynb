{
 "cells": [
  {
   "cell_type": "code",
   "execution_count": 1,
   "metadata": {},
   "outputs": [],
   "source": [
    "import numpy as np\n",
    "import matplotlib.pyplot as plt\n",
    "import time\n",
    "from scipy.stats import uniform\n",
    "from scipy.stats import norm\n",
    "from scipy.stats import expon\n",
    "from scipy.optimize import minimize\n",
    "from mpl_toolkits import mplot3d\n",
    "%matplotlib inline"
   ]
  },
  {
   "cell_type": "code",
   "execution_count": 2,
   "metadata": {},
   "outputs": [],
   "source": [
    "def Z(mu, sigma):\n",
    "    return(norm.cdf(mu/sigma))\n",
    "\n",
    "def g(x, mu, sigma):\n",
    "    return((x > 0)*norm.pdf(x, mu, sigma)/(Z(mu, sigma)))\n",
    "\n",
    "def M1(mu, sigma):\n",
    "    return(1/Z(mu, sigma))\n",
    "\n",
    "def Lambda_Star(mu, sigma):\n",
    "    Delta = mu*mu+4*sigma*sigma\n",
    "    return((-mu+np.sqrt(Delta))/(2*sigma*sigma))\n",
    "\n",
    "def M2(mu, sigma):\n",
    "    L_Star = Lambda_Star(mu, sigma)\n",
    "    return((np.exp(mu*L_Star+sigma*sigma*L_Star*L_Star/2))/(L_Star*Z(mu, sigma)*np.sqrt(2*np.pi)*sigma))\n",
    "\n",
    "def AR_Norm_Simple(mu, sigma):\n",
    "    X = -1\n",
    "    M_1 = M1(mu, sigma)\n",
    "    M_2 = M2(mu, sigma)\n",
    "    if(M_2 >= M_1):\n",
    "        while(X == -1):\n",
    "            Y = mu+sigma*norm.rvs()\n",
    "            if(Y > 0):\n",
    "                X = Y\n",
    "    else:\n",
    "        while(X == -1):\n",
    "            L_Star = Lambda_Star(mu, sigma)\n",
    "            Y = expon.rvs(scale = 1/L_Star)\n",
    "            U = uniform.rvs()\n",
    "            if(g(Y, mu, sigma)/(M_2*expon.pdf(Y, scale = 1/L_Star)) >= U):\n",
    "                X = Y\n",
    "    return(X) \n",
    "\n",
    "def params(i, mu, Q, X):\n",
    "    mu_x = mu[i]-np.sum([Q[i,j]*(X[j]-mu[j]) for j in range(len(mu)) if j != i])/Q[i,i]\n",
    "    sigma_squared_x = 1/Q[i,i]\n",
    "    return(mu_x, sigma_squared_x)\n",
    "\n",
    "def Gibbs_Sampler(n, mu, Sigma, X0):\n",
    "    d = len(mu)\n",
    "    Q = np.linalg.inv(Sigma)\n",
    "    X = [list(X0)]\n",
    "    for _n in range(n-1):\n",
    "        for i in range(d):\n",
    "            mu_x, s_s_x = params(i, mu, Q, X0)\n",
    "            X0[i] = AR_Norm_Simple(mu_x, np.sqrt(s_s_x))\n",
    "        X.append(list(X0))\n",
    "    return(np.array(X)[int(0.05*n):,:])\n",
    "\n",
    "def plot_Gibbs(X, mu, Sigma):\n",
    "    d = len(mu)\n",
    "    fig, axs = plt.subplots(d, figsize = (10,15))\n",
    "    x = np.linspace(0, 50, 10000)\n",
    "    for t in range(d):\n",
    "        y = norm.pdf(x, loc = mu[t], scale = np.sqrt(Sigma[t,t]))/Z(mu[t], np.sqrt(Sigma[t,t]))\n",
    "        axs[t].hist(X[:,t], density = True, bins = 40, label = \"Histogramme des simulations\")\n",
    "        axs[t].plot(x, y, label = \"Densité théorique\")\n",
    "    fig.suptitle('Densités théoriques et pratiques', y = 0.9)\n",
    "    \n",
    "def autocorr(X, t):\n",
    "    X_t = np.transpose(X)\n",
    "    if(t == 0):\n",
    "        return(np.corrcoef(X_t[:,:],X_t[:,:]))\n",
    "    return(np.corrcoef(X_t[:,t:],X_t[:,:-t]))\n",
    "\n",
    "def graph_autocorr(X, t = 50):\n",
    "    Lags = [_n for _n in range(t+1)]\n",
    "    d = X.shape[1]\n",
    "    fig, axs = plt.subplots(d, figsize = (10,15))\n",
    "    for _d in range(d):\n",
    "        Auto = [autocorr(X, lag)[_d,_d+3] for lag in Lags]\n",
    "        axs[_d].plot([-int(t/50),t+int(t/50)],[0,0], color = 'black')\n",
    "        axs[_d].plot([-int(t/50),t+int(t/50)],[0.2,0.2], color = 'blue', linestyle='dashed')\n",
    "        axs[_d].plot([-int(t/50),t+int(t/50)],[-0.2,-0.2], color = 'blue', linestyle='dashed')\n",
    "        for i in range(len(Auto)):\n",
    "            axs[_d].plot([Lags[i], Lags[i]], [0, Auto[i]], color = 'black')\n",
    "        axs[_d].axis([-int(t/50),t+int(t/50),min(Auto)-0.1,max(Auto)+0.1])\n",
    "    fig.suptitle('Graphes des autocorrélations', y = 0.9)"
   ]
  },
  {
   "cell_type": "code",
   "execution_count": 3,
   "metadata": {},
   "outputs": [],
   "source": [
    "#d = 3\n",
    "#n = 10526\n",
    "#mu = np.array([3.,0.,5.])\n",
    "#Sigma = np.array([[3.,0.,1.],\n",
    "#                  [0.,4.,0.2],\n",
    "#                  [1.,0.2,5.]])\n",
    "#Q = np.linalg.inv(Sigma)\n",
    "#X0 = expon.rvs(size = 3)\n",
    "#X = Gibbs_Sampler(n, mu, Sigma, X0)\n",
    "#plot_Gibbs(X, mu, Sigma)\n",
    "#graph_autocorr(X)\n",
    "\n",
    "n = 5_000\n",
    "d = 2\n",
    "mu = np.array([3,0])\n",
    "Sigma = np.array([[2,0.3],\n",
    "              [0.3,4]])\n",
    "Q = np.linalg.inv(Sigma)\n",
    "\n",
    "X0 = expon.rvs(size = 2)\n",
    "\n",
    "X = Gibbs_Sampler(n, mu, Sigma, X0)"
   ]
  },
  {
   "cell_type": "code",
   "execution_count": 4,
   "metadata": {},
   "outputs": [],
   "source": [
    "#m = n\n",
    "#mu_prime = np.array([3.2,-0.4,5.5])\n",
    "#Sigma_prime = np.array([[2.6,0.4,1.2],\n",
    "#                        [0.4,3.5,0.1],\n",
    "#                        [1.2,0.1,4.3]])\n",
    "#Q_prime = np.linalg.inv(Sigma_prime)\n",
    "#Y0 = expon.rvs(size = 3)\n",
    "#Y = Gibbs_Sampler(n, mu_prime, Sigma_prime, Y0)\n",
    "#plot_Gibbs(Y, mu_prime, Sigma_prime)\n",
    "#graph_autocorr(Y)\n",
    "#\n",
    "N = 50_000\n",
    "\n",
    "mu_prime = np.array([3.2,-0.2])\n",
    "Sigma_prime = np.array([[2.5,0.1],\n",
    "                        [0.1,4.5]])\n",
    "Q_prime = np.linalg.inv(Sigma_prime)\n",
    "\n",
    "Y0 = expon.rvs(size = 2)\n",
    "\n",
    "Y = Gibbs_Sampler(N, mu_prime, Sigma_prime, Y0)"
   ]
  },
  {
   "cell_type": "markdown",
   "metadata": {},
   "source": [
    "$l(x; \\mu; \\Sigma) = \\log(\\dfrac{1}\n",
    "{Z(\\boldsymbol{\\mu}, \\boldsymbol{\\Sigma})(2\\pi)^{N/2} \\left| \\boldsymbol{\\Sigma}\\right|^{1/2}}\\exp\\left[\n",
    "-\\dfrac{1}{2}\\left(\\boldsymbol{x}-\\boldsymbol{\\mu}\\right)^\\top\\boldsymbol{\\Sigma}^{-1}\\left(\\boldsymbol{x}-\\boldsymbol{\\mu}\\right)\\right] \\, \\mathbb{1}_{x > 0})$\n",
    "\n",
    "$l(x; \\mu; \\Sigma) = -\\dfrac{1}{2}\\left(\\boldsymbol{x}-\\boldsymbol{\\mu}\\right)^\\top\\boldsymbol{\\Sigma}^{-1}\\left(\\boldsymbol{x}-\\boldsymbol{\\mu}\\right) - \\log(Z(\\boldsymbol{\\mu}, \\boldsymbol{\\Sigma}))-\\dfrac{1}{2}\\log(\\left| \\boldsymbol{\\Sigma}\\right|) + Cst$\n",
    "\n",
    "$l(x; \\mu; \\Sigma) = -\\dfrac{1}{2}\\left(\\boldsymbol{x}-\\boldsymbol{\\mu}\\right)^\\top\\boldsymbol{\\Sigma}^{-1}\\left(\\boldsymbol{x}-\\boldsymbol{\\mu}\\right) - \\log(\\dfrac{Z(\\boldsymbol{\\mu}, \\boldsymbol{\\Sigma})}{Z(\\boldsymbol{\\mu'}, \\boldsymbol{\\Sigma'})}Z(\\boldsymbol{\\mu'}, \\boldsymbol{\\Sigma'}))-\\dfrac{1}{2}\\log(\\left| \\boldsymbol{\\Sigma}\\right|) + Cst$\n",
    "\n",
    "or $\\dfrac{Z(\\boldsymbol{\\mu}, \\boldsymbol{\\Sigma})}{Z(\\boldsymbol{\\mu'}, \\boldsymbol{\\Sigma'})} = \\dfrac{1}{Z(\\boldsymbol{\\mu'}, \\boldsymbol{\\Sigma'})}\\int_{}^{} \\dfrac{1}\n",
    "{(2\\pi)^{N/2} \\left| \\boldsymbol{\\Sigma}\\right|^{1/2}}\\;\\exp\\left[\n",
    "-\\dfrac{1}{2}\\left(\\boldsymbol{x}-\\boldsymbol{\\mu}\\right)^\\top\\boldsymbol{\\Sigma}^{-1}\\left(\\boldsymbol{x}-\\boldsymbol{\\mu}\\right)\\right] \\, \\mathbb{1}_{x > 0}\\mathrm{d}x = \\dfrac{1}{Z(\\boldsymbol{\\mu'}, \\boldsymbol{\\Sigma'})}\\int_{}^{} \n",
    "f(x; \\boldsymbol{\\mu}, \\boldsymbol{\\Sigma}) \\mathbb{1}_{x > 0}\\mathrm{d}x$\n",
    "\n",
    "$ = \\dfrac{1}{Z(\\boldsymbol{\\mu'}, \\boldsymbol{\\Sigma'})}\\int_{}^{} \n",
    "\\dfrac{f(x; \\boldsymbol{\\mu}, \\boldsymbol{\\Sigma})}{f(x; \\boldsymbol{\\mu'}, \\boldsymbol{\\Sigma'})}f(x; \\boldsymbol{\\mu'}, \\boldsymbol{\\Sigma'}) \\mathbb{1}_{x > 0}\\mathrm{d}x = \\mathbb{E}\\left[\\dfrac{f(Y; \\boldsymbol{\\mu}, \\boldsymbol{\\Sigma})}{f(Y; \\boldsymbol{\\mu'}, \\boldsymbol{\\Sigma'})}\\right]$ où $Y \\sim \\mathcal{N}_{tr}(\\mu', \\Sigma')$ où $\\mu'$ et $\\Sigma'$ ne dépendent pas directement de $\\mu$ et $\\Sigma$ et sont donc constants d'où:\n",
    "\n",
    "$l(x; \\mu; \\Sigma) = -\\dfrac{1}{2}\\left(\\boldsymbol{x}-\\boldsymbol{\\mu}\\right)^\\top\\boldsymbol{\\Sigma}^{-1}\\left(\\boldsymbol{x}-\\boldsymbol{\\mu}\\right) - \\log(\\mathbb{E}\\left[\\dfrac{f(Y; \\boldsymbol{\\mu}, \\boldsymbol{\\Sigma})}{f(Y; \\boldsymbol{\\mu'}, \\boldsymbol{\\Sigma'})}\\right])-\\dfrac{1}{2}\\log(\\left| \\boldsymbol{\\Sigma}\\right|) + Cst $\n",
    "\n",
    "$ = -\\dfrac{1}{2}\\left(\\boldsymbol{x}-\\boldsymbol{\\mu}\\right)^\\top\\boldsymbol{\\Sigma}^{-1}\\left(\\boldsymbol{x}-\\boldsymbol{\\mu}\\right) - \\log(\\dfrac{\\left| \\boldsymbol{\\Sigma'}\\right|^{1/2}}{\\left| \\boldsymbol{\\Sigma}\\right|^{1/2}}\\mathbb{E}\\left[\\exp\\left[\\dfrac{\\left(\\boldsymbol{Y}-\\boldsymbol{\\mu'}\\right)^\\top\\boldsymbol{\\Sigma'}^{-1}\\left(\\boldsymbol{Y}-\\boldsymbol{\\mu'}\\right)-\\left(\\boldsymbol{Y}-\\boldsymbol{\\mu}\\right)^\\top\\boldsymbol{\\Sigma}^{-1}\\left(\\boldsymbol{Y}-\\boldsymbol{\\mu}\\right)}{2}\\right]\\right])-\\dfrac{1}{2}\\log(\\left| \\boldsymbol{\\Sigma}\\right|) + Cst $\n",
    "\n",
    "$ = -\\dfrac{1}{2}\\left(\\boldsymbol{x}-\\boldsymbol{\\mu}\\right)^\\top\\boldsymbol{\\Sigma}^{-1}\\left(\\boldsymbol{x}-\\boldsymbol{\\mu}\\right) - \\log(\\mathbb{E}\\left[\\exp\\left[\\dfrac{\\left(\\boldsymbol{Y}-\\boldsymbol{\\mu'}\\right)^\\top\\boldsymbol{\\Sigma'}^{-1}\\left(\\boldsymbol{Y}-\\boldsymbol{\\mu'}\\right)-\\left(\\boldsymbol{Y}-\\boldsymbol{\\mu}\\right)^\\top\\boldsymbol{\\Sigma}^{-1}\\left(\\boldsymbol{Y}-\\boldsymbol{\\mu}\\right)}{2}\\right]\\right])-\\dfrac{1}{2}\\log(\\left| \\boldsymbol{\\Sigma}\\right|)+\\dfrac{1}{2}\\log(\\left| \\boldsymbol{\\Sigma}\\right|)-\\dfrac{1}{2}\\log(\\left| \\boldsymbol{\\Sigma'}\\right|) + Cst = -\\dfrac{1}{2}\\left(\\boldsymbol{x}-\\boldsymbol{\\mu}\\right)^\\top\\boldsymbol{\\Sigma}^{-1}\\left(\\boldsymbol{x}-\\boldsymbol{\\mu}\\right) - \\log(\\mathbb{E}\\left[\\exp\\left[\\dfrac{\\left(\\boldsymbol{Y}-\\boldsymbol{\\mu'}\\right)^\\top\\boldsymbol{\\Sigma'}^{-1}\\left(\\boldsymbol{Y}-\\boldsymbol{\\mu'}\\right)-\\left(\\boldsymbol{Y}-\\boldsymbol{\\mu}\\right)^\\top\\boldsymbol{\\Sigma}^{-1}\\left(\\boldsymbol{Y}-\\boldsymbol{\\mu}\\right)}{2}\\right]\\right]) + Cst$\n",
    "\n",
    "On approximera ensuite $\\mathbb{E}\\left[\\exp\\left[\\dfrac{\\left(\\boldsymbol{Y}-\\boldsymbol{\\mu'}\\right)^\\top\\boldsymbol{\\Sigma'}^{-1}\\left(\\boldsymbol{Y}-\\boldsymbol{\\mu'}\\right)-\\left(\\boldsymbol{Y}-\\boldsymbol{\\mu}\\right)^\\top\\boldsymbol{\\Sigma}^{-1}\\left(\\boldsymbol{Y}-\\boldsymbol{\\mu}\\right)}{2}\\right]\\right]$ par: $\\dfrac{1}{m}\\displaystyle \\sum_{i = 1}^{m} \\exp\\left[\\dfrac{\\left(\\boldsymbol{Y_i}-\\boldsymbol{\\mu'}\\right)^\\top\\boldsymbol{\\Sigma'}^{-1}\\left(\\boldsymbol{Y_i}-\\boldsymbol{\\mu'}\\right)-\\left(\\boldsymbol{Y_i}-\\boldsymbol{\\mu}\\right)^\\top\\boldsymbol{\\Sigma}^{-1}\\left(\\boldsymbol{Y_i}-\\boldsymbol{\\mu}\\right)}{2}\\right]$\n",
    "\n",
    "Finalement on cherche à minimiser:\n",
    "\n",
    "$L(\\mu, \\Sigma) = \\displaystyle \\sum_{i = 1}^{n} \\dfrac{1}{2}\\left(\\boldsymbol{X_i}-\\boldsymbol{\\mu}\\right)^\\top\\boldsymbol{\\Sigma}^{-1}\\left(\\boldsymbol{X_i}-\\boldsymbol{\\mu}\\right) + \\log(\\displaystyle \\sum_{j = 1}^{m} \\exp\\left[\\dfrac{\\left(\\boldsymbol{Y_j}-\\boldsymbol{\\mu'}\\right)^\\top\\boldsymbol{\\Sigma'}^{-1}\\left(\\boldsymbol{Y_j}-\\boldsymbol{\\mu'}\\right)-\\left(\\boldsymbol{Y_j}-\\boldsymbol{\\mu}\\right)^\\top\\boldsymbol{\\Sigma}^{-1}\\left(\\boldsymbol{Y_j}-\\boldsymbol{\\mu}\\right)}{2}\\right])$, on a, en particulier, les dérivées suivantes:\n",
    "\n",
    "$\\dfrac{\\partial L}{\\partial \\mu}(\\mu, \\Sigma) = \\displaystyle \\sum_{i = 1}^{n} - \\left(\\boldsymbol{X_i}-\\boldsymbol{\\mu}\\right)^\\top\\boldsymbol{\\Sigma}^{-1} + \\dfrac{\\displaystyle \\sum_{j = 1}^{m} \\left(\\boldsymbol{Y_j}-\\boldsymbol{\\mu}\\right)^\\top\\boldsymbol{\\Sigma}^{-1}\\exp\\left[\\dfrac{\\left(\\boldsymbol{Y_j}-\\boldsymbol{\\mu'}\\right)^\\top\\boldsymbol{\\Sigma'}^{-1}\\left(\\boldsymbol{Y_j}-\\boldsymbol{\\mu'}\\right)-\\left(\\boldsymbol{Y_j}-\\boldsymbol{\\mu}\\right)^\\top\\boldsymbol{\\Sigma}^{-1}\\left(\\boldsymbol{Y_j}-\\boldsymbol{\\mu}\\right)}{2}\\right]}{\\displaystyle \\sum_{j = 1}^{m} \\exp\\left[\\dfrac{\\left(\\boldsymbol{Y_j}-\\boldsymbol{\\mu'}\\right)^\\top\\boldsymbol{\\Sigma'}^{-1}\\left(\\boldsymbol{Y_j}-\\boldsymbol{\\mu'}\\right)-\\left(\\boldsymbol{Y_j}-\\boldsymbol{\\mu}\\right)^\\top\\boldsymbol{\\Sigma}^{-1}\\left(\\boldsymbol{Y_j}-\\boldsymbol{\\mu}\\right)}{2}\\right]}$\n",
    "\n",
    "$\\dfrac{\\partial L}{\\partial \\sigma_{ij}}(\\mu, \\Sigma) = \\displaystyle \\sum_{i = 1}^{n} -\\dfrac{1}{2}\\left(\\boldsymbol{X_i}-\\boldsymbol{\\mu}\\right)^\\top C(\\boldsymbol{\\Sigma})\\left(\\boldsymbol{X_i}-\\boldsymbol{\\mu}\\right) + \\dfrac{\\displaystyle \\sum_{j = 1}^{m} \\dfrac{1}{2}\\left(\\boldsymbol{Y_j}-\\boldsymbol{\\mu}\\right)^\\top C(\\boldsymbol{\\Sigma})\\left(\\boldsymbol{Y_j}-\\boldsymbol{\\mu}\\right)\\exp\\left[\\dfrac{\\left(\\boldsymbol{Y_j}-\\boldsymbol{\\mu'}\\right)^\\top\\boldsymbol{\\Sigma'}^{-1}\\left(\\boldsymbol{Y_j}-\\boldsymbol{\\mu'}\\right)-\\left(\\boldsymbol{Y_j}-\\boldsymbol{\\mu}\\right)^\\top\\boldsymbol{\\Sigma}^{-1}\\left(\\boldsymbol{Y_j}-\\boldsymbol{\\mu}\\right)}{2}\\right]}{\\displaystyle \\sum_{j = 1}^{m} \\exp\\left[\\dfrac{\\left(\\boldsymbol{Y_j}-\\boldsymbol{\\mu'}\\right)^\\top\\boldsymbol{\\Sigma'}^{-1}\\left(\\boldsymbol{Y_j}-\\boldsymbol{\\mu'}\\right)-\\left(\\boldsymbol{Y_j}-\\boldsymbol{\\mu}\\right)^\\top\\boldsymbol{\\Sigma}^{-1}\\left(\\boldsymbol{Y_j}-\\boldsymbol{\\mu}\\right)}{2}\\right]}$ \n",
    "\n",
    "où $C(\\boldsymbol{\\Sigma}) =  \\boldsymbol{\\Sigma}^{-1}\\dfrac{\\partial \\boldsymbol{\\Sigma}}{\\partial \\sigma_{ij}}\\boldsymbol{\\Sigma}^{-1}$."
   ]
  },
  {
   "cell_type": "code",
   "execution_count": 5,
   "metadata": {},
   "outputs": [],
   "source": [
    "def OP(Y, mu, Sigma_inv):\n",
    "    return(np.dot(np.dot(Y-mu, Sigma_inv), np.transpose(Y-mu))/2)\n",
    "\n",
    "Stock = np.array([OP(Yi, mu_prime, Q_prime) for Yi in Y])"
   ]
  },
  {
   "cell_type": "code",
   "execution_count": 51,
   "metadata": {},
   "outputs": [],
   "source": [
    "def Transform(P, d):\n",
    "    M = np.zeros((d, d))\n",
    "    for i in range(d):\n",
    "        M[i, :i+1] = P[int(i*(i+1)/2): int(i*(i+1)/2)+i+1]\n",
    "    return(M)\n",
    "\n",
    "def Transform_inv(M):\n",
    "    return(list(np.concatenate([M[i, :i+1] for i in range(M.shape[0])])))"
   ]
  },
  {
   "cell_type": "code",
   "execution_count": 52,
   "metadata": {},
   "outputs": [
    {
     "data": {
      "text/plain": [
       "[1.0, 2.0, 3.0, 4.0, 5.0, 6.0]"
      ]
     },
     "execution_count": 52,
     "metadata": {},
     "output_type": "execute_result"
    }
   ],
   "source": [
    "P = [1,2,3,4,5,6]\n",
    "Transform_inv(Transfor(P, 3))"
   ]
  },
  {
   "cell_type": "code",
   "execution_count": 64,
   "metadata": {},
   "outputs": [],
   "source": [
    "K = np.linalg.cholesky(Sigma_0)"
   ]
  },
  {
   "cell_type": "code",
   "execution_count": 66,
   "metadata": {},
   "outputs": [
    {
     "data": {
      "text/plain": [
       "[1.4142135623730951, 0.0, 1.4142135623730951]"
      ]
     },
     "execution_count": 66,
     "metadata": {},
     "output_type": "execute_result"
    }
   ],
   "source": [
    "Transform_inv(K)"
   ]
  },
  {
   "cell_type": "code",
   "execution_count": 35,
   "metadata": {},
   "outputs": [
    {
     "data": {
      "text/plain": [
       "array([0.])"
      ]
     },
     "execution_count": 35,
     "metadata": {},
     "output_type": "execute_result"
    }
   ],
   "source": [
    "Test = np.zeros((2,2))\n",
    "Test[0,:1]"
   ]
  },
  {
   "cell_type": "code",
   "execution_count": 62,
   "metadata": {},
   "outputs": [],
   "source": [
    "def l(P, X, Y, Stock):\n",
    "    mu = P[:d]\n",
    "    K = Transform(P[d:], d)\n",
    "    Sigma = np.dot(K, K.T)\n",
    "    Q = np.linalg.inv(Sigma)\n",
    "    return(np.sum(np.dot(X-mu, Q)*(X-mu))/2+X.shape[0]*np.log(np.sum(np.exp(Stock-np.sum(np.dot(Y-mu, Q)*(Y-mu), axis = 1)/2))))"
   ]
  },
  {
   "cell_type": "code",
   "execution_count": null,
   "metadata": {},
   "outputs": [],
   "source": []
  },
  {
   "cell_type": "code",
   "execution_count": null,
   "metadata": {},
   "outputs": [],
   "source": [
    "np.array([-np.dot(np.dot(Yi-mu, Q), np.transpose(Yi-mu))/2 for Yi in Y])"
   ]
  },
  {
   "cell_type": "code",
   "execution_count": 19,
   "metadata": {},
   "outputs": [
    {
     "data": {
      "text/plain": [
       "4511.545916075813"
      ]
     },
     "execution_count": 19,
     "metadata": {},
     "output_type": "execute_result"
    }
   ],
   "source": [
    "np.sum([OP(Xi, mu, Q) for Xi in X])"
   ]
  },
  {
   "cell_type": "code",
   "execution_count": 21,
   "metadata": {},
   "outputs": [
    {
     "data": {
      "text/plain": [
       "43433.29047379688"
      ]
     },
     "execution_count": 21,
     "metadata": {},
     "output_type": "execute_result"
    }
   ],
   "source": [
    "np.sum(np.exp(Stock-np.sum(np.dot(Y-mu, Q)*(Y-mu), axis = 1)/2))"
   ]
  },
  {
   "cell_type": "code",
   "execution_count": 23,
   "metadata": {},
   "outputs": [
    {
     "data": {
      "text/plain": [
       "43433.29047379688"
      ]
     },
     "execution_count": 23,
     "metadata": {},
     "output_type": "execute_result"
    }
   ],
   "source": [
    "np.sum(np.exp(Stock-np.array([OP(Yi, mu, Q) for Yi in Y])))"
   ]
  },
  {
   "cell_type": "code",
   "execution_count": 20,
   "metadata": {},
   "outputs": [
    {
     "data": {
      "text/plain": [
       "4511.545916075812"
      ]
     },
     "execution_count": 20,
     "metadata": {},
     "output_type": "execute_result"
    }
   ],
   "source": [
    "np.sum(np.dot(X-mu, Q)*(X-mu))/2"
   ]
  },
  {
   "cell_type": "code",
   "execution_count": 6,
   "metadata": {},
   "outputs": [
    {
     "data": {
      "text/plain": [
       "43433.29047379688"
      ]
     },
     "execution_count": 6,
     "metadata": {},
     "output_type": "execute_result"
    }
   ],
   "source": [
    "np.sum(np.exp(Stock-np.sum(np.dot(Y-mu, Q)*(Y-mu), axis = 1)/2))"
   ]
  },
  {
   "cell_type": "code",
   "execution_count": 8,
   "metadata": {},
   "outputs": [
    {
     "data": {
      "text/plain": [
       "4511.545916075813"
      ]
     },
     "execution_count": 8,
     "metadata": {},
     "output_type": "execute_result"
    }
   ],
   "source": [
    "np.sum(np.array([np.dot(np.dot(Xi-mu, Q), np.transpose(Xi-mu))/2 for Xi in X]))"
   ]
  },
  {
   "cell_type": "code",
   "execution_count": 9,
   "metadata": {},
   "outputs": [
    {
     "data": {
      "text/plain": [
       "-4511.545916075812"
      ]
     },
     "execution_count": 9,
     "metadata": {},
     "output_type": "execute_result"
    }
   ],
   "source": [
    "-np.sum(np.dot(X-mu, Q)*(X-mu))/2"
   ]
  },
  {
   "cell_type": "code",
   "execution_count": 7,
   "metadata": {},
   "outputs": [
    {
     "data": {
      "text/plain": [
       "43433.29047379688"
      ]
     },
     "execution_count": 7,
     "metadata": {},
     "output_type": "execute_result"
    }
   ],
   "source": [
    "np.sum(np.exp(Stock+np.array([-np.dot(np.dot(Yi-mu, Q), np.transpose(Yi-mu))/2 for Yi in Y])))"
   ]
  },
  {
   "cell_type": "code",
   "execution_count": 17,
   "metadata": {},
   "outputs": [
    {
     "data": {
      "text/plain": [
       "-52249.11004380018"
      ]
     },
     "execution_count": 17,
     "metadata": {},
     "output_type": "execute_result"
    }
   ],
   "source": [
    "np.sum(np.array([-np.dot(np.dot(Yi-mu, Q), np.transpose(Yi-mu))/2 for Yi in Y]))"
   ]
  },
  {
   "cell_type": "code",
   "execution_count": 13,
   "metadata": {},
   "outputs": [
    {
     "data": {
      "text/plain": [
       "array([[ 1.22264722,  0.35717143],\n",
       "       [-1.02306381,  0.86137696],\n",
       "       [ 1.62110636,  0.87001096],\n",
       "       ...,\n",
       "       [ 2.02512131,  3.58202772],\n",
       "       [-0.3148741 ,  0.04598603],\n",
       "       [ 1.41578068,  0.24304217]])"
      ]
     },
     "execution_count": 13,
     "metadata": {},
     "output_type": "execute_result"
    }
   ],
   "source": [
    "(Y-mu)"
   ]
  },
  {
   "cell_type": "code",
   "execution_count": 11,
   "metadata": {},
   "outputs": [],
   "source": [
    "def dSigma_ij(Sigma, Q, i, j):\n",
    "    d = Sigma.shape[0]\n",
    "    dSigma = np.zeros((d,d))\n",
    "    dSigma[i, j] = 1\n",
    "    return(np.dot(np.dot(Q, dSigma),Q))\n",
    "\n",
    "def dl_ij(mu, Sigma, Q, Stock_expY, i, j):\n",
    "    dS_ij = dSigma_ij(Sigma, Q, i, j)\n",
    "    Stock_X = np.array([-OP(Xi, mu, dS_ij) for Xi in X])\n",
    "    Stock_Y = np.array([OP(Yi, mu, dS_ij) for Yi in Y])\n",
    "    Somme = np.sum(Stock_X+np.sum(Stock_Y*np.exp(Stock_expY))/np.sum(np.exp(Stock_expY)))\n",
    "    return(Somme)\n",
    "\n",
    "def dl_mu(mu, Sigma, Q, Stock_expY):\n",
    "    Stock_X = np.array([-np.dot(Xi-mu, Q) for Xi in X])\n",
    "    Stock_Y = np.array([np.dot(Yi-mu, Q) for Yi in Y])\n",
    "    Stock_Y_T = np.array([Stock_Y[i]*np.exp(Stock_expY[i]) for i in range(len(Stock_Y))])\n",
    "    Somme = np.sum(Stock_X, axis = 0)+len(Stock_X)*np.sum(Stock_Y_T, axis = 0)/np.sum(np.exp(Stock_expY))\n",
    "    return(Somme)\n",
    "\n",
    "def Jacob_l(P):\n",
    "    mu = P[:d]\n",
    "    Sigma = P[d:].reshape(d, d)\n",
    "    Q = np.linalg.inv(Sigma)\n",
    "    Stock_expY = Stock+np.array([-OP(Yi, mu, Q) for Yi in Y])\n",
    "    result = np.concatenate((dl_mu(mu, Sigma, Q, Stock_expY), [dl_ij(mu, Sigma, Q, Stock_expY, i, j) for j in range(d) for i in range(d)]))\n",
    "    return(result)"
   ]
  },
  {
   "cell_type": "code",
   "execution_count": 12,
   "metadata": {},
   "outputs": [],
   "source": [
    "mu_0 = np.array([2,-1])\n",
    "Sigma_0 = np.array([[1,2],\n",
    "                    [2,1]])"
   ]
  },
  {
   "cell_type": "code",
   "execution_count": 59,
   "metadata": {},
   "outputs": [],
   "source": [
    "Sigma_0 = 2*np.eye(2,2)"
   ]
  },
  {
   "cell_type": "code",
   "execution_count": 58,
   "metadata": {},
   "outputs": [
    {
     "data": {
      "text/plain": [
       "array([[1., 0.],\n",
       "       [0., 1.]])"
      ]
     },
     "execution_count": 58,
     "metadata": {},
     "output_type": "execute_result"
    }
   ],
   "source": [
    "S_0 = np.eye(2,2)\n",
    "S_0"
   ]
  },
  {
   "cell_type": "code",
   "execution_count": 71,
   "metadata": {
    "scrolled": false
   },
   "outputs": [
    {
     "name": "stdout",
     "output_type": "stream",
     "text": [
      "[3 0]\n",
      "[3.01560486 0.13014538]\n",
      "\n",
      "\n",
      "[[2.021941   0.26647614]\n",
      " [0.26647614 3.65809926]]\n",
      "[[2.  0.3]\n",
      " [0.3 4. ]]\n",
      "durée =  0.5611560344696045  sec\n"
     ]
    }
   ],
   "source": [
    "P0 = np.concatenate((mu_0, Transform_inv(K)))\n",
    "start = time.time()\n",
    "res = minimize(l, P0, method = 'BFGS', args = (X, Y, Stock))\n",
    "end = time.time()\n",
    "K_find = Transform(res.x[d:], 2)\n",
    "print(mu)\n",
    "print(res.x[:d])\n",
    "print('\\n')\n",
    "print(np.dot(K_find, K_find.T))\n",
    "print(Sigma)\n",
    "\n",
    "print(\"durée = \", end-start, \" sec\")"
   ]
  },
  {
   "cell_type": "code",
   "execution_count": 70,
   "metadata": {},
   "outputs": [
    {
     "data": {
      "text/plain": [
       "      fun: 55234.61286120346\n",
       " hess_inv: array([[ 1.02260513e-03, -3.30971120e-04, -1.61337967e-04,\n",
       "        -5.01452934e-04,  3.05650482e-04],\n",
       "       [-3.30971120e-04,  3.32836592e-04, -1.37380447e-04,\n",
       "         1.91360636e-04, -2.10187217e-04],\n",
       "       [-1.61337967e-04, -1.37380447e-04,  2.39638057e-04,\n",
       "         1.04410590e-04, -4.21500246e-05],\n",
       "       [-5.01452934e-04,  1.91360636e-04,  1.04410590e-04,\n",
       "         3.07466528e-04, -2.50562915e-04],\n",
       "       [ 3.05650482e-04, -2.10187217e-04, -4.21500246e-05,\n",
       "        -2.50562915e-04,  4.77479072e-04]])\n",
       "      jac: array([0.00048828, 0.        , 0.        , 0.00048828, 0.        ])\n",
       "  message: 'Desired error not necessarily achieved due to precision loss.'\n",
       "     nfev: 190\n",
       "      nit: 19\n",
       "     njev: 27\n",
       "   status: 2\n",
       "  success: False\n",
       "        x: array([3.01560486, 0.13014538, 1.42194972, 0.18740194, 1.90341267])"
      ]
     },
     "execution_count": 70,
     "metadata": {},
     "output_type": "execute_result"
    }
   ],
   "source": [
    "res"
   ]
  },
  {
   "cell_type": "code",
   "execution_count": 30,
   "metadata": {},
   "outputs": [
    {
     "data": {
      "text/plain": [
       "55236.70798243858"
      ]
     },
     "execution_count": 30,
     "metadata": {},
     "output_type": "execute_result"
    }
   ],
   "source": [
    "l(np.concatenate((mu, Sigma.flatten())), X, Y, Stock)"
   ]
  },
  {
   "cell_type": "code",
   "execution_count": 179,
   "metadata": {},
   "outputs": [],
   "source": [
    "d = 2\n",
    "n = 10526\n",
    "mu = np.array([3,0])\n",
    "Sigma = np.array([[2,0],[0,4]])\n",
    "Q = np.linalg.inv(Sigma)\n",
    "X0 = expon.rvs(size = d)\n",
    "X = Gibbs_Sampler(n, mu, Sigma, X0)\n",
    "\n",
    "m = n\n",
    "mu_prime = np.array([6,-1])\n",
    "Sigma_prime = np.array([[5,0],[0,2]])\n",
    "Q_prime = np.linalg.inv(Sigma_prime)\n",
    "Y0 = expon.rvs(size = d)\n",
    "Y = Gibbs_Sampler(n, mu_prime, Sigma_prime, Y0)"
   ]
  },
  {
   "cell_type": "code",
   "execution_count": 150,
   "metadata": {},
   "outputs": [],
   "source": [
    "from scipy.stats import multivariate_normal"
   ]
  },
  {
   "cell_type": "code",
   "execution_count": 180,
   "metadata": {},
   "outputs": [],
   "source": [
    "I = (1-norm.cdf(0,3,np.sqrt(2)))*(1-norm.cdf(0,0,np.sqrt(4)))"
   ]
  },
  {
   "cell_type": "code",
   "execution_count": 185,
   "metadata": {},
   "outputs": [],
   "source": [
    "LOL = (1-norm.cdf(0,6,np.sqrt(5)))*(1-norm.cdf(0,-1,np.sqrt(2)))"
   ]
  },
  {
   "cell_type": "code",
   "execution_count": 181,
   "metadata": {},
   "outputs": [
    {
     "data": {
      "text/plain": [
       "0.4915262866188277"
      ]
     },
     "execution_count": 181,
     "metadata": {},
     "output_type": "execute_result"
    }
   ],
   "source": [
    "I"
   ]
  },
  {
   "cell_type": "code",
   "execution_count": 186,
   "metadata": {},
   "outputs": [],
   "source": [
    "Test_Exp = LOL*\\\n",
    "            np.mean([np.exp(OP(Yi, mu_prime, Q_prime)-OP(Yi, mu, Q))*\\\n",
    "                     np.sqrt(np.linalg.det(Sigma_prime))/np.sqrt(np.linalg.det(Sigma)) for Yi in Y])"
   ]
  },
  {
   "cell_type": "code",
   "execution_count": 187,
   "metadata": {},
   "outputs": [
    {
     "data": {
      "text/plain": [
       "0.4641638156569653"
      ]
     },
     "execution_count": 187,
     "metadata": {},
     "output_type": "execute_result"
    }
   ],
   "source": [
    "Test_Exp"
   ]
  },
  {
   "cell_type": "markdown",
   "metadata": {},
   "source": [
    "$\\dfrac{Z(\\boldsymbol{\\mu}, \\boldsymbol{\\Sigma})}{Z(\\boldsymbol{\\mu'}, \\boldsymbol{\\Sigma'})} = \\dfrac{1}{Z(\\boldsymbol{\\mu'}, \\boldsymbol{\\Sigma'})}\\int_{}^{} \\dfrac{1}\n",
    "{(2\\pi)^{N/2} \\left| \\boldsymbol{\\Sigma}\\right|^{1/2}}\\;\\exp\\left[\n",
    "-\\dfrac{1}{2}\\left(\\boldsymbol{x}-\\boldsymbol{\\mu}\\right)^\\top\\boldsymbol{\\Sigma}^{-1}\\left(\\boldsymbol{x}-\\boldsymbol{\\mu}\\right)\\right] \\, \\mathbb{1}_{x > 0}\\mathrm{d}x = \\dfrac{1}{Z(\\boldsymbol{\\mu'}, \\boldsymbol{\\Sigma'})}\\int_{}^{} \n",
    "f(x; \\boldsymbol{\\mu}, \\boldsymbol{\\Sigma}) \\mathbb{1}_{x > 0}\\mathrm{d}x$"
   ]
  }
 ],
 "metadata": {
  "kernelspec": {
   "display_name": "Python 3",
   "language": "python",
   "name": "python3"
  },
  "language_info": {
   "codemirror_mode": {
    "name": "ipython",
    "version": 3
   },
   "file_extension": ".py",
   "mimetype": "text/x-python",
   "name": "python",
   "nbconvert_exporter": "python",
   "pygments_lexer": "ipython3",
   "version": "3.6.8"
  },
  "latex_envs": {
   "LaTeX_envs_menu_present": true,
   "autoclose": false,
   "autocomplete": true,
   "bibliofile": "biblio.bib",
   "cite_by": "apalike",
   "current_citInitial": 1,
   "eqLabelWithNumbers": true,
   "eqNumInitial": 1,
   "hotkeys": {
    "equation": "Ctrl-E",
    "itemize": "Ctrl-I"
   },
   "labels_anchors": false,
   "latex_user_defs": false,
   "report_style_numbering": false,
   "user_envs_cfg": false
  },
  "varInspector": {
   "cols": {
    "lenName": 16,
    "lenType": 16,
    "lenVar": 40
   },
   "kernels_config": {
    "python": {
     "delete_cmd_postfix": "",
     "delete_cmd_prefix": "del ",
     "library": "var_list.py",
     "varRefreshCmd": "print(var_dic_list())"
    },
    "r": {
     "delete_cmd_postfix": ") ",
     "delete_cmd_prefix": "rm(",
     "library": "var_list.r",
     "varRefreshCmd": "cat(var_dic_list()) "
    }
   },
   "types_to_exclude": [
    "module",
    "function",
    "builtin_function_or_method",
    "instance",
    "_Feature"
   ],
   "window_display": false
  }
 },
 "nbformat": 4,
 "nbformat_minor": 2
}
