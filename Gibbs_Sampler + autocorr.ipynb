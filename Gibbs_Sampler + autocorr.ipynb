{
 "cells": [
  {
   "cell_type": "code",
   "execution_count": 1,
   "metadata": {},
   "outputs": [],
   "source": [
    "import numpy as np\n",
    "import matplotlib.pyplot as plt\n",
    "import time\n",
    "from scipy.stats import uniform\n",
    "from scipy.stats import norm\n",
    "from scipy.stats import expon\n",
    "from scipy.optimize import minimize\n",
    "from mpl_toolkits import mplot3d\n",
    "%matplotlib inline"
   ]
  },
  {
   "cell_type": "code",
   "execution_count": 195,
   "metadata": {},
   "outputs": [],
   "source": [
    "def Z(mu, sigma):\n",
    "    return(norm.cdf(mu/sigma))\n",
    "\n",
    "def M1(mu, sigma):\n",
    "    return(1/Z(mu, sigma))\n",
    "\n",
    "def AR_Norm_Simple(mu, sigma):\n",
    "    X = -1\n",
    "    M = M1(mu, sigma)\n",
    "    while(X == -1):\n",
    "        Y = mu+sigma*norm.rvs()\n",
    "        if(Y > 0):\n",
    "            X = Y\n",
    "    return(X) \n",
    "\n",
    "def params(i, mu, Q, X):\n",
    "    mu_x = mu[i]-np.sum([Q[i,j]*(X[j]-mu[j]) for j in range(len(mu)) if j != i])/Q[i,i]\n",
    "    sigma_squared_x = 1/Q[i,i]\n",
    "    return(mu_x, sigma_squared_x)\n",
    "\n",
    "def Gibbs_Sampler(n, mu, Sigma, X0):\n",
    "    d = len(mu)\n",
    "    Q = np.linalg.inv(Sigma)\n",
    "    X = [list(X0)]\n",
    "    for _n in range(n):\n",
    "        for i in range(d):\n",
    "            mu_x, s_s_x = params(i, mu, Q, X0)\n",
    "            X0[i] = AR_Norm_Simple(mu_x, np.sqrt(s_s_x))\n",
    "        X.append(list(X0))\n",
    "    return(np.array(X))\n",
    "\n",
    "def plot_Gibbs(X, mu, Sigma):\n",
    "    d = len(mu)\n",
    "    fig, axs = plt.subplots(d, figsize = (10,15))\n",
    "    x = np.linspace(0, 50, 10000)\n",
    "    for t in range(d):\n",
    "        y = norm.pdf(x, loc = mu[t], scale = np.sqrt(Sigma[t,t]))/Z(mu[t], np.sqrt(Sigma[t,t]))\n",
    "        axs[t].hist(X[5000:,t], density = True, bins = 40, label = \"Histogramme des simulations\")\n",
    "        axs[t].plot(x, y, label = \"Densité théorique\")\n",
    "    fig.suptitle('Densités théoriques et pratiques', y = 0.9)\n",
    "    \n",
    "def autocorr(X, t):\n",
    "    X_t = np.transpose(X)\n",
    "    if(t == 0):\n",
    "        return(np.corrcoef(X_t[:,:],X_t[:,:]))\n",
    "    return(np.corrcoef(X_t[:,t:],X_t[:,:-t]))\n",
    "\n",
    "def graph_autocorr(X, t = 50):\n",
    "    Lags = [_n for _n in range(t+1)]\n",
    "    d = X.shape[1]\n",
    "    fig, axs = plt.subplots(d, figsize = (10,15))\n",
    "    for _d in range(d):\n",
    "        Auto = [autocorr(X, lag)[_d,_d+3] for lag in Lags]\n",
    "        axs[_d].plot([-int(t/50),t+int(t/50)],[0,0], color = 'black')\n",
    "        axs[_d].plot([-int(t/50),t+int(t/50)],[0.2,0.2], color = 'blue', linestyle='dashed')\n",
    "        axs[_d].plot([-int(t/50),t+int(t/50)],[-0.2,-0.2], color = 'blue', linestyle='dashed')\n",
    "        for i in range(len(Auto)):\n",
    "            axs[_d].plot([Lags[i], Lags[i]], [0, Auto[i]], color = 'black')\n",
    "        axs[_d].axis([-int(t/50),t+int(t/50),min(Auto)-0.1,max(Auto)+0.1])\n",
    "    fig.suptitle('Graphes des autocorrélations', y = 0.9)\n",
    "    \n",
    "def densité(X, mu, Sigma):\n",
    "    return((np.exp(-(X-mu)*np.linalg.inv(Sigma)*np.transpose(X-mu)+np.exp(-(X-mu)*np.linalg.inv(Sigma_prime)*np.transpose(X-mu))/2)/((2*np.pi)**(len(mu)/2)*np.linalg.det(Sigma)**(0.5))))"
   ]
  },
  {
   "cell_type": "code",
   "execution_count": 196,
   "metadata": {},
   "outputs": [],
   "source": [
    "n = 10000\n",
    "mu_prime = np.array([2.,2.,2.])\n",
    "Sigma_prime = np.array([[2.,1.,1.],\n",
    "                        [1.,3.,1.],\n",
    "                        [1.,1.,4.]])\n",
    "Y0 = expon.rvs(size = 3)\n",
    "Y = Gibbs_Sampler(n, mu_prime, Sigma_prime, Y0)\n",
    "#plot_Gibbs(Y, mu_prime, Sigma_prime)\n",
    "#graph_autocorr(Y)"
   ]
  },
  {
   "cell_type": "code",
   "execution_count": 197,
   "metadata": {},
   "outputs": [],
   "source": [
    "mu = np.array([1.,2.,3.])\n",
    "Sigma = np.array([[3.,0.,1.],\n",
    "                  [0.,4.,2.],\n",
    "                  [1.,2.,5.]])\n",
    "X0 = expon.rvs(size = 3)\n",
    "X = Gibbs_Sampler(n, mu, Sigma, X0)\n",
    "#plot_Gibbs(X, mu, Sigma)\n",
    "#graph_autocorr(X)"
   ]
  },
  {
   "cell_type": "code",
   "execution_count": 198,
   "metadata": {},
   "outputs": [],
   "source": [
    "d = 3"
   ]
  },
  {
   "cell_type": "code",
   "execution_count": 222,
   "metadata": {},
   "outputs": [],
   "source": [
    "Q_prime = np.linalg.inv(Sigma_prime)\n",
    "Stock = [np.dot(np.dot((Yi-mu_prime),Q_prime), np.transpose(Yi-mu_prime))/2 for Yi in Y]"
   ]
  },
  {
   "cell_type": "markdown",
   "metadata": {},
   "source": [
    "$l(x; \\mu; \\Sigma) = \\log(\\dfrac{1}\n",
    "{Z(\\boldsymbol{\\mu}, \\boldsymbol{\\Sigma})(2\\pi)^{N/2} \\left| \\boldsymbol{\\Sigma}\\right|^{1/2}}\\exp\\left[\n",
    "-\\dfrac{1}{2}\\left(\\boldsymbol{x}-\\boldsymbol{\\mu}\\right)^\\top\\boldsymbol{\\Sigma}^{-1}\\left(\\boldsymbol{x}-\\boldsymbol{\\mu}\\right)\\right] \\, \\mathbb{1}_{x > 0})$"
   ]
  },
  {
   "cell_type": "markdown",
   "metadata": {},
   "source": [
    "$l(x; \\mu; \\Sigma) = -\\dfrac{1}{2}\\left(\\boldsymbol{x}-\\boldsymbol{\\mu}\\right)^\\top\\boldsymbol{\\Sigma}^{-1}\\left(\\boldsymbol{x}-\\boldsymbol{\\mu}\\right) - \\log(Z(\\boldsymbol{\\mu}, \\boldsymbol{\\Sigma}))-\\dfrac{1}{2}\\log(\\left| \\boldsymbol{\\Sigma}\\right|) + Cst$\n",
    "\n",
    "$l(x; \\mu; \\Sigma) = -\\dfrac{1}{2}\\left(\\boldsymbol{x}-\\boldsymbol{\\mu}\\right)^\\top\\boldsymbol{\\Sigma}^{-1}\\left(\\boldsymbol{x}-\\boldsymbol{\\mu}\\right) - \\log(\\dfrac{Z(\\boldsymbol{\\mu}, \\boldsymbol{\\Sigma})}{Z(\\boldsymbol{\\mu'}, \\boldsymbol{\\Sigma'})}Z(\\boldsymbol{\\mu'}, \\boldsymbol{\\Sigma'}))-\\dfrac{1}{2}\\log(\\left| \\boldsymbol{\\Sigma}\\right|) + Cst$\n",
    "\n",
    "or $\\dfrac{Z(\\boldsymbol{\\mu}, \\boldsymbol{\\Sigma})}{Z(\\boldsymbol{\\mu'}, \\boldsymbol{\\Sigma'})} = \\dfrac{1}{Z(\\boldsymbol{\\mu'}, \\boldsymbol{\\Sigma'})}\\int_{}^{} \\dfrac{1}\n",
    "{(2\\pi)^{N/2} \\left| \\boldsymbol{\\Sigma}\\right|^{1/2}}\\;\\exp\\left[\n",
    "-\\dfrac{1}{2}\\left(\\boldsymbol{x}-\\boldsymbol{\\mu}\\right)^\\top\\boldsymbol{\\Sigma}^{-1}\\left(\\boldsymbol{x}-\\boldsymbol{\\mu}\\right)\\right] \\, \\mathbb{1}_{x > 0}\\mathrm{d}x = \\dfrac{1}{Z(\\boldsymbol{\\mu'}, \\boldsymbol{\\Sigma'})}\\int_{}^{} \n",
    "f(x; \\boldsymbol{\\mu}, \\boldsymbol{\\Sigma}) \\mathbb{1}_{x > 0}\\mathrm{d}x$\n",
    "\n",
    "$ = \\dfrac{1}{Z(\\boldsymbol{\\mu'}, \\boldsymbol{\\Sigma'})}\\int_{}^{} \n",
    "\\dfrac{f(x; \\boldsymbol{\\mu}, \\boldsymbol{\\Sigma})}{f(x; \\boldsymbol{\\mu'}, \\boldsymbol{\\Sigma'})}f(x; \\boldsymbol{\\mu'}, \\boldsymbol{\\Sigma'}) \\mathbb{1}_{x > 0}\\mathrm{d}x = \\mathbb{E}\\left[\\dfrac{f(Y; \\boldsymbol{\\mu}, \\boldsymbol{\\Sigma})}{f(Y; \\boldsymbol{\\mu'}, \\boldsymbol{\\Sigma'})}\\right]$ où $Y \\sim \\mathcal{N}_{tr}(\\mu', \\Sigma')$ où $\\mu'$ et $\\Sigma'$ ne dépendent pas directement de $\\mu$ et $\\Sigma$ et sont donc constants d'où:\n",
    "\n",
    "$l(x; \\mu; \\Sigma) = -\\dfrac{1}{2}\\left(\\boldsymbol{x}-\\boldsymbol{\\mu}\\right)^\\top\\boldsymbol{\\Sigma}^{-1}\\left(\\boldsymbol{x}-\\boldsymbol{\\mu}\\right) - \\log(\\mathbb{E}\\left[\\dfrac{f(Y; \\boldsymbol{\\mu}, \\boldsymbol{\\Sigma})}{f(Y; \\boldsymbol{\\mu'}, \\boldsymbol{\\Sigma'})}\\right])-\\dfrac{1}{2}\\log(\\left| \\boldsymbol{\\Sigma}\\right|) + Cst $\n",
    "\n",
    "$ = -\\dfrac{1}{2}\\left(\\boldsymbol{x}-\\boldsymbol{\\mu}\\right)^\\top\\boldsymbol{\\Sigma}^{-1}\\left(\\boldsymbol{x}-\\boldsymbol{\\mu}\\right) - \\log(\\dfrac{\\left| \\boldsymbol{\\Sigma'}\\right|^{1/2}}{\\left| \\boldsymbol{\\Sigma}\\right|^{1/2}}\\mathbb{E}\\left[\\exp\\left[\\dfrac{\\left(\\boldsymbol{Y}-\\boldsymbol{\\mu'}\\right)^\\top\\boldsymbol{\\Sigma'}^{-1}\\left(\\boldsymbol{Y}-\\boldsymbol{\\mu'}\\right)-\\left(\\boldsymbol{Y}-\\boldsymbol{\\mu}\\right)^\\top\\boldsymbol{\\Sigma}^{-1}\\left(\\boldsymbol{Y}-\\boldsymbol{\\mu}\\right)}{2}\\right]\\right])-\\dfrac{1}{2}\\log(\\left| \\boldsymbol{\\Sigma}\\right|) + Cst $\n",
    "\n",
    "$ = -\\dfrac{1}{2}\\left(\\boldsymbol{x}-\\boldsymbol{\\mu}\\right)^\\top\\boldsymbol{\\Sigma}^{-1}\\left(\\boldsymbol{x}-\\boldsymbol{\\mu}\\right) - \\log(\\mathbb{E}\\left[\\exp\\left[\\dfrac{\\left(\\boldsymbol{Y}-\\boldsymbol{\\mu'}\\right)^\\top\\boldsymbol{\\Sigma'}^{-1}\\left(\\boldsymbol{Y}-\\boldsymbol{\\mu'}\\right)-\\left(\\boldsymbol{Y}-\\boldsymbol{\\mu}\\right)^\\top\\boldsymbol{\\Sigma}^{-1}\\left(\\boldsymbol{Y}-\\boldsymbol{\\mu}\\right)}{2}\\right]\\right])-\\dfrac{1}{2}\\log(\\left| \\boldsymbol{\\Sigma}\\right|)+\\dfrac{1}{2}\\log(\\left| \\boldsymbol{\\Sigma}\\right|)-\\dfrac{1}{2}\\log(\\left| \\boldsymbol{\\Sigma'}\\right|) + Cst = -\\dfrac{1}{2}\\left(\\boldsymbol{x}-\\boldsymbol{\\mu}\\right)^\\top\\boldsymbol{\\Sigma}^{-1}\\left(\\boldsymbol{x}-\\boldsymbol{\\mu}\\right) - \\log(\\mathbb{E}\\left[\\exp\\left[\\dfrac{\\left(\\boldsymbol{Y}-\\boldsymbol{\\mu'}\\right)^\\top\\boldsymbol{\\Sigma'}^{-1}\\left(\\boldsymbol{Y}-\\boldsymbol{\\mu'}\\right)-\\left(\\boldsymbol{Y}-\\boldsymbol{\\mu}\\right)^\\top\\boldsymbol{\\Sigma}^{-1}\\left(\\boldsymbol{Y}-\\boldsymbol{\\mu}\\right)}{2}\\right]\\right]) + Cst$\n",
    "\n",
    "On approximera ensuite $\\mathbb{E}\\left[\\exp\\left[\\dfrac{\\left(\\boldsymbol{Y}-\\boldsymbol{\\mu'}\\right)^\\top\\boldsymbol{\\Sigma'}^{-1}\\left(\\boldsymbol{Y}-\\boldsymbol{\\mu'}\\right)-\\left(\\boldsymbol{Y}-\\boldsymbol{\\mu}\\right)^\\top\\boldsymbol{\\Sigma}^{-1}\\left(\\boldsymbol{Y}-\\boldsymbol{\\mu}\\right)}{2}\\right]\\right]$ par: $\\dfrac{1}{m}\\displaystyle \\sum_{i = 1}^{m} \\exp\\left[\\dfrac{\\left(\\boldsymbol{Y_i}-\\boldsymbol{\\mu'}\\right)^\\top\\boldsymbol{\\Sigma'}^{-1}\\left(\\boldsymbol{Y_i}-\\boldsymbol{\\mu'}\\right)-\\left(\\boldsymbol{Y_i}-\\boldsymbol{\\mu}\\right)^\\top\\boldsymbol{\\Sigma}^{-1}\\left(\\boldsymbol{Y_i}-\\boldsymbol{\\mu}\\right)}{2}\\right]$\n",
    "\n",
    "Finalement on cherche à minimiser:\n",
    "\n",
    "$L(\\mu, \\Sigma) = \\displaystyle \\sum_{i = 1}^{n} \\dfrac{1}{2}\\left(\\boldsymbol{X_i}-\\boldsymbol{\\mu}\\right)^\\top\\boldsymbol{\\Sigma}^{-1}\\left(\\boldsymbol{X_i}-\\boldsymbol{\\mu}\\right) + \\log(\\displaystyle \\sum_{j = 1}^{m} \\exp\\left[\\dfrac{\\left(\\boldsymbol{Y_j}-\\boldsymbol{\\mu'}\\right)^\\top\\boldsymbol{\\Sigma'}^{-1}\\left(\\boldsymbol{Y_j}-\\boldsymbol{\\mu'}\\right)-\\left(\\boldsymbol{Y_j}-\\boldsymbol{\\mu}\\right)^\\top\\boldsymbol{\\Sigma}^{-1}\\left(\\boldsymbol{Y_j}-\\boldsymbol{\\mu}\\right)}{2}\\right])$\n",
    "\n"
   ]
  },
  {
   "cell_type": "markdown",
   "metadata": {},
   "source": [
    "$\\dfrac{\\partial L}{\\partial \\mu}(\\mu, \\Sigma) = -\\displaystyle \\sum_{i = 1}^{n} \\left(\\boldsymbol{X_i}-\\boldsymbol{\\mu}\\right)^\\top\\boldsymbol{\\Sigma}^{-1} + \\dfrac{\\displaystyle \\sum_{j = 1}^{m} \\left(\\boldsymbol{Y_j}-\\boldsymbol{\\mu}\\right)^\\top\\boldsymbol{\\Sigma}^{-1}\\exp\\left[\\dfrac{\\left(\\boldsymbol{Y_j}-\\boldsymbol{\\mu'}\\right)^\\top\\boldsymbol{\\Sigma'}^{-1}\\left(\\boldsymbol{Y_j}-\\boldsymbol{\\mu'}\\right)-\\left(\\boldsymbol{Y_j}-\\boldsymbol{\\mu}\\right)^\\top\\boldsymbol{\\Sigma}^{-1}\\left(\\boldsymbol{Y_j}-\\boldsymbol{\\mu}\\right)}{2}\\right]}{\\displaystyle \\sum_{j = 1}^{m} \\exp\\left[\\dfrac{\\left(\\boldsymbol{Y_j}-\\boldsymbol{\\mu'}\\right)^\\top\\boldsymbol{\\Sigma'}^{-1}\\left(\\boldsymbol{Y_j}-\\boldsymbol{\\mu'}\\right)-\\left(\\boldsymbol{Y_j}-\\boldsymbol{\\mu}\\right)^\\top\\boldsymbol{\\Sigma}^{-1}\\left(\\boldsymbol{Y_j}-\\boldsymbol{\\mu}\\right)}{2}\\right]}$"
   ]
  },
  {
   "cell_type": "code",
   "execution_count": 250,
   "metadata": {},
   "outputs": [
    {
     "data": {
      "text/plain": [
       "-4.389272633489284"
      ]
     },
     "execution_count": 250,
     "metadata": {},
     "output_type": "execute_result"
    }
   ],
   "source": [
    "Q = np.linalg.inv(Sigma)\n",
    "expY = np.array([-OP_chiante(Yi, mu, Q) for Yi in Y])\n",
    "expY_Stock = np.array(expY)+np.array(Stock)\n",
    "SS = np.array([np.sum([(Q[j,0]*(Yi[j]-mu[j])) for j in range(3)]) for Yi in Y])\n",
    "S = np.array([np.sum([(Q[j,0]*(Xi[j]-mu[j])) for j in range(3)]) for Xi in X])\n",
    "np.array(SS)*np.exp(expY)\n",
    "np.sum(-S+(np.sum(SS*np.exp(expY_Stock)))/np.sum(np.exp(expY_Stock)))"
   ]
  },
  {
   "cell_type": "code",
   "execution_count": 241,
   "metadata": {},
   "outputs": [
    {
     "data": {
      "text/plain": [
       "10001"
      ]
     },
     "execution_count": 241,
     "metadata": {},
     "output_type": "execute_result"
    }
   ],
   "source": [
    "len(S+(np.sum(SS*np.exp(expY)))/np.sum(np.exp(expY)))"
   ]
  },
  {
   "cell_type": "code",
   "execution_count": 244,
   "metadata": {},
   "outputs": [
    {
     "data": {
      "text/plain": [
       "array([ 1.05792857,  0.30571089,  0.84152575, ...,  0.54575794,\n",
       "        0.53454416, -0.27900458])"
      ]
     },
     "execution_count": 244,
     "metadata": {},
     "output_type": "execute_result"
    }
   ],
   "source": [
    "(np.sum(SS*np.exp(expY)))/np.sum(np.exp(expY))+S"
   ]
  },
  {
   "cell_type": "code",
   "execution_count": 227,
   "metadata": {},
   "outputs": [],
   "source": [
    "def OP_chiante(Y, mu, Sigma_inv):\n",
    "    return(np.dot(np.dot(Y-mu, Sigma_inv), np.transpose(Y-mu))/2)"
   ]
  },
  {
   "cell_type": "code",
   "execution_count": 231,
   "metadata": {},
   "outputs": [],
   "source": [
    "Stock = np.array([OP_chiante(Yi, mu_prime, Q_prime) for Yi in Y])"
   ]
  },
  {
   "cell_type": "code",
   "execution_count": 351,
   "metadata": {},
   "outputs": [],
   "source": [
    "def l(P):\n",
    "    mu = P[:d]\n",
    "    Sigma_raw = P[d:]\n",
    "    Sigma = np.zeros((d,d))\n",
    "    for i in range(d):\n",
    "        Sigma[i, i:d] = Sigma_raw[int(i*d-(i-1)*(i)/2):int(i*d-(i-1)*(i)/2+d-i)]\n",
    "    Sigma = symmetrize(Sigma)\n",
    "    Q = np.linalg.inv(Sigma)\n",
    "    logexpX = np.array([OP_chiante(Xi, mu, Q) for Xi in X])\n",
    "    expY = np.array([-OP_chiante(Yi, mu, Q) for Yi in Y])\n",
    "    expY_Stock = np.array(Stock)+np.array(expY)\n",
    "    return(np.sum(logexpX+np.log(np.sum(np.exp(expY_Stock)))))"
   ]
  },
  {
   "cell_type": "code",
   "execution_count": 349,
   "metadata": {},
   "outputs": [],
   "source": [
    "Sigma_raw = P0[d:]\n",
    "Sigma_T = np.zeros((d,d))\n",
    "for i in range(d):\n",
    "    a = int(i*d-(i-1)*(i)/2)*(i != 0)\n",
    "    b = int(i*d-(i-1)*(i)/2+d-i)*(i != 0)+d*(i == 0)\n",
    "    Sigma_T[i, i:d] = Sigma_raw[a:b]"
   ]
  },
  {
   "cell_type": "code",
   "execution_count": 350,
   "metadata": {},
   "outputs": [
    {
     "data": {
      "text/plain": [
       "array([[3., 0., 1.],\n",
       "       [0., 4., 2.],\n",
       "       [0., 0., 5.]])"
      ]
     },
     "execution_count": 350,
     "metadata": {},
     "output_type": "execute_result"
    }
   ],
   "source": [
    "Sigma_T"
   ]
  },
  {
   "cell_type": "code",
   "execution_count": 343,
   "metadata": {},
   "outputs": [
    {
     "data": {
      "text/plain": [
       "array([[3., 0., 1.],\n",
       "       [0., 4., 2.],\n",
       "       [1., 2., 5.]])"
      ]
     },
     "execution_count": 343,
     "metadata": {},
     "output_type": "execute_result"
    }
   ],
   "source": [
    "Sigma"
   ]
  },
  {
   "cell_type": "code",
   "execution_count": 353,
   "metadata": {},
   "outputs": [
    {
     "data": {
      "text/plain": [
       "array([3., 0., 1., 4., 2., 5.])"
      ]
     },
     "execution_count": 353,
     "metadata": {},
     "output_type": "execute_result"
    }
   ],
   "source": [
    "Sigma_raw"
   ]
  },
  {
   "cell_type": "code",
   "execution_count": 238,
   "metadata": {},
   "outputs": [
    {
     "data": {
      "text/plain": [
       "-4.3655745685100555"
      ]
     },
     "execution_count": 238,
     "metadata": {},
     "output_type": "execute_result"
    }
   ],
   "source": [
    "dl(P0)"
   ]
  },
  {
   "cell_type": "code",
   "execution_count": 220,
   "metadata": {},
   "outputs": [],
   "source": [
    "P1 = P0.copy()\n",
    "P1[0] += 0.00000001"
   ]
  },
  {
   "cell_type": "code",
   "execution_count": 221,
   "metadata": {},
   "outputs": [
    {
     "data": {
      "text/plain": [
       "106456.63046195837"
      ]
     },
     "execution_count": 221,
     "metadata": {},
     "output_type": "execute_result"
    }
   ],
   "source": [
    "l(P1)"
   ]
  },
  {
   "cell_type": "code",
   "execution_count": 237,
   "metadata": {},
   "outputs": [],
   "source": [
    "def dl(P):\n",
    "    eps = 1e-10\n",
    "    P1 = P.copy()\n",
    "    P1[0] += eps\n",
    "    return((l(P1)-l(P))/(eps))"
   ]
  },
  {
   "cell_type": "code",
   "execution_count": 352,
   "metadata": {},
   "outputs": [
    {
     "ename": "ValueError",
     "evalue": "cannot reshape array of size 6 into shape (3,3)",
     "output_type": "error",
     "traceback": [
      "\u001b[1;31m---------------------------------------------------------------------------\u001b[0m",
      "\u001b[1;31mValueError\u001b[0m                                Traceback (most recent call last)",
      "\u001b[1;32m<ipython-input-352-5d5f31d74f78>\u001b[0m in \u001b[0;36m<module>\u001b[1;34m\u001b[0m\n\u001b[0;32m      1\u001b[0m \u001b[0mmu_f\u001b[0m \u001b[1;33m=\u001b[0m \u001b[0mres\u001b[0m\u001b[1;33m.\u001b[0m\u001b[0mx\u001b[0m\u001b[1;33m[\u001b[0m\u001b[1;33m:\u001b[0m\u001b[0md\u001b[0m\u001b[1;33m]\u001b[0m\u001b[1;33m\u001b[0m\u001b[1;33m\u001b[0m\u001b[0m\n\u001b[1;32m----> 2\u001b[1;33m \u001b[0mSigma_f\u001b[0m \u001b[1;33m=\u001b[0m \u001b[0mres\u001b[0m\u001b[1;33m.\u001b[0m\u001b[0mx\u001b[0m\u001b[1;33m[\u001b[0m\u001b[0md\u001b[0m\u001b[1;33m:\u001b[0m\u001b[1;33m]\u001b[0m\u001b[1;33m.\u001b[0m\u001b[0mreshape\u001b[0m\u001b[1;33m(\u001b[0m\u001b[0md\u001b[0m\u001b[1;33m,\u001b[0m \u001b[0md\u001b[0m\u001b[1;33m)\u001b[0m\u001b[1;33m\u001b[0m\u001b[1;33m\u001b[0m\u001b[0m\n\u001b[0m\u001b[0;32m      3\u001b[0m \u001b[0mprint\u001b[0m\u001b[1;33m(\u001b[0m\u001b[0mmu_f\u001b[0m\u001b[1;33m,\u001b[0m \u001b[1;34m'\\n'\u001b[0m\u001b[1;33m,\u001b[0m \u001b[0mmu\u001b[0m\u001b[1;33m,\u001b[0m \u001b[1;34m'\\n'\u001b[0m\u001b[1;33m,\u001b[0m\u001b[1;34m'\\n'\u001b[0m\u001b[1;33m,\u001b[0m \u001b[0mSigma\u001b[0m\u001b[1;33m,\u001b[0m \u001b[1;34m'\\n'\u001b[0m\u001b[1;33m,\u001b[0m \u001b[0mSigma_f\u001b[0m\u001b[1;33m)\u001b[0m\u001b[1;33m\u001b[0m\u001b[1;33m\u001b[0m\u001b[0m\n",
      "\u001b[1;31mValueError\u001b[0m: cannot reshape array of size 6 into shape (3,3)"
     ]
    }
   ],
   "source": [
    "mu_f = res.x[:d]\n",
    "Sigma_f = res.x[d:].reshape(d, d)\n",
    "print(mu_f, '\\n', mu, '\\n','\\n', Sigma, '\\n', Sigma_f)"
   ]
  },
  {
   "cell_type": "code",
   "execution_count": 360,
   "metadata": {},
   "outputs": [],
   "source": [
    "def list_to_sym(d, L):\n",
    "    s = np.zeros((d,d))\n",
    "    for i in range(d):\n",
    "        s[i, i:d] = L[int(i*d-(i-1)*(i)/2):int(i*d-(i-1)*(i)/2+d-i)]\n",
    "    return(symmetrize(s))"
   ]
  },
  {
   "cell_type": "code",
   "execution_count": 361,
   "metadata": {},
   "outputs": [
    {
     "name": "stdout",
     "output_type": "stream",
     "text": [
      "[0.93101113 1.86616821 2.82399987] \n",
      " [1. 2. 3.] \n",
      " \n",
      " [[ 3.19396725 -0.35957819  0.93739825]\n",
      " [-0.35957819  5.32136896  2.57746704]\n",
      " [ 0.93739825  2.57746704  5.3132971 ]] \n",
      " [[3. 0. 1.]\n",
      " [0. 4. 2.]\n",
      " [1. 2. 5.]]\n"
     ]
    }
   ],
   "source": [
    "print(res.x[:d], '\\n', mu, '\\n \\n', list_to_sym(d, res.x[d:]), '\\n', Sigma)"
   ]
  },
  {
   "cell_type": "code",
   "execution_count": 357,
   "metadata": {},
   "outputs": [
    {
     "data": {
      "text/plain": [
       "3"
      ]
     },
     "execution_count": 357,
     "metadata": {},
     "output_type": "execute_result"
    }
   ],
   "source": [
    "d"
   ]
  },
  {
   "cell_type": "code",
   "execution_count": 354,
   "metadata": {
    "scrolled": false
   },
   "outputs": [
    {
     "name": "stdout",
     "output_type": "stream",
     "text": [
      "      fun: 106408.14262463586\n",
      " hess_inv: array([[ 2.06832371e-03, -4.01218902e-04,  5.18012360e-04,\n",
      "        -3.08990064e-03, -5.52632819e-04, -1.26895255e-03,\n",
      "         1.65451988e-03,  4.73946437e-04, -6.41090985e-04],\n",
      "       [-4.01218902e-04,  1.64755138e-03,  8.21612882e-04,\n",
      "         1.61446376e-03, -2.20914068e-03, -5.33788160e-04,\n",
      "         2.33697070e-04, -7.31923055e-04, -9.88489013e-04],\n",
      "       [ 5.18012360e-04,  8.21612882e-04,  1.65645001e-03,\n",
      "        -9.86759481e-05, -1.40267610e-03, -1.60885321e-03,\n",
      "         6.61282649e-04, -1.27383638e-03, -3.43616863e-03],\n",
      "       [-3.08990064e-03,  1.61446376e-03, -9.86759481e-05,\n",
      "         6.95617096e-03, -7.56376845e-04,  1.88318091e-03,\n",
      "        -3.79675688e-03, -1.91352973e-03,  4.89839850e-05],\n",
      "       [-5.52632819e-04, -2.20914068e-03, -1.40267610e-03,\n",
      "        -7.56376845e-04,  6.04790624e-03,  2.74638540e-03,\n",
      "        -1.17644743e-03,  1.76478426e-03,  2.59992698e-03],\n",
      "       [-1.26895255e-03, -5.33788160e-04, -1.60885321e-03,\n",
      "         1.88318091e-03,  2.74638540e-03,  4.58711417e-03,\n",
      "        -1.78249280e-03,  7.31894423e-04,  4.27574208e-03],\n",
      "       [ 1.65451988e-03,  2.33697070e-04,  6.61282649e-04,\n",
      "        -3.79675688e-03, -1.17644743e-03, -1.78249280e-03,\n",
      "         3.20319401e-03,  9.44633465e-04, -7.16927504e-04],\n",
      "       [ 4.73946437e-04, -7.31923055e-04, -1.27383638e-03,\n",
      "        -1.91352973e-03,  1.76478426e-03,  7.31894423e-04,\n",
      "         9.44633465e-04,  5.07589972e-03,  6.26226495e-03],\n",
      "       [-6.41090985e-04, -9.88489013e-04, -3.43616863e-03,\n",
      "         4.89839850e-05,  2.59992698e-03,  4.27574208e-03,\n",
      "        -7.16927504e-04,  6.26226495e-03,  1.51986316e-02]])\n",
      "      jac: array([0.00097656, 0.        , 0.00195312, 0.        , 0.        ,\n",
      "       0.00097656, 0.        , 0.00097656, 0.        ])\n",
      "  message: 'Desired error not necessarily achieved due to precision loss.'\n",
      "     nfev: 606\n",
      "      nit: 21\n",
      "     njev: 55\n",
      "   status: 2\n",
      "  success: False\n",
      "        x: array([ 0.93101113,  1.86616821,  2.82399987,  3.19396725, -0.35957819,\n",
      "        0.93739825,  5.32136896,  2.57746704,  5.3132971 ])\n"
     ]
    }
   ],
   "source": [
    "P0 = np.concatenate((mu_prime, np.array(Sigma_raw).flatten()))\n",
    "res = minimize(l, P0, method = 'BFGS')\n",
    "print(res)"
   ]
  },
  {
   "cell_type": "code",
   "execution_count": 268,
   "metadata": {},
   "outputs": [],
   "source": [
    "def symmetrize(a):\n",
    "    return a + a.T - np.diag(a.diagonal())"
   ]
  },
  {
   "cell_type": "code",
   "execution_count": 336,
   "metadata": {},
   "outputs": [],
   "source": [
    "Sigma_raw = []\n",
    "for i in range(d):\n",
    "    Sigma_raw += list(Sigma[i, i:d])"
   ]
  }
 ],
 "metadata": {
  "kernelspec": {
   "display_name": "Python 3",
   "language": "python",
   "name": "python3"
  },
  "language_info": {
   "codemirror_mode": {
    "name": "ipython",
    "version": 3
   },
   "file_extension": ".py",
   "mimetype": "text/x-python",
   "name": "python",
   "nbconvert_exporter": "python",
   "pygments_lexer": "ipython3",
   "version": "3.6.8"
  },
  "latex_envs": {
   "LaTeX_envs_menu_present": true,
   "autoclose": false,
   "autocomplete": true,
   "bibliofile": "biblio.bib",
   "cite_by": "apalike",
   "current_citInitial": 1,
   "eqLabelWithNumbers": true,
   "eqNumInitial": 1,
   "hotkeys": {
    "equation": "Ctrl-E",
    "itemize": "Ctrl-I"
   },
   "labels_anchors": false,
   "latex_user_defs": false,
   "report_style_numbering": false,
   "user_envs_cfg": false
  },
  "varInspector": {
   "cols": {
    "lenName": 16,
    "lenType": 16,
    "lenVar": 40
   },
   "kernels_config": {
    "python": {
     "delete_cmd_postfix": "",
     "delete_cmd_prefix": "del ",
     "library": "var_list.py",
     "varRefreshCmd": "print(var_dic_list())"
    },
    "r": {
     "delete_cmd_postfix": ") ",
     "delete_cmd_prefix": "rm(",
     "library": "var_list.r",
     "varRefreshCmd": "cat(var_dic_list()) "
    }
   },
   "types_to_exclude": [
    "module",
    "function",
    "builtin_function_or_method",
    "instance",
    "_Feature"
   ],
   "window_display": false
  }
 },
 "nbformat": 4,
 "nbformat_minor": 2
}
