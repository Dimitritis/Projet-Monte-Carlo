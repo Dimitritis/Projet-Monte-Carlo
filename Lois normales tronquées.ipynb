{
 "cells": [
  {
   "cell_type": "markdown",
   "metadata": {},
   "source": [
    "## Lois normales tronquées\n"
   ]
  },
  {
   "cell_type": "markdown",
   "metadata": {},
   "source": [
    "Soit le vecteur aléatoire $X = (X_1,\\dots,X_d) \\sim \\mathcal{N}_d(\\mu,\\Sigma)$, de densité noté $g(x) = f_{\\mathcal{N}_d(\\mu,\\Sigma)} = \\frac{1}{\\sqrt{(2\\pi)^d |\\Sigma|}} e^{-\\frac{1}{2} (x-\\mu)' \\Sigma^{-1} (x-\\mu)}$ et de fonction de répartition noté $G$, définies sur $\\mathbb{R}$. \n",
    "$\\mu \\in \\mathbb{R}^d$ et $\\Sigma \\in \\mathcal{M}_{d\\times d}(\\mathbb{R})$ symétrique et semi-définie positive.\n",
    "\n",
    "$X > 0$ signifie que l'inégalité est effectuée composante par composante : $X_1 > 0 \\: et \\: \\dots \\: et \\: X_d > 0$. Pour $x \\in ]0,+\\infty[^d$, $X \\leq x$ signifie : $X_1 \\leq x_1 \\: et \\: \\dots \\: et \\: X_d \\leq x_d $.\n",
    "\n",
    "La loi normale de paramètre $\\mu, \\Sigma$ tronquée à $]0,+\\infty[$, notée $\\mathcal{N}_{>0,d}(\\mu,\\Sigma)$, est la loi du vecteur aléatoire $X|X>0 = (X_1|X_1>0,\\dots,X_d|X_d>0)$, de support $]0,+\\infty[^d$. On note sa densité $f = f_{\\mathcal{N}_{>0,d}(\\mu,\\Sigma)}$ et sa fonction de répartition $F$."
   ]
  },
  {
   "cell_type": "code",
   "execution_count": 13,
   "metadata": {},
   "outputs": [],
   "source": [
    "import numpy as np\n",
    "#import numpy.random as npr\n",
    "import scipy.stats as st\n",
    "import matplotlib.pyplot as plt\n",
    "import time"
   ]
  },
  {
   "cell_type": "markdown",
   "metadata": {},
   "source": [
    "---"
   ]
  },
  {
   "cell_type": "markdown",
   "metadata": {},
   "source": [
    "### Question 1 : densité de la loi"
   ]
  },
  {
   "cell_type": "markdown",
   "metadata": {},
   "source": [
    "Soit $f$ la densité de $X|X>0$ et soit $F$ sa fonction de répartition."
   ]
  },
  {
   "cell_type": "markdown",
   "metadata": {},
   "source": [
    " $\\forall x \\in ]0,+\\infty[^d$,\n",
    "\n",
    "$$\n",
    "F(x)\n",
    "= \\mathbb{P}(X \\leq x | X > 0) \n",
    "= \\frac{\\mathbb{P}(X \\leq x , X > 0)}{\\mathbb{P}(X > 0)} \n",
    "= \\frac{G(x) - G(0)}{1 - G(0)}\n",
    "$$\n",
    "\n",
    "$$\n",
    "f(x) \n",
    "= F'(x) \n",
    "= \\frac{G'(x)}{1 - F(0)}\n",
    "= \\frac{g(x)}{1 - F(0)}\n",
    "= Z(\\mu,\\Sigma) g(x) \n",
    "$$\n",
    "\n",
    "avec $$ Z(\\mu,\\Sigma) = (1 - G(0))^{-1} =  \\left( \\int_{]0,+\\infty[^d} \\frac{1}{\\sqrt{(2\\pi)^d |\\Sigma|}} e^{-\\frac{1}{2} (x-\\mu)' \\Sigma^{-1} (x-\\mu)} dx  \\right)^{-1} $$\n",
    "correspondant à l'inverse d'une intégrale difficile à calculer.\n",
    "\n",
    "Donc la densité $f$ de la loi $\\mathcal{N}_{>0,d}(\\mu,\\Sigma)$ est :\n",
    "$$\n",
    "f(x) = \\frac{g(x)}{ \\int_{]0,+\\infty[^d} g(x) dx} \\mathbb{1}_{]0,+\\infty[^d}(x)\n",
    "$$"
   ]
  },
  {
   "cell_type": "markdown",
   "metadata": {},
   "source": [
    "Généralisation de la troncature :\n",
    "\n",
    "\n",
    "\n",
    "\n",
    "- $a \\in \\mathbb{R}^d$ , soient f et F la densité et la fonction de répartition de $X|X>a$\n",
    "\n",
    "$\\forall x \\in ]a,+\\infty[^d$,\n",
    " \n",
    "$$\n",
    "F(x)\n",
    "= \\mathbb{P}(X \\leq x | X > a) \n",
    "= \\frac{\\mathbb{P}(X \\leq x , X > a)}{\\mathbb{P}(X > a)} \n",
    "= \\frac{G(x) - G(a)}{1 - G(a)}\n",
    "$$\n",
    "\n",
    "$$\n",
    "f(x) \n",
    "= F'(x) \n",
    "= \\frac{G'(x)}{1 - G(a)}\n",
    "= \\frac{g(x)}{1 - G(a)}\n",
    "= Z(\\mu,\\Sigma,a) g(x) \n",
    "$$\n",
    "\n",
    "avec $$ Z(\\mu,\\Sigma,a) = (1 - G(a))^{-1} =  \\left( \\int_{]a,+\\infty[^d} \\frac{1}{\\sqrt{(2\\pi)^d |\\Sigma|}} e^{-\\frac{1}{2} (x-\\mu)' \\Sigma^{-1} (x-\\mu)}  \\right)^{-1} $$\n",
    "\n",
    "Donc la densité $f$ de la loi $\\mathcal{N}_{>a,d}(\\mu,\\Sigma)$ est :\n",
    "$$\n",
    "f(x) = \\frac{g(x)}{ \\int_{]a,+\\infty[^d} g(x) dx} \\mathbb{1}_{]a,+\\infty[^d}(x)\n",
    "$$\n",
    "\n",
    "\n",
    "\n",
    "\n",
    "- $b \\in \\mathbb{R}^d$ , soit f et F la densité et la fonction de répartition de $X|X<b$\n",
    "\n",
    " $\\forall x \\in ]-\\infty,b[^d$,\n",
    " \n",
    "$$\n",
    "F(x)\n",
    "= \\mathbb{P}(X \\leq x | X < b) \n",
    "= \\frac{\\mathbb{P}(X \\leq x, X < b)}{\\mathbb{P}(X < b)} \n",
    "= \\frac{\\mathbb{P}(X \\leq x)}{\\mathbb{P}(X < b)} \n",
    "= \\frac{G(x)}{G(b)}\n",
    "$$\n",
    "\n",
    "$$\n",
    "f(x) \n",
    "= F'(x) \n",
    "= \\frac{G'(x)}{G(b)}\n",
    "= \\frac{g(x)}{G(b)}\n",
    "= Z(\\mu,\\Sigma,b) g(x) \n",
    "$$\n",
    "\n",
    "avec $$ Z(\\mu,\\Sigma,b) = G(b)^{-1} =  \\left( \\int_{]-\\infty,b[^d} \\frac{1}{\\sqrt{(2\\pi)^d |\\Sigma|}} e^{-\\frac{1}{2} (x-\\mu)' \\Sigma^{-1} (x-\\mu)}  \\right)^{-1} $$ \n",
    "\n",
    "Donc la densité $f$ de la loi $\\mathcal{N}_{<b,d}(\\mu,\\Sigma)$ est :\n",
    "$$\n",
    "f(x) = \\frac{g(x)}{ \\int_{]-\\infty,b[^d} g(x) dx} \\mathbb{1}_{]-\\infty,b[^d}(x)\n",
    "$$\n",
    "\n",
    "\n",
    "\n",
    "- $a,b \\in \\mathbb{R}^d$ , soit f et F la densité et la fonction de répartition de $X|a<X<b$\n",
    "\n",
    "$\\forall x \\in ]a,b[^d$,\n",
    "\n",
    "$$\n",
    "F(x)\n",
    "= \\mathbb{P}(X \\leq x | a < X < b) \n",
    "= \\frac{\\mathbb{P}(X \\leq x, a < X < b)}{\\mathbb{P}(a < X < b)} \n",
    "= \\frac{\\mathbb{P}(a < X \\leq x)}{\\mathbb{P}(a < X < b)} \n",
    "= \\frac{G(x) - G(a)}{G(b) - G(a)}\n",
    "$$\n",
    "\n",
    "$$\n",
    "f(x) \n",
    "= F'(x) \n",
    "= \\frac{G'(x)}{G(b) - G(a)}\n",
    "= \\frac{g(x)}{G(b) - G(a)}\n",
    "= Z(\\mu,\\Sigma,a,b) g(x) \n",
    "$$\n",
    "\n",
    "avec $$ Z(\\mu,\\Sigma,a,b) = (G(b) - G(a))^{-1} =  \\left( \\int_{]a,b[^d} \\frac{1}{\\sqrt{(2\\pi)^d |\\Sigma|}} e^{-\\frac{1}{2} (x-\\mu)' \\Sigma^{-1} (x-\\mu)}  \\right)^{-1} $$ \n",
    "\n",
    "Donc la densité $f$ de la loi $\\mathcal{N}_{>a,<b,d}(\\mu,\\Sigma)$ est :\n",
    "$$\n",
    "f(x) = \\frac{g(x)}{ \\int_{]a,b[^d} g(x) dx} \\mathbb{1}_{]a,b[^d}(x)\n",
    "$$\n"
   ]
  },
  {
   "cell_type": "markdown",
   "metadata": {},
   "source": [
    "---"
   ]
  },
  {
   "cell_type": "markdown",
   "metadata": {},
   "source": [
    "### Question 2 : simulations par Acceptation-Rejet"
   ]
  },
  {
   "cell_type": "markdown",
   "metadata": {},
   "source": [
    "On suppose $d=1$. On veut simuler par Acceptation-Rejet la loi $\\mathcal{N}_{>0}(\\mu,\\sigma^2)$ de densité $f$."
   ]
  },
  {
   "cell_type": "markdown",
   "metadata": {},
   "source": [
    "- loi de proposition : $\\mathcal{N}(\\mu,\\sigma)$ de densité $g$\n",
    "\n",
    "Comme $ \\frac{f(x)}{g(x)} = (1-F(0))^{-1} \\mathbb{1}_{]0,+\\infty[}(x) \\leq (1-F(0))^{-1} =  (\\mathbb{P}_X(X > 0))^{-1} = (\\mathbb{P}_W(\\mu + \\sigma W > 0))^{-1} = (\\mathbb{P}_W(W \\leq \\frac{\\mu}{\\sigma}))^{-1} = (\\Phi(\\frac{\\mu}{\\sigma}))^{-1} = M $\n",
    "\n",
    "où $ W \\sim \\mathcal{N}(0,1)$ de fonction de répartition $\\Phi$.\n"
   ]
  },
  {
   "cell_type": "markdown",
   "metadata": {},
   "source": [
    "Ainsi on simule $f$ de la façon suivante :\n",
    "\n",
    "1) on simule $Y \\sim g$ ;\n",
    "\n",
    "2) on simule $U \\sim \\mathcal{U}(]0,1[)$ ;\n",
    "\n",
    "3) si $U \\leq \\frac{f(Y)}{Mg(Y)} = \\mathbb{1}_{]0,+\\infty[}(Y) $, alors $X \\overset{loi}{=} Y \\sim f$ ; sinon retour en 1)"
   ]
  },
  {
   "cell_type": "code",
   "execution_count": 3,
   "metadata": {},
   "outputs": [],
   "source": [
    "#version naïve\n",
    "def AR_g_V1(n,m,s):\n",
    "    #n = nombre de simulations\n",
    "    #m = paramètre moyenne de la loi de proposition g (et de la loi cible f)\n",
    "    #s = paramètre écart-type de la loi de proposition g (et de la loi cible f)\n",
    "    \n",
    "    resultat = []\n",
    "    g = st.norm(loc=m,scale=s)\n",
    "    while len(resultat) < n:\n",
    "        Y = g.rvs(size=1)\n",
    "        U = st.uniform.rvs(size=1)\n",
    "        \n",
    "        if (Y > 0):\n",
    "            resultat.append(Y)\n",
    "            \n",
    "    return np.r_[tuple(resultat)]\n",
    "\n",
    "        \n",
    "#version améliorée\n",
    "def AR_g_V2(n,m,s):\n",
    "    #n = nombre de simulations\n",
    "    #m = paramètre moyenne de la loi de proposition g (et de la loi cible f)\n",
    "    #s = paramètre écart-type de la loi de proposition g (et de la loi cible f)\n",
    "    \n",
    "    resultat = []\n",
    "    lresultat = 0\n",
    "    proba_accepte = st.norm.cdf(m/s,loc=0,scale=1) #=1/M\n",
    "    g = st.norm(loc=m,scale=s)\n",
    "    while lresultat < n:\n",
    "        missing = n - lresultat\n",
    "        n_simu = int(missing / proba_accepte)\n",
    "        Y = g.rvs(size=n_simu)\n",
    "        U = st.uniform.rvs(size=n_simu)\n",
    "        \n",
    "        accepte = Y > 0\n",
    "        if sum(accepte) > 0:\n",
    "            resultat.append(Y[accepte])\n",
    "        lresultat += sum(accepte)\n",
    "        \n",
    "    return np.r_[tuple(resultat)][0:(n-1)]\n",
    "        \n",
    "        "
   ]
  },
  {
   "cell_type": "markdown",
   "metadata": {},
   "source": [
    "On remarque que pour $\\mu > 0$, la probabilité d'acceptation vérifie $\\frac{1}{M} = \\Phi(\\frac{\\mu}{\\sigma}) > 0.5$. La probabilité d'acceptation $\\frac{1}{M}$ est d'autant plus grande lorsque $\\mu >> 0$. Cette loi de proposition est donc intéressante pour $\\mu >0$."
   ]
  },
  {
   "cell_type": "code",
   "execution_count": 50,
   "metadata": {},
   "outputs": [],
   "source": [
    "n = 100_000 #nombre de valeurs à simuler\n"
   ]
  },
  {
   "cell_type": "code",
   "execution_count": 29,
   "metadata": {},
   "outputs": [
    {
     "name": "stdout",
     "output_type": "stream",
     "text": [
      "proba d'acceptation pour (mu=1, sigma=2) = 0.6914624612740131 \n",
      "proba d'acceptation pour (mu=-1, sigma=2) = 0.3085375387259869 \n"
     ]
    },
    {
     "data": {
      "image/png": "[encoded data removed]",
      "text/plain": [
       "<Figure size 1440x504 with 2 Axes>"
      ]
     },
     "metadata": {
      "needs_background": "light"
     },
     "output_type": "display_data"
    }
   ],
   "source": [
    "fig, (ax1, ax2) = plt.subplots(1, 2, sharey= True, figsize=(20,7))\n",
    "fig.suptitle('Comparaisons entre densités théoriques et hist. des densités de simulation AR de loi proposition g ')\n",
    "\n",
    "m = 1 #mu\n",
    "s = 2 #sigma\n",
    "\n",
    "print(\"proba d'acceptation pour (mu={0}, sigma={1}) = {2} \".format(m,s,st.norm.cdf(m/s,loc=0,scale=1)) )\n",
    "echantillon = AR_g_V2(n,m,s)\n",
    "\n",
    "ax1.hist(echantillon, density=True, bins=\"auto\",label = \"hist. des densités de l'échantillon\") \n",
    "ax1.plot(np.linspace(0,max(echantillon),50), st.norm.pdf(np.linspace(0,max(echantillon),50),loc=m,scale=s)/(1-st.norm.cdf(0,loc=m,scale=s)), label = \"densité théorique\")\n",
    "ax1.set(xlabel=\"hist. des densités pour un éch. de taille {0} (mu={1},sigma={2})\".format(n,m,s))\n",
    "ax1.legend()\n",
    "\n",
    "m = -1\n",
    "s = 2 \n",
    "\n",
    "print(\"proba d'acceptation pour (mu={0}, sigma={1}) = {2} \".format(m,s,st.norm.cdf(m/s,loc=0,scale=1)) )\n",
    "echantillon = AR_g_V2(n,m,s)\n",
    "\n",
    "ax2.hist(echantillon, density=True, bins=\"auto\",label = \"hist. des densités de l'échantillon\") \n",
    "ax2.plot(np.linspace(0,max(echantillon),100), st.norm.pdf(np.linspace(0,max(echantillon),100),loc=m,scale=s)/(1-st.norm.cdf(0,loc=m,scale=s)), label = \"densité théorique\")\n",
    "ax2.set(xlabel=\"hist. des densités pour un éch. de taille {0} (mu={1},sigma={2})\".format(n,m,s))\n",
    "ax2.legend()\n",
    "\n",
    "plt.show()\n"
   ]
  },
  {
   "cell_type": "markdown",
   "metadata": {},
   "source": [
    "Comparons <code>AR_g_V1</code> et <code>AR_g_V2</code> en terme de temps de calcul, pour des paramètres fixés :"
   ]
  },
  {
   "cell_type": "code",
   "execution_count": 52,
   "metadata": {},
   "outputs": [
    {
     "name": "stdout",
     "output_type": "stream",
     "text": [
      "mu = 4, sigma = 2\n",
      "temps pour AR_g_V1 : 1.7139992713928223  -  proba acceptation = 0.9772498680518208\n",
      "temps pour AR_g_V2 : 0.09168195724487305  -  proba acceptation = idem\n"
     ]
    }
   ],
   "source": [
    "m = 4\n",
    "s = 2\n",
    "print(\"mu = {0}, sigma = {1}\".format(m,s))\n",
    "\n",
    "start = time.time()\n",
    "AR_g_V1(10_000, m, s)\n",
    "end = time.time()\n",
    "print(\"temps pour AR_g_V1 : {0}  -  proba acceptation = {1}\".format(end-start,st.norm.cdf(m/s,loc=0,scale=1)))\n",
    "\n",
    "start = time.time()\n",
    "AR_g_V2(10_000, m, s)\n",
    "end = time.time()\n",
    "print(\"temps pour AR_g_V2 : {0}  -  proba acceptation = idem\".format(end-start))\n"
   ]
  },
  {
   "cell_type": "markdown",
   "metadata": {},
   "source": [
    "On préférera <code>AR_g_V2</code>."
   ]
  },
  {
   "cell_type": "markdown",
   "metadata": {},
   "source": [
    "- loi de proposition : $\\mathcal{E}(\\lambda)$, $\\lambda > 0$, de densité $h(x) = \\lambda e^{- \\lambda x} \\mathbb{1}_{]0,+\\infty[}(x) $ \n",
    "\n",
    "$$\\forall x>0, \\;\\; \\frac{f(x)}{h(x)} \n",
    "= \\frac{g(x)}{\\Phi(\\frac{\\mu}{\\sigma})h(x)} \n",
    "= \\frac{1}{\\Phi(\\frac{\\mu}{\\sigma}) \\sqrt{2\\pi} \\sigma} \\frac{e^{-\\frac{1}{2\\sigma^2}(x-\\mu)^2}}{\\lambda e^{-\\lambda x}} \n",
    "= \\frac{1}{\\Phi(\\frac{\\mu}{\\sigma}) \\sqrt{2\\pi} \\sigma \\lambda} e^{-\\frac{1}{2\\sigma^2}(x-\\mu)^2 + \\lambda x} \n",
    "= \\frac{1}{\\Phi(\\frac{\\mu}{\\sigma}) \\sqrt{2\\pi} \\sigma \\lambda} e^{-\\frac{1}{2\\sigma^2} ((x-\\mu)^2 + 2 \\sigma^2 \\lambda x) } $$\n",
    "\n",
    "Soit \n",
    "\\begin{align*}\n",
    "P(x) & = (x-\\mu)^2 + 2 \\sigma^2 \\lambda x  \\\\\n",
    "& = x^2 - 2 \\mu x + \\mu^2 + 2 \\sigma^2 \\lambda x \\\\\n",
    "& = x^2 - 2 x (\\mu + \\sigma^2 \\lambda) + \\mu^2 \\\\\n",
    "& = x^2 - 2 x (\\mu + \\sigma^2 \\lambda) + (\\mu + \\sigma^2 \\lambda)^2 + \\mu^2 - (\\mu + \\sigma^2 \\lambda)^2 \\\\\n",
    "& = ( x - (\\mu + \\sigma^2 \\lambda) )^2 + \\mu^2 - \\mu^2 - 2 \\mu \\sigma^2 \\lambda - \\sigma^4 \\lambda^2 \\\\\n",
    "& = ( x - (\\mu + \\sigma^2 \\lambda) )^2 - 2 \\sigma^2 (\\mu \\lambda + \\frac{\\lambda^2 \\sigma^2}{2})\n",
    "\\end{align*}\n",
    "\n",
    "D'où \n",
    "$$\\forall x>0, \\;\\; \\frac{f(x)}{h(x)} \n",
    "= \\frac{1}{\\Phi(\\frac{\\mu}{\\sigma}) \\sqrt{2\\pi} \\sigma \\lambda} e^{-\\frac{1}{2\\sigma^2} P(x) }\n",
    "= \\frac{1}{\\Phi(\\frac{\\mu}{\\sigma}) \\sqrt{2\\pi} \\sigma \\lambda} e^{-\\frac{1}{2\\sigma^2} ( x - (\\mu + \\sigma^2 \\lambda) )^2} e^{\\mu \\lambda + \\frac{\\lambda^2 \\sigma^2}{2}}\n",
    "$$\n",
    "\n",
    "On cherche à majorer ce quotient en $x>0$.\n",
    "$x \\mapsto \\frac{f(x)}{h(x)}$ est maximum lorsque $x \\mapsto e^{-\\frac{1}{2\\sigma^2} ( x - (\\mu + \\sigma^2 \\lambda) )^2}$ atteint son maximum, c'est-à-dire lorsque $x \\mapsto ( x - (\\mu + \\sigma^2 \\lambda) )^2$ atteint son minimum : il est atteint en $x = \\mu + \\lambda \\sigma^2$ si $\\mu + \\lambda \\sigma^2 > 0$, sinon il est atteint en $x = 0$.\n",
    "\n",
    "En d'autres termes : \n",
    "\n",
    "pour $\\mu + \\lambda \\sigma^2 > 0$, $\\underset{x > 0}{\\text{argmax}}\\: \\frac{f(x)}{h(x)} = \\underset{x > 0}{\\text{argmax}}\\: e^{-\\frac{1}{2\\sigma^2} ( x - (\\mu + \\sigma^2 \\lambda) )^2} = \\underset{x > 0}{\\text{argmin}}\\: ( x - (\\mu + \\sigma^2 \\lambda) )^2 = \\mu + \\lambda \\sigma^2$ ;\n",
    "\n",
    "pour $\\mu + \\lambda \\sigma^2 < 0$, $\\underset{x > 0}{\\text{argmax}}\\: \\frac{f(x)}{h(x)} = \\underset{x > 0}{\\text{argmax}}\\: e^{-\\frac{1}{2\\sigma^2} ( x - (\\mu + \\sigma^2 \\lambda) )^2} = \\underset{x > 0}{\\text{argmin}}\\: ( x - (\\mu + \\sigma^2 \\lambda) )^2 = 0 $"
   ]
  },
  {
   "cell_type": "markdown",
   "metadata": {},
   "source": [
    "On en déduit :\n",
    "$$\n",
    "\\forall x>0, \\;\\; \\frac{f(x)}{h(x)} \n",
    "\\leq M(\\lambda) = \\left\\{\n",
    "    \\begin{array}{ll}\n",
    "        \\frac{1}{\\Phi(\\frac{\\mu}{\\sigma}) \\sqrt{2\\pi} \\sigma \\lambda} e^{\\mu \\lambda + \\frac{\\lambda^2 \\sigma^2}{2}} & \\mbox{si} \\mu + \\lambda \\sigma^2 > 0 \\\\\n",
    "        \\frac{1}{\\Phi(\\frac{\\mu}{\\sigma}) \\sqrt{2\\pi} \\sigma \\lambda}  e^{-\\frac{1}{2\\sigma^2} \\mu^2} & \\mbox{si} \\mu + \\lambda \\sigma^2 \\leq 0\n",
    "    \\end{array}\n",
    "\\right.\n",
    "$$"
   ]
  },
  {
   "cell_type": "markdown",
   "metadata": {},
   "source": [
    "Ainsi on simule $f$ de la façon suivante :\n",
    "\n",
    "1) on simule $Y \\sim h$ ;\n",
    "\n",
    "2) on simule $U \\sim \\mathcal{U}(]0,1[)$ ;\n",
    "\n",
    "3) si $U \\leq \\frac{f(Y)}{M(\\lambda) h(Y)} $, alors $X \\overset{loi}{=} Y \\sim f$ ; sinon retour en 1)"
   ]
  },
  {
   "cell_type": "code",
   "execution_count": 17,
   "metadata": {},
   "outputs": [],
   "source": [
    "def M_h(l,m,s):\n",
    "    if m+l*s**2 > 0:\n",
    "        return np.exp(m*l + l**2*s**2/2)/(st.norm.cdf(m/s,loc=0,scale=1)*np.sqrt(2*np.pi)*s*l)\n",
    "    else:\n",
    "        return np.exp(-m**2/(2*s**2))/(st.norm.cdf(m/s,loc=0,scale=1)*np.sqrt(2*np.pi)*s*l)\n"
   ]
  },
  {
   "cell_type": "code",
   "execution_count": 18,
   "metadata": {},
   "outputs": [],
   "source": [
    "#version naïve\n",
    "def AR_h_V1(n,m,s,l):\n",
    "    #n = nombre de simulations\n",
    "    #m = paramètre moyenne de la loi cible f = Z.g\n",
    "    #s = paramètre écart-type de la loi cible f = Z.g\n",
    "    #l = paramètre de la loi de proposition h \n",
    "    \n",
    "    resultat = []\n",
    "    M = M_h(l,m,s)\n",
    "    h = st.expon(loc=0,scale=1/l)\n",
    "    g = st.norm(loc=m,scale=s)\n",
    "    Z = 1/st.norm.cdf(m/s,loc=0,scale=1) \n",
    "    while len(resultat) < n:\n",
    "        Y = h.rvs(size=1)\n",
    "        U = st.uniform.rvs(size=1)\n",
    "        \n",
    "        if (U <= Z*g.pdf(Y)/(M*h.pdf(Y)))&(Y > 0):\n",
    "            resultat.append(Y)\n",
    "            \n",
    "    return np.r_[tuple(resultat)]\n",
    "\n",
    "\n",
    "#version améliorée\n",
    "def AR_h_V2(n,m,s,l):\n",
    "    #n = nombre de simulations\n",
    "    #m = paramètre moyenne de la loi cible f\n",
    "    #s = paramètre écart-type de la loi cible f\n",
    "    #l = paramètre de la loi de proposition h \n",
    "    \n",
    "    resultat = []\n",
    "    lresultat = 0\n",
    "    M = M_h(l,m,s)\n",
    "    proba_accepte = 1/M\n",
    "    h = st.expon(loc=0,scale=1/l)\n",
    "    g = st.norm(loc=m,scale=s)\n",
    "    Z = 1/st.norm.cdf(m/s,loc=0,scale=1)\n",
    "    while lresultat < n:\n",
    "        missing = n - lresultat\n",
    "        n_simu = int(missing / proba_accepte)\n",
    "        Y = h.rvs(size=n_simu)\n",
    "        U = st.uniform.rvs(size=n_simu)\n",
    "        \n",
    "        accepte = (U <= Z*g.pdf(Y)/(M*h.pdf(Y))) & (Y > 0)\n",
    "        if sum(accepte) > 0:\n",
    "            resultat.append(Y[accepte])\n",
    "        lresultat += sum(accepte)\n",
    "        \n",
    "    return np.r_[tuple(resultat)][0:(n-1)]\n",
    "        \n"
   ]
  },
  {
   "cell_type": "code",
   "execution_count": 20,
   "metadata": {},
   "outputs": [],
   "source": [
    "n = 100_000\n"
   ]
  },
  {
   "cell_type": "code",
   "execution_count": 26,
   "metadata": {},
   "outputs": [
    {
     "name": "stdout",
     "output_type": "stream",
     "text": [
      "proba d'acceptation pour (mu=4,sigma=2, lambda=0.2) = 0.4064212450012552 \n",
      "proba d'acceptation pour (mu=-4,sigma=2, lambda=1) = 0.8427384585761083 \n"
     ]
    },
    {
     "data": {
      "image/png": "[encoded data removed]",
      "text/plain": [
       "<Figure size 1440x504 with 2 Axes>"
      ]
     },
     "metadata": {
      "needs_background": "light"
     },
     "output_type": "display_data"
    }
   ],
   "source": [
    "fig, (ax1, ax2) = plt.subplots(1, 2, sharey= True, figsize=(20,7))\n",
    "fig.suptitle('Comparaisons entre densités théoriques et hist. des densités de simulation AR de loi proposition h ')\n",
    "\n",
    "\n",
    "m = 4 \n",
    "s = 2 \n",
    "l = 0.2\n",
    "\n",
    "print(\"proba d'acceptation pour (mu={0}, sigma={1}, lambda={2}) = {3} \".format(m,s,l,1/M_h(l,m,s)) )\n",
    "echantillon = AR_h_V2(n,m,s,l)\n",
    "\n",
    "ax1.hist(echantillon, density=True, bins=\"auto\",label = \"hist. des densités de l'échantillon\") \n",
    "ax1.plot(np.linspace(0,max(echantillon),50), st.norm.pdf(np.linspace(0,max(echantillon),50),loc=m,scale=s)/(1-st.norm.cdf(0,loc=m,scale=s)), label = \"densité théorique\")\n",
    "ax1.set(xlabel=\"hist. des densités pour un éch. de taille {0} (mu={1},sigma={2}, lambda={3})\".format(n,m,s,l))\n",
    "ax1.legend()\n",
    "\n",
    "m = -4\n",
    "s = 2 \n",
    "l = 1\n",
    "\n",
    "print(\"proba d'acceptation pour (mu={0}, sigma={1}, lambda={2}) = {3} \".format(m,s,l,1/M_h(l,m,s)) )\n",
    "echantillon = AR_h_V2(n,m,s,l)\n",
    "\n",
    "ax2.hist(echantillon, density=True, bins=\"auto\",label = \"hist. des densités de l'échantillon\") \n",
    "ax2.plot(np.linspace(0,max(echantillon),100), st.norm.pdf(np.linspace(0,max(echantillon),100),loc=m,scale=s)/(1-st.norm.cdf(0,loc=m,scale=s)), label = \"densité théorique\")\n",
    "ax2.set(xlabel=\"hist. des densités pour un éch. de taille {0} (mu={1},sigma={2}, lambda={3})\".format(n,m,s,l))\n",
    "ax2.legend()\n",
    "\n",
    "plt.show()"
   ]
  },
  {
   "cell_type": "markdown",
   "metadata": {},
   "source": [
    "Si l'on veut simuler la loi $f$ selon cette méthode, les paramètres $\\mu$ et $\\sigma$ restent fixés par l'utilisateur. Seul le paramètre $\\lambda$ de la loi de proposition est variable. \n"
   ]
  },
  {
   "cell_type": "code",
   "execution_count": 31,
   "metadata": {},
   "outputs": [
    {
     "data": {
      "image/png": "[encoded data removed]",
      "text/plain": [
       "<Figure size 432x288 with 1 Axes>"
      ]
     },
     "metadata": {
      "needs_background": "light"
     },
     "output_type": "display_data"
    }
   ],
   "source": [
    "plt.plot(np.linspace(0.01,10,100),[1/M_h(l,m,s) for l in np.linspace(0.01,10,100)],\"b\")\n",
    "plt.xlabel(\"lambda\")\n",
    "plt.ylabel(\"1 / M(lambda)\")\n",
    "plt.title(\"proba acceptation selon lambda (mu={0}, sigma={1})\".format(m,s))\n",
    "plt.show()"
   ]
  },
  {
   "cell_type": "markdown",
   "metadata": {},
   "source": [
    "Pour maximiser la probabilité d'acceptation $\\frac{1}{M(\\lambda)}$, on minimise $M(\\lambda)$ en $\\lambda$.\n",
    "\n",
    "On suppose dans un premier temps que $\\mu < 0$.\n",
    "\n",
    "$$\n",
    "M(\\lambda) = \\left\\{\n",
    "    \\begin{array}{ll}\n",
    "        \\frac{1}{\\Phi(\\frac{\\mu}{\\sigma}) \\sqrt{2\\pi} \\sigma \\lambda} e^{\\mu \\lambda + \\frac{\\lambda^2 \\sigma^2}{2}} & \\mbox{si} \\lambda \\in\\: ]-\\frac{\\mu}{\\sigma^2},+\\infty[ \\\\\n",
    "        \\frac{1}{\\Phi(\\frac{\\mu}{\\sigma}) \\sqrt{2\\pi} \\sigma \\lambda}  e^{-\\frac{1}{2\\sigma^2} \\mu^2} & \\mbox{si} \\lambda \\in\\: ]0, -\\frac{\\mu}{\\sigma^2}]\n",
    "    \\end{array}\n",
    "\\right.\n",
    "$$\n",
    "\n",
    "Sur $]0, -\\frac{\\mu}{\\sigma^2}]$, $M(\\lambda)$ est strictement décroissante, le minimum est donc atteint en $-\\frac{\\mu}{\\sigma^2}$.\n",
    "\n",
    "Sur $]-\\frac{\\mu}{\\sigma^2},+\\infty[$, \n",
    "\\begin{align*}\n",
    "M'(\\lambda) & = -\\frac{1}{\\Phi(\\frac{\\mu}{\\sigma}) \\sqrt{2\\pi} \\sigma} \\frac{1}{\\lambda^2} e^{\\mu \\lambda + \\frac{\\lambda^2 \\sigma^2}{2}} + \\frac{1}{\\Phi(\\frac{\\mu}{\\sigma}) \\sqrt{2\\pi} \\sigma \\lambda} (\\mu + \\sigma^2 \\lambda) e^{\\mu \\lambda + \\frac{\\lambda^2 \\sigma^2}{2}} \\\\\n",
    "& = -\\frac{1}{\\lambda} M(\\lambda) + (\\mu + \\sigma^2 \\lambda) M(\\lambda) \\\\\n",
    "& = \\frac{1}{\\lambda} M(\\lambda) (\\sigma^2 \\lambda^2 + \\mu \\lambda - 1)\n",
    "\\end{align*}\n",
    "\n",
    "$\\frac{1}{\\lambda} M(\\lambda) \\neq 0 \\; \\forall \\lambda \\in ]-\\frac{\\mu}{\\sigma^2},+\\infty[$. Pour la nullité du polynôme :\n",
    "\n",
    "\\begin{align*}\n",
    "\\Delta = & \\mu^2 + 4\\sigma^2 > 0 \\; \\mbox{ il y a 2 racines réélles :} \\\\\n",
    "\\lambda_1 & = \\frac{-\\mu - \\sqrt{\\mu^2 + 4\\sigma^2}}{2\\sigma^2} < 0 \\; \\mbox{ cette racine est exclue}\\\\\n",
    "\\lambda_2 & = \\frac{-\\mu + \\sqrt{\\mu^2 + 4\\sigma^2}}{2\\sigma^2} > -\\frac{\\mu}{2\\sigma^2} \\\\\n",
    "\\end{align*}\n",
    "\n",
    "Comme $M'(\\lambda)<0$ pour $\\lambda<\\lambda_2$ et $M'(\\lambda)>0$ pour $\\lambda>\\lambda_2 $, le minimum global est atteint en $\\lambda^* = \\lambda_2 = \\frac{-\\mu + \\sqrt{\\mu^2 + 4\\sigma^2}}{2\\sigma^2} $. $\\lambda^*$ dépend de $(\\mu,\\sigma)$ fixé par l'utilisateur.\n",
    "\n",
    "Pour $\\mu < 0$, la loi de proposition optimale (telle que la probabilité d'acceptation soit maximisée) est la loi $\\mathcal{E}(\\lambda^*)$."
   ]
  },
  {
   "cell_type": "markdown",
   "metadata": {},
   "source": [
    "Pour $\\mu <0$ et avec cette loi de proposition optimale, a-t-on la probabilité d'acceptation supérieure à 0.5 ?"
   ]
  },
  {
   "cell_type": "code",
   "execution_count": 32,
   "metadata": {},
   "outputs": [],
   "source": [
    "def M_h_opti(m,s):\n",
    "    #assert m<0\n",
    "    l = (-m + np.sqrt(m**2 + 4*s**2))/(2*s**2)\n",
    "    if m+l*s**2 > 0:\n",
    "        return np.exp(m*l + l**2*s**2/2)/(st.norm.cdf(m/s,loc=0,scale=1)*np.sqrt(2*np.pi)*s*l)\n",
    "    else:\n",
    "        return np.exp(-m**2/(2*s**2))/(st.norm.cdf(m/s,loc=0,scale=1)*np.sqrt(2*np.pi)*s*l)\n"
   ]
  },
  {
   "cell_type": "code",
   "execution_count": 33,
   "metadata": {},
   "outputs": [
    {
     "data": {
      "text/plain": [
       "0.9336453245094183"
      ]
     },
     "execution_count": 33,
     "metadata": {},
     "output_type": "execute_result"
    }
   ],
   "source": [
    "m = -4\n",
    "s = 2\n",
    "1/M_h_opti(m,s) #proba acceptation maximal avec cette méthode pour ce m et ce s\n"
   ]
  },
  {
   "cell_type": "code",
   "execution_count": 34,
   "metadata": {
    "scrolled": false
   },
   "outputs": [
    {
     "data": {
      "image/png": "[encoded data removed]",
      "text/plain": [
       "<Figure size 432x288 with 1 Axes>"
      ]
     },
     "metadata": {
      "needs_background": "light"
     },
     "output_type": "display_data"
    },
    {
     "name": "stdout",
     "output_type": "stream",
     "text": [
      "0\n"
     ]
    }
   ],
   "source": [
    "plt.plot(np.linspace(-50,-0.001,1000),[1/M_h_opti(m,s) for m in np.linspace(-50,-1e-5,1000)],\"b\")\n",
    "plt.xlabel(\"mu\")\n",
    "plt.ylabel(\"1 / M(lambda*)\")\n",
    "plt.title(\"proba acceptation selon mu (lambda=lambda*, sigma={0})\".format(s))\n",
    "plt.show()\n",
    "\n",
    "print(sum(([1/M_h_opti(m,s) < 0.5 for m in np.linspace(-50,-1e-5,1000)])*1))\n",
    "#aucune proba d'acceptation inférieure à 0.5\n"
   ]
  },
  {
   "cell_type": "markdown",
   "metadata": {},
   "source": [
    "Toutes les probabilités d'acceptation sont supérieures à $0.5$ pour une discrétisation de valeurs négatives de $\\mu$. La méthode d'acceptation-rejet de proposition $h$ est donc bien meilleure pour les $\\mu < 0$ que celle de proposition $g$."
   ]
  },
  {
   "cell_type": "markdown",
   "metadata": {},
   "source": [
    "On suppose dans un second temps que $\\mu > 0$.\n",
    "\n",
    "Alors $\\forall \\lambda > 0$,\n",
    "$$\n",
    "M(\\lambda) = \\frac{1}{\\Phi(\\frac{\\mu}{\\sigma}) \\sqrt{2\\pi} \\sigma \\lambda} e^{\\mu \\lambda + \\frac{\\lambda^2 \\sigma^2}{2}}\n",
    "$$\n",
    "\n",
    "par les mêmes calculs que précédents, on trouve que $\\lambda^* = \\underset{\\lambda>0}{\\text{argmin}}\\: M(\\lambda)  = \\lambda_2 = \\frac{-\\mu + \\sqrt{\\mu^2 + 4\\sigma^2}}{2\\sigma^2}\\; (>0)$.\n",
    "\n"
   ]
  },
  {
   "cell_type": "code",
   "execution_count": 35,
   "metadata": {},
   "outputs": [],
   "source": [
    "#AR_h_V2 avec proba acceptation optimale\n",
    "def AR_h_V3(n,m,s):\n",
    "    #n = nombre de simulations\n",
    "    #m = paramètre moyenne de la loi de proposition g\n",
    "    #s = paramètre écart-type de la loi de proposition g\n",
    "    \n",
    "    resultat = []\n",
    "    lresultat = 0\n",
    "    M = M_h_opti(m,s)\n",
    "    proba_accepte = 1/M\n",
    "    h = st.expon(loc=0,scale=1/l)\n",
    "    g = st.norm(loc=m,scale=s)\n",
    "    Z = 1/st.norm.cdf(m/s,loc=0,scale=1)\n",
    "    while lresultat < n:\n",
    "        missing = n - lresultat\n",
    "        n_simu = int(missing / proba_accepte)\n",
    "        Y = h.rvs(size=n_simu)\n",
    "        U = st.uniform.rvs(size=n_simu)\n",
    "        \n",
    "        accepte = (U <= Z*g.pdf(Y)/(M*h.pdf(Y))) & (Y > 0)\n",
    "        if sum(accepte) > 0:\n",
    "            resultat.append(Y[accepte])\n",
    "        lresultat += sum(accepte)\n",
    "        \n",
    "    return np.r_[tuple(resultat)][0:(n-1)]"
   ]
  },
  {
   "cell_type": "markdown",
   "metadata": {},
   "source": [
    "Comparons <code>AR_h_V1</code>, <code>AR_h_V2</code> et <code>AR_h_V3</code> en terme de temps de calcul, pour des paramètres fixés :"
   ]
  },
  {
   "cell_type": "code",
   "execution_count": 49,
   "metadata": {},
   "outputs": [
    {
     "name": "stdout",
     "output_type": "stream",
     "text": [
      "mu = -4, sigma = 2, lambda = 0.3\n",
      "temps pour AR_h_V1 : 21.559081554412842  -  proba acceptation = 0.2528215375728325\n",
      "temps pour AR_h_V2 : 0.3621392250061035  -  proba acceptation = 0.2528215375728325\n",
      "temps pour AR_h_V3 : 0.1798863410949707  -  proba acceptation = 0.9336453245094183\n"
     ]
    }
   ],
   "source": [
    "m = -4\n",
    "s = 2\n",
    "l = 0.3\n",
    "print(\"mu = {0}, sigma = {1}, lambda = {2}\".format(m,s,l))\n",
    "\n",
    "start = time.time()\n",
    "AR_h_V1(10_000, m, s, l)\n",
    "end = time.time()\n",
    "print(\"temps pour AR_h_V1 : {0}  -  proba acceptation = {1}\".format(end-start,1/M_h(l,m,s)))\n",
    "\n",
    "start = time.time()\n",
    "AR_h_V2(10_000, m, s, l)\n",
    "end = time.time()\n",
    "print(\"temps pour AR_h_V2 : {0}  -  proba acceptation = {1}\".format(end-start,1/M_h(l,m,s)))\n",
    "\n",
    "start = time.time()\n",
    "AR_h_V3(10_000, m, s)\n",
    "end = time.time()\n",
    "print(\"temps pour AR_h_V3 : {0}  -  proba acceptation = {1}\".format(end-start,1/M_h_opti(m,s)))\n",
    "\n"
   ]
  },
  {
   "cell_type": "markdown",
   "metadata": {},
   "source": [
    "On préférera <code>AR_h_V3</code>.\n",
    "\n",
    "Maintenant avec $\\lambda^*$, faisons varier $\\mu > 0$ : "
   ]
  },
  {
   "cell_type": "code",
   "execution_count": 36,
   "metadata": {},
   "outputs": [
    {
     "data": {
      "image/png": "[encoded data removed]",
      "text/plain": [
       "<Figure size 432x288 with 1 Axes>"
      ]
     },
     "metadata": {
      "needs_background": "light"
     },
     "output_type": "display_data"
    }
   ],
   "source": [
    "plt.plot(np.linspace(1e-5,50,1000),[1/M_h_opti(m,s) for m in np.linspace(1e-5,50,1000)],'b',label=\"proba acceptation de l'AR avec h\")\n",
    "plt.plot(np.linspace(1e-5,50,1000),[st.norm.cdf(m/s,loc=0,scale=1) for m in np.linspace(1e-5,50,1000)],'r',label=\"proba acceptation de l'AR avec g\")\n",
    "plt.xlabel(\"mu\")\n",
    "plt.ylabel(\"1 / M\")\n",
    "plt.title(\"proba acceptation selon mu (lambda=lambda*, sigma={0})\".format(s))\n",
    "plt.legend()\n",
    "plt.show()"
   ]
  },
  {
   "cell_type": "markdown",
   "metadata": {},
   "source": [
    "Pour $\\mu>0$ il existe un certain seuil $\\mu$ au-delà duquel la méthode d'acceptation-rejet de proposition $g$ est meilleure que celle de proposition $h$.\n",
    "\n",
    "Ce seuil augmente lorsque le paramètre $\\sigma$ augmente :"
   ]
  },
  {
   "cell_type": "code",
   "execution_count": 18,
   "metadata": {},
   "outputs": [
    {
     "data": {
      "image/png": "[encoded data removed]",
      "text/plain": [
       "<Figure size 432x288 with 1 Axes>"
      ]
     },
     "metadata": {
      "needs_background": "light"
     },
     "output_type": "display_data"
    },
    {
     "data": {
      "image/png": "[encoded data removed]",
      "text/plain": [
       "<Figure size 432x288 with 1 Axes>"
      ]
     },
     "metadata": {
      "needs_background": "light"
     },
     "output_type": "display_data"
    },
    {
     "data": {
      "image/png": "[encoded data removed]",
      "text/plain": [
       "<Figure size 432x288 with 1 Axes>"
      ]
     },
     "metadata": {
      "needs_background": "light"
     },
     "output_type": "display_data"
    }
   ],
   "source": [
    "plt.figure(1)\n",
    "plt.plot(np.linspace(1e-5,50,1000),[1/M_h_opti(m,1) for m in np.linspace(1e-5,50,1000)],'b',label=\"proba acceptation de l'AR avec h\")\n",
    "plt.plot(np.linspace(1e-5,50,1000),[st.norm.cdf(m/1,loc=0,scale=1) for m in np.linspace(1e-5,50,1000)],'r',label=\"proba acceptation de l'AR avec g\")\n",
    "plt.xlabel(\"mu\")\n",
    "plt.ylabel(\"1 / M\")\n",
    "plt.title(\"proba acceptation selon mu (lambda=lambda*, sigma={0})\".format(1))\n",
    "plt.legend()\n",
    "\n",
    "\n",
    "plt.figure(2)\n",
    "plt.plot(np.linspace(1e-5,50,1000),[1/M_h_opti(m,10) for m in np.linspace(1e-5,50,1000)],'b',label=\"proba acceptation de l'AR avec h\")\n",
    "plt.plot(np.linspace(1e-5,50,1000),[st.norm.cdf(m/10,loc=0,scale=1) for m in np.linspace(1e-5,50,1000)],'r',label=\"proba acceptation de l'AR avec g\")\n",
    "plt.xlabel(\"mu\")\n",
    "plt.ylabel(\"1 / M\")\n",
    "plt.title(\"proba acceptation selon mu (lambda=lambda*, sigma={0})\".format(10))\n",
    "plt.legend()\n",
    "\n",
    "\n",
    "plt.figure(3)\n",
    "plt.plot(np.linspace(1e-5,50,1000),[1/M_h_opti(m,70) for m in np.linspace(1e-5,50,1000)],'b',label=\"proba acceptation de l'AR avec h\")\n",
    "plt.plot(np.linspace(1e-5,50,1000),[st.norm.cdf(m/70,loc=0,scale=1) for m in np.linspace(1e-5,50,1000)],'r',label=\"proba acceptation de l'AR avec g\")\n",
    "plt.xlabel(\"mu\")\n",
    "plt.ylabel(\"1 / M\")\n",
    "plt.title(\"proba acceptation selon mu (lambda=lambda*, sigma={0})\".format(70))\n",
    "plt.legend()\n",
    "\n",
    "plt.show()"
   ]
  },
  {
   "cell_type": "markdown",
   "metadata": {},
   "source": [
    "En conclusion, la méthode d'acceptation-rejet de proposition $h$ optimale (<code>AR_h_V3</code>), est préférable si $\\left[ \\mu < 0 \\right] \\; ou \\; \\left[ \\mu > 0 \\; et \\; \\frac{1}{\\Phi(\\frac{\\mu}{\\sigma}) \\sqrt{2\\pi} \\sigma \\lambda^*} e^{\\mu \\lambda^* + \\frac{\\lambda^{*2} \\sigma^2}{2}} < \\Phi(\\frac{\\mu}{\\sigma}) \\right] $. La dernière inégalité correspond à $ \\frac{1}{M(\\lambda^*)} > \\frac{1}{M}$. La methode d'acceptation-rejet de proposition $g$ (<code>AR_g_V2</code>) est préfèrable sinon."
   ]
  },
  {
   "cell_type": "markdown",
   "metadata": {},
   "source": [
    "Méthode AR qui prend la loi de proposition qui a la plus grande probabilité d'acceptation (combinaison de <code>AR_h_V3</code> et <code>AR_g_V2</code>):"
   ]
  },
  {
   "cell_type": "code",
   "execution_count": 42,
   "metadata": {},
   "outputs": [
    {
     "name": "stdout",
     "output_type": "stream",
     "text": [
      "loi de proposition h utilisée\n"
     ]
    },
    {
     "data": {
      "text/plain": [
       "array([0.86925133, 1.18189124, 0.50556958, 0.08279175])"
      ]
     },
     "execution_count": 42,
     "metadata": {},
     "output_type": "execute_result"
    }
   ],
   "source": [
    "def AR_gh(n,m,s):\n",
    "    #n = nombre de simulations\n",
    "    #m = paramètre moyenne de la loi cible\n",
    "    #s = paramètre écart-type de la loi cible\n",
    "    \n",
    "    if st.norm.cdf(m/s,loc=0,scale=1) > 1/M_h_opti(m,s) :\n",
    "        resultat = AR_g_V2(n,m,s)\n",
    "        print(\"loi de proposition g utilisée\")\n",
    "    else:\n",
    "        resultat = AR_h_V3(n,m,s)\n",
    "        print(\"loi de proposition h utilisée\")\n",
    "        \n",
    "    return resultat\n",
    "\n",
    "AR_gh(5,m,s)"
   ]
  },
  {
   "cell_type": "markdown",
   "metadata": {},
   "source": [
    "---"
   ]
  },
  {
   "cell_type": "markdown",
   "metadata": {},
   "source": [
    "### Supplément question 2 : méthode d'inversion"
   ]
  },
  {
   "cell_type": "markdown",
   "metadata": {},
   "source": [
    "On sait que $F(x) = \\frac{G(x) - G(0)}{1 - G(0)} = y \\iff G(x) = y(1-G(0)) + G(0) \\iff x = G^{-1}\\left( y(1-G(0)) + G(0) \\right) = F^{-1}(y)$ \n",
    "\n",
    "car $G$ est la fonction de répartition de $\\mathcal{N}(\\mu,\\sigma^2)$ qui est une loi continue : G est continue et strictement croissante donc elle est bijective (sa bijection réciproque $G^{-1}$ est la fonction quantile de $\\mathcal{N}_d(\\mu,\\sigma^2)$).\n",
    "\n",
    "Par le Théorème d'inversion, pour $U \\sim \\mathcal{U}(]0,1[), F^{-1}(U) \\sim \\mathcal{N}_{>0}(\\mu,\\sigma^2)$"
   ]
  },
  {
   "cell_type": "code",
   "execution_count": 57,
   "metadata": {},
   "outputs": [],
   "source": [
    "def Inv(n,m,s):\n",
    "    U = st.uniform.rvs(size=n)\n",
    "    return st.norm.ppf(U*(1-st.norm.cdf(0,loc=m,scale=s))+st.norm.cdf(0,loc=m,scale=s),loc=m,scale=s)"
   ]
  },
  {
   "cell_type": "code",
   "execution_count": 59,
   "metadata": {},
   "outputs": [
    {
     "name": "stdout",
     "output_type": "stream",
     "text": [
      "proba d'acceptation pour (mu=4, sigma=2, lambda=0.2) = 0.4064212450012552 \n",
      "proba d'acceptation pour (mu=-4, sigma=2, lambda=1) = 0.8427384585761083 \n"
     ]
    },
    {
     "data": {
      "image/png": "[encoded data removed]",
      "text/plain": [
       "<Figure size 1440x504 with 2 Axes>"
      ]
     },
     "metadata": {
      "needs_background": "light"
     },
     "output_type": "display_data"
    }
   ],
   "source": [
    "fig, (ax1, ax2) = plt.subplots(1, 2, sharey= True, figsize=(20,7))\n",
    "fig.suptitle('Comparaisons entre densités théoriques et hist. des densités de simulation AR de loi proposition h ')\n",
    "\n",
    "\n",
    "m = 4 \n",
    "s = 2 \n",
    "\n",
    "echantillon = Inv(n,m,s)\n",
    "\n",
    "ax1.hist(echantillon, density=True, bins=\"auto\",label = \"hist. des densités de l'échantillon\") \n",
    "ax1.plot(np.linspace(0,max(echantillon),50), st.norm.pdf(np.linspace(0,max(echantillon),50),loc=m,scale=s)/(1-st.norm.cdf(0,loc=m,scale=s)), label = \"densité théorique\")\n",
    "ax1.set(xlabel=\"hist. des densités pour un éch. de taille {0} (mu={1},sigma={2}, lambda={3})\".format(n,m,s,l))\n",
    "ax1.legend()\n",
    "\n",
    "m = -4\n",
    "s = 2 \n",
    "\n",
    "echantillon = Inv(n,m,s)\n",
    "\n",
    "ax2.hist(echantillon, density=True, bins=\"auto\",label = \"hist. des densités de l'échantillon\") \n",
    "ax2.plot(np.linspace(0,max(echantillon),100), st.norm.pdf(np.linspace(0,max(echantillon),100),loc=m,scale=s)/(1-st.norm.cdf(0,loc=m,scale=s)), label = \"densité théorique\")\n",
    "ax2.set(xlabel=\"hist. des densités pour un éch. de taille {0} (mu={1},sigma={2}, lambda={3})\".format(n,m,s,l))\n",
    "ax2.legend()\n",
    "\n",
    "plt.show()"
   ]
  },
  {
   "cell_type": "markdown",
   "metadata": {},
   "source": [
    "Comparons <code>AR_gh</code> et <code>Inv</code> en terme de temps de calcul, à paramètres fixés :"
   ]
  },
  {
   "cell_type": "code",
   "execution_count": 66,
   "metadata": {},
   "outputs": [
    {
     "name": "stdout",
     "output_type": "stream",
     "text": [
      "mu = 1, sigma = 2\n",
      "loi de proposition g utilisée\n",
      "temps pour AR_gh : 1.3744776248931885\n",
      "temps pour Inv : 0.022521018981933594\n",
      "--------------------------------------------\n",
      "mu = -10, sigma = 5\n",
      "loi de proposition h utilisée\n",
      "temps pour AR_gh : 1.261099100112915\n",
      "temps pour Inv : 0.030788421630859375\n"
     ]
    }
   ],
   "source": [
    "m = 1\n",
    "s = 2 \n",
    "print(\"mu = {0}, sigma = {1}\".format(m,s))\n",
    "\n",
    "start = time.time()\n",
    "AR_gh(100_000, m, s)\n",
    "end = time.time()\n",
    "print(\"temps pour AR_gh : {0}\".format(end-start))\n",
    "\n",
    "start = time.time()\n",
    "Inv(100_000, m, s)\n",
    "end = time.time()\n",
    "print(\"temps pour Inv : {0}\".format(end-start))\n",
    "\n",
    "print(\"--------------------------------------------\")\n",
    "\n",
    "m = -10\n",
    "s = 5\n",
    "print(\"mu = {0}, sigma = {1}\".format(m,s))\n",
    "\n",
    "start = time.time()\n",
    "AR_gh(100_000, m, s)\n",
    "end = time.time()\n",
    "print(\"temps pour AR_gh : {0}\".format(end-start))\n",
    "\n",
    "start = time.time()\n",
    "Inv(100_000, m, s)\n",
    "end = time.time()\n",
    "print(\"temps pour Inv : {0}\".format(end-start))\n"
   ]
  },
  {
   "cell_type": "markdown",
   "metadata": {},
   "source": [
    "---"
   ]
  },
  {
   "cell_type": "markdown",
   "metadata": {},
   "source": [
    "### Question 3 : Echantillonnage de Gibbs"
   ]
  },
  {
   "cell_type": "markdown",
   "metadata": {},
   "source": [
    "On cherche à simuler par échantillonnage de Gibbs le vecteur aléatoire $(N_1,\\dots,N_d) = (X_1|X_1 > 0,\\dots,X_d|X_d > 0)$. On exprime les lois conditionnelles."
   ]
  },
  {
   "cell_type": "markdown",
   "metadata": {},
   "source": [
    "i) Dans un premier temps, on considère le cas $d=2$. On cherche à exprimer les lois conditionnelles du vecteur aléatoire $(N_1,N_2) = (X_1|X_1 > 0, X_2|X_2 > 0) \\sim \\mathcal{N}_{>0,2}(\\mu,\\Sigma)$ (on rappelle que $(X_1,X_2) \\sim \\mathcal{N}_2(\\mu,\\Sigma)$ de densité $g$), de densité : $ f(x_1,x_2) = f_{(N_1,N_2)}(x_1,x_2) = Z(\\mu,\\Sigma) g(x_1,x_2)\\mathbb{1}_{]0,+\\infty[^2}(x_1,x_2)$ .\n",
    "\n",
    "\n",
    "- Montrons que $N_1|N_2$ est encore une loi normale tronquée :\n",
    "\n",
    "$\\forall x_2>0$\n",
    "\n",
    "\\begin{align*}\n",
    "f_{N_1|N_2}(x_1|x_2) & = \\frac{f(x_1,x_2)}{f_{N_2}(x_2)} \\\\\n",
    "& = \\frac{ f(x_1,x_2) }{\\int_{]0,+\\infty [} f(t,x_2) dt} \\\\\n",
    "& = \\frac{Z(\\mu,\\Sigma) g(x_1,x_2) \\mathbb{1}_{]0,+\\infty[}(x_1) }{\\int_{]0,+\\infty[} Z(\\mu,\\Sigma) g(t,x_2) dt} \\\\\n",
    "& = \\frac{g(x_1,x_2)}{\\int_{]0,+\\infty[} g(t,x_2) dt} \\mathbb{1}_{]0,+\\infty[}(x_1) \\\\\n",
    "& = \\frac{g_{X_1|X_2}(x_1|x_2) g_{X_2}(x_2)}{\\int_{]0,+\\infty[} g_{X_1|X_2}(t|x_2) g_{X_2}(x_2) dt} \\mathbb{1}_{]0,+\\infty[}(x_1) \\\\\n",
    "& = \\frac{g_{X_1|X_2}(x_1|x_2)}{\\int_{]0,+\\infty[} g_{X_1|X_2}(t|x_2) dt} \\mathbb{1}_{]0,+\\infty[}(x_1) \n",
    "\\end{align*}\n",
    "\n",
    "Comme $X_1|X_2$ suit une loi normale, par définition de la loi normale tronquée on a bien $N_1|N_2$ qui suit une loi normale tronquée à $]0,+\\infty[$.\n",
    "\n",
    "- On exhibe les paramètres des lois conditionnelles :\n",
    "\n",
    "Soit $Q = \\Sigma^{-1} = \n",
    "\\left(\n",
    "\\begin{array}{ll}\n",
    "    q_{11} & q_{12} \\\\\n",
    "    q_{12} & q_{22} \n",
    "\\end{array}\n",
    "\\right)\n",
    "$\n",
    "\n",
    "A partir de la densité $f$ ,on exprime $f_{N_1|N_2}(x_1|x_2)$ à une constante près pour déduire les paramètres de sa loi.\n",
    "\n",
    "$\\forall x_1>0, x_2>0$, \n",
    "\n",
    "$x_1 \\mapsto f(x_1,x_2) = \\frac{Z(\\mu,\\Sigma)}{2\\pi\\sqrt{|\\Sigma|}}\\: \\exp \\{ -\\frac{1}{2} (x_1-\\mu_1 \\: x_2-\\mu_2) Q \n",
    "\\left(\n",
    "\\begin{array}{l}\n",
    "    x_1-\\mu_1 \\\\\n",
    "    x_2-\\mu_2\n",
    "\\end{array}\n",
    "\\right)\n",
    "\\}\n",
    "$\n",
    "\n",
    "$\n",
    "= \\frac{Z(\\mu,\\Sigma)}{2\\pi\\sqrt{|\\Sigma|}}\\: \\exp \\{ -\\frac{1}{2} ( q_{11}(x_1-\\mu_1)^2 + q_{22}(x_2 - \\mu_2)^2 + 2q_{12}(x_1-\\mu_1)(x_2 - \\mu_2) ) \\} $\n",
    "\n",
    "\n",
    "Ainsi,\n",
    "\n",
    "\\begin{align*}\n",
    "x_1 \\mapsto f_{N_1|N_2}(x_1|x_2) & \\propto \\exp \\{-\\frac{1}{2} ( q_{11} x_1^2  - 2 \\mu_1 q_{11} x_1 + 2 q_{12} x_1 x_2 - 2 q_{12} \\mu_2 x_1 ) \\} \\\\\n",
    "& \\propto \\exp \\{-\\frac{q_{11}}{2} ( x_1^2 - \\frac{q_{11} \\mu_1 + q_{12} \\mu_2 - q_{12} x_2}{q_{11}} x_1 ) \\} \\\\\n",
    "& \\propto \\exp \\{ -\\frac{1}{2\\frac{1}{q_{11}}} (x_1 - (\\mu_1 + \\frac{q_{12} \\mu_2 - q_{12} x_2}{q_{11}} ) )^2 \\}\n",
    "\\end{align*}\n",
    "\n",
    "On en déduit que $\\forall x_2 > 0$, $N_1|N_2 = x_2 \\sim \\mathcal{N}_{>0}(\\mu_1 + \\frac{q_{12} \\mu_2 - q_{12} x_2}{q_{11}},\\frac{1}{q_{11}})$\n",
    "\n"
   ]
  },
  {
   "cell_type": "markdown",
   "metadata": {},
   "source": [
    "Par symétrie des notations : $\\forall x_1 > 0$, $N_2|N_1 = x_1 \\sim \\mathcal{N}_{>0}(\\mu_2 + \\frac{q_{12} \\mu_1 - q_{12} x_1}{q_{22}},\\frac{1}{q_{22}})$.\n"
   ]
  },
  {
   "cell_type": "markdown",
   "metadata": {},
   "source": [
    "ii) Dans un second temps, on se ramène au cas $d>2$ en considérant les vecteurs et matrices définis par blocs.\n",
    "On cherche à exprimer les lois conditionnelles du vecteur aléatoire ($1$ composante sachant les $d-1$ autres) $(N_1,\\dots,N_d) = (X_1|X_1 > 0, \\dots, X_d|X_d > 0) \\sim \\mathcal{N}_{>0,d}(\\mu,\\Sigma)$ (on rappelle que $(X_1,\\dots,X_d) \\sim \\mathcal{N}_d(\\mu,\\Sigma)$ de densité $g$), de densité : $ f(x_1,\\dots,x_d) = f_{(N_1,\\dots,N_d)}(x_1,\\dots,x_d) = Z(\\mu,\\Sigma) g(x_1,\\dots,x_d)\\mathbb{1}_{]0,+\\infty[^d}(x_1,\\dots,x_d)$.\n",
    "\n",
    "Via l'écriture par bloc : pour $i \\in \\{1,\\dots,n\\}, (N_i,N_{-i}) = (N_i,\\dots, N_{i-1},  N_{i+1}, \\dots,N_d)$, et $N_i|N_{-i} = N_i | (N_1, \\dots, N_{i-1},  N_{i+1}, \\dots, N_d)$\n",
    "\n",
    "\n",
    "- De la même manière on montre que $N_i|N_{-i}$ est encore une loi normale tronquée :\n",
    "\n",
    "$\\forall x_{-i} \\in (\\mathbb{R}_+^*)^{d-1}$,\n",
    "\n",
    "\\begin{align*}\n",
    "f_{N_i|N_{-i}}(x_i|x_{-i}) & = \\frac{f(x_i,x_{-i})}{f_{N_{-i}}(x_{-i})} \\\\\n",
    "& = \\frac{ f(x_i,x_{-i}) }{\\int_{]0,+\\infty [} f(t,x_{-i}) dt} \\\\\n",
    "& = \\frac{Z(\\mu,\\Sigma) g(x_i,x_{-i}) \\mathbb{1}_{]0,+\\infty[}(x_i) }{\\int_{]0,+\\infty[} Z(\\mu,\\Sigma) g(t,x_{-i}) dt} \\\\\n",
    "& = \\frac{g(x_i,x_{-i})}{\\int_{]0,+\\infty[} g(t,x_{-i}) dt} \\mathbb{1}_{]0,+\\infty[}(x_i) \\\\\n",
    "& = \\frac{g_{X_i|X_{-i}}(x_i|x_{-i}) g_{X_{-i}}(x_{-i})}{\\int_{]0,+\\infty[} g_{X_i|X_{-i}}(t|x_{-i}) g_{X_{-i}}(x_{-i}) dt} \\mathbb{1}_{]0,+\\infty[}(x_i) \\\\\n",
    "& = \\frac{g_{X_i|X_{-i}}(x_i|x_{-i})}{\\int_{]0,+\\infty[} g_{X_i|X_{-i}}(t|x_{-i}) dt} \\mathbb{1}_{]0,+\\infty[}(x_i) \n",
    "\\end{align*}\n",
    "\n",
    "Comme $X_i|X_{-i}$ suit une loi normale, par définition de la loi normale tronquée on a bien $N_i|N_{-i}$ qui suit une loi normale tronquée à $]0,+\\infty[$.\n",
    "\n",
    "\n",
    "- De la même manière on exhibe les paramètres des lois conditionnelles :\n",
    "\n",
    "Soit $Q = \\Sigma^{-1} = \n",
    "\\left(\n",
    "\\begin{array}{ll}\n",
    "    q_{i,i} & q_{i,-i} \\\\ \n",
    "    q_{-i,i} & q_{-i,-i} \n",
    "\\end{array}\n",
    "\\right)\n",
    "\\;\\; q_{i,i} \\in \\mathbb{R},\\; q_{-i,i} = q_{i,-i}' \\in \\mathbb{R}^{d-1},\\; q_{-i,-i}$ matrice réélle de taille $(d-1)\\times(d-1)$.\n",
    "$\n",
    "\n",
    "\n",
    "A partir de la densité $f$ ,on exprime $f_{N_i|N_{-i}}(x_i|x_{-i})$ à une constante près pour déduire les paramètres de sa loi.\n",
    "\n",
    "$\\forall x_i>0, x_{-i} \\in (\\mathbb{R}_+^*)^{d-1}$, \n",
    "\n",
    "$x_i \\mapsto f(x_i|x_{-i}) = \\frac{Z(\\mu,\\Sigma)}{\\sqrt{(2\\pi)^d|\\Sigma|}} \\exp \\{ -\\frac{1}{2} \n",
    "\\left(\n",
    "\\begin{array}{l}\n",
    "    x_i-\\mu_i \\\\\n",
    "    x_{-i}-\\mu_{-i}\n",
    "\\end{array}\n",
    "\\right)'\n",
    "Q \n",
    "\\left(\n",
    "\\begin{array}{l}\n",
    "    x_i-\\mu_i \\\\\n",
    "    x_{-i}-\\mu_{-i}\n",
    "\\end{array}\n",
    "\\right)\n",
    "\\}\n",
    "$\n",
    "\n",
    "$\n",
    "= \\frac{Z(\\mu,\\Sigma)}{2\\pi\\sqrt{|\\Sigma|}} \\exp \\{-\\frac{1}{2} \\{ q_{i,i}(x_i-\\mu_i)^2 + q_{-i,-i}(x_{-i} - \\mu_{-i})^2 + 2q_{i,-i}(x_i-\\mu_i)(x_{-i} - \\mu_{-i}) \\} \\} $\n",
    "\n",
    "\n",
    "Ainsi,\n",
    "\n",
    "\\begin{align*}\n",
    "x_i \\mapsto f_{N_i|N_{-i}}(x_i|x_{-i}) & \\propto \\exp \\{-\\frac{1}{2} ( q_{i,i} x_i^2  - 2 \\mu_i q_{i,i} x_i + 2 q_{i,-i} x_i x_{-i} - 2 q_{i,-i} \\mu_{-i} x_i ) \\} \\\\\n",
    "& \\propto \\exp \\{-\\frac{q_{i,i}}{2} ( x_i^2 - \\frac{q_{i,i} \\mu_i + q_{i,-i} \\mu_{-i} - q_{i,-i} x_{-i}}{q_{i,i}} x_i ) \\} \\\\\n",
    "& \\propto \\exp \\{ -\\frac{1}{2\\frac{1}{q_{i,i}}} (x_i - (\\mu_i + \\frac{q_{i,-i} \\mu_{-i} - q_{i,-i} x_{-i}}{q_{i,i}} ) )^2 \\}\n",
    "\\end{align*}\n",
    "\n",
    "On en déduit que $\\forall x_{-i} \\in (\\mathbb{R}_+^*)^{d-1}$, $N_i|N_{-i} = x_{-i} \\sim \\mathcal{N}_{>0}(\\mu_i + \\frac{q_{i,-i} \\mu_{-i} - q_{i,-i} x_{-i}}{q_{i,i}},\\frac{1}{q_{i,i}})$"
   ]
  },
  {
   "cell_type": "markdown",
   "metadata": {},
   "source": [
    "Schéma de l'algorithme d'échantillonnage de Gibbs : \n",
    "\n",
    "initialisation : $x^{(0)} = (x_1^{(0)}, \\dots, x_d^{(0)})$\n",
    "\n",
    "Pour $j$ allant de $1$ à $n$ :\n",
    "\n",
    "Pour $i$ allant de $1$ à $d$ :\n",
    "\n",
    "on génère $x_i^{(j+1)}$ selon $f_{N_i|N_{-i}}( \\bullet | x_1^{(j+1)}, \\dots,x_{i-1}^{(j+1)}, x_{i+1}^{(j)} ,\\dots , x_d^{(j)} )$\n",
    "\n",
    "\n",
    "Un échantillon $j$ approche une génération du vecteur aléatoire $ (N_1,\\dots,N_d)$"
   ]
  },
  {
   "cell_type": "code",
   "execution_count": 30,
   "metadata": {},
   "outputs": [],
   "source": [
    "n = 10_000\n",
    "d = 2\n",
    "\n",
    "M = np.array([1,1])\n",
    "S = np.array([[1,0.3],[0.3,1]])\n"
   ]
  },
  {
   "cell_type": "code",
   "execution_count": null,
   "metadata": {},
   "outputs": [],
   "source": [
    "\n",
    "def gibbs_sampler(n,d,M,S,valeur_initiale):\n",
    "    cdm = np.zeros((n,d)) #ligne = 1 iteration de la cdm ; colonne = 1 dimension\n",
    "    cdm[0,:] = [valeur_initiale] \n",
    "    current_point = starting_point\n",
    "    for j in range(n):\n",
    "        current_point = cdm[j,:].copy() \n",
    "        for i in range(d):\n",
    "\n",
    "    cdm[j+1,:] = current_point\n",
    "    return np.array(chain)\n"
   ]
  },
  {
   "cell_type": "code",
   "execution_count": 25,
   "metadata": {},
   "outputs": [
    {
     "data": {
      "text/plain": [
       "0.0"
      ]
     },
     "execution_count": 25,
     "metadata": {},
     "output_type": "execute_result"
    }
   ],
   "source": [
    "x = cdm[0,:].copy()\n"
   ]
  },
  {
   "cell_type": "code",
   "execution_count": null,
   "metadata": {},
   "outputs": [],
   "source": []
  }
 ],
 "metadata": {
  "kernelspec": {
   "display_name": "Python 3",
   "language": "python",
   "name": "python3"
  },
  "language_info": {
   "codemirror_mode": {
    "name": "ipython",
    "version": 3
   },
   "file_extension": ".py",
   "mimetype": "text/x-python",
   "name": "python",
   "nbconvert_exporter": "python",
   "pygments_lexer": "ipython3",
   "version": "3.7.1"
  }
 },
 "nbformat": 4,
 "nbformat_minor": 2
}
