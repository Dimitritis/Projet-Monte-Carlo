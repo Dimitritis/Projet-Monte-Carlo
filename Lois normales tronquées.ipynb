{
 "cells": [
  {
   "cell_type": "markdown",
   "metadata": {},
   "source": [
    "## Lois normales tronquées\n"
   ]
  },
  {
   "cell_type": "markdown",
   "metadata": {},
   "source": [
    "Soit le vecteur aléatoire $X = (X_1,\\dots,X_d) \\sim \\mathcal{N}_d(\\mu,\\Sigma)$, de densité noté $g(x) = \\frac{1}{\\sqrt{(2\\pi)^d |\\Sigma|}} e^{-\\frac{1}{2} (x-\\mu)' \\Sigma^{-1} (x-\\mu)}$ et de fonction de répartition noté $G$, définies sur $\\mathbb{R}$. \n",
    "$\\mu \\in \\mathbb{R}^d$ et $\\Sigma \\in \\mathcal{M}_{d\\times d}(\\mathbb{R})$ symétrique et semi-définie positive.\n",
    "\n",
    "$X > 0$ signifie que l'inégalité est effectuée composante par composante : $X_1 > 0 \\: et \\: \\dots \\: et \\: X_d > 0$.\n",
    "\n",
    "La loi normale de paramètre $\\mu, \\Sigma$ tronquée à $]0,+\\infty[$, notée $\\mathcal{N}_{>0,d}(\\mu,\\Sigma)$, est la loi du vecteur aléatoire $X|X>0$."
   ]
  },
  {
   "cell_type": "code",
   "execution_count": 1,
   "metadata": {},
   "outputs": [],
   "source": [
    "import numpy as np\n",
    "#import numpy.random as npr\n",
    "import scipy.stats as st\n",
    "import matplotlib.pyplot as plt"
   ]
  },
  {
   "cell_type": "markdown",
   "metadata": {},
   "source": [
    "---"
   ]
  },
  {
   "cell_type": "markdown",
   "metadata": {},
   "source": [
    "### Question 1"
   ]
  },
  {
   "cell_type": "markdown",
   "metadata": {},
   "source": [
    "Soit $f$ la densité de $X|X>0$ et soit $F$ sa fonction de répartition."
   ]
  },
  {
   "cell_type": "markdown",
   "metadata": {},
   "source": [
    " $\\forall x \\in ]0,+\\infty[^d$,\n",
    "\n",
    "$$\n",
    "F(x)\n",
    "= \\mathbb{P}(X \\leq x | X > 0) \n",
    "= \\frac{\\mathbb{P}(X \\leq x , X > 0)}{\\mathbb{P}(X > 0)} \n",
    "= \\frac{G(x) - G(0)}{1 - G(0)}\n",
    "$$\n",
    "\n",
    "$$\n",
    "f(x) \n",
    "= F'(x) \n",
    "= \\frac{G'(x)}{1 - F(0)}\n",
    "= \\frac{g(x)}{1 - F(0)}\n",
    "= Z(\\mu,\\Sigma) g(x) \n",
    "$$\n",
    "\n",
    "avec $$ Z(\\mu,\\Sigma) = (1 - G(0))^{-1} =  \\left( \\int_{]0,+\\infty[^d} \\frac{1}{\\sqrt{(2\\pi)^d |\\Sigma|}} e^{-\\frac{1}{2} (x-\\mu)' \\Sigma^{-1} (x-\\mu)} dx  \\right)^{-1} $$\n",
    "correspondant à l'inverse d'une intégrale difficile à calculer.\n",
    "\n",
    "Donc la densité $f$ de la loi $\\mathcal{N}_{>0,d}(\\mu,\\Sigma)$ est :\n",
    "$$\n",
    "f(x) = \\frac{g(x)}{ \\int_{]0,+\\infty[^d} g(x) dx} \\mathbb{1}_{]0,+\\infty[^d}(x)\n",
    "$$"
   ]
  },
  {
   "cell_type": "markdown",
   "metadata": {},
   "source": [
    "Généralisation de la troncature :\n",
    "\n",
    "\n",
    "\n",
    "\n",
    "- $a \\in \\mathbb{R}^d$ , soient f et F la densité et la fonction de répartition de $X|X>a$\n",
    "\n",
    "$\\forall x \\in ]a,+\\infty[^d$,\n",
    " \n",
    "$$\n",
    "F(x)\n",
    "= \\mathbb{P}(X \\leq x | X > a) \n",
    "= \\frac{\\mathbb{P}(X \\leq x , X > a)}{\\mathbb{P}(X > a)} \n",
    "= \\frac{G(x) - G(a)}{1 - G(a)}\n",
    "$$\n",
    "\n",
    "$$\n",
    "f(x) \n",
    "= F'(x) \n",
    "= \\frac{G'(x)}{1 - G(a)}\n",
    "= \\frac{g(x)}{1 - G(a)}\n",
    "= Z(\\mu,\\Sigma,a) g(x) \n",
    "$$\n",
    "\n",
    "avec $$ Z(\\mu,\\Sigma,a) = (1 - G(a))^{-1} =  \\left( \\int_{]a,+\\infty[^d} \\frac{1}{\\sqrt{(2\\pi)^d |\\Sigma|}} e^{-\\frac{1}{2} (x-\\mu)' \\Sigma^{-1} (x-\\mu)}  \\right)^{-1} $$\n",
    "\n",
    "Donc la densité $f$ de la loi $\\mathcal{N}_{>a,d}(\\mu,\\Sigma)$ est :\n",
    "$$\n",
    "f(x) = \\frac{g(x)}{ \\int_{]a,+\\infty[^d} g(x) dx} \\mathbb{1}_{]a,+\\infty[^d}(x)\n",
    "$$\n",
    "\n",
    "\n",
    "\n",
    "\n",
    "- $b \\in \\mathbb{R}^d$ , soit f et F la densité et la fonction de répartition de $X|X<b$\n",
    "\n",
    " $\\forall x \\in ]-\\infty,b[^d$,\n",
    " \n",
    "$$\n",
    "F(x)\n",
    "= \\mathbb{P}(X \\leq x | X < b) \n",
    "= \\frac{\\mathbb{P}(X \\leq x, X < b)}{\\mathbb{P}(X < b)} \n",
    "= \\frac{\\mathbb{P}(X \\leq x)}{\\mathbb{P}(X < b)} \n",
    "= \\frac{G(x)}{G(b)}\n",
    "$$\n",
    "\n",
    "$$\n",
    "f(x) \n",
    "= F'(x) \n",
    "= \\frac{G'(x)}{G(b)}\n",
    "= \\frac{g(x)}{G(b)}\n",
    "= Z(\\mu,\\Sigma,b) g(x) \n",
    "$$\n",
    "\n",
    "avec $$ Z(\\mu,\\Sigma,b) = G(b)^{-1} =  \\left( \\int_{]-\\infty,b[^d} \\frac{1}{\\sqrt{(2\\pi)^d |\\Sigma|}} e^{-\\frac{1}{2} (x-\\mu)' \\Sigma^{-1} (x-\\mu)}  \\right)^{-1} $$ \n",
    "\n",
    "Donc la densité $f$ de la loi $\\mathcal{N}_{<b,d}(\\mu,\\Sigma)$ est :\n",
    "$$\n",
    "f(x) = \\frac{g(x)}{ \\int_{]-\\infty,b[^d} g(x) dx} \\mathbb{1}_{]-\\infty,b[^d}(x)\n",
    "$$\n",
    "\n",
    "\n",
    "\n",
    "- $a,b \\in \\mathbb{R}^d$ , soit f et F la densité et la fonction de répartition de $X|a<X<b$\n",
    "\n",
    "$\\forall x \\in ]a,b[^d$,\n",
    "\n",
    "$$\n",
    "F(x)\n",
    "= \\mathbb{P}(X \\leq x | a < X < b) \n",
    "= \\frac{\\mathbb{P}(X \\leq x, a < X < b)}{\\mathbb{P}(a < X < b)} \n",
    "= \\frac{\\mathbb{P}(a < X \\leq x)}{\\mathbb{P}(a < X < b)} \n",
    "= \\frac{G(x) - G(a)}{G(b) - G(a)}\n",
    "$$\n",
    "\n",
    "$$\n",
    "f(x) \n",
    "= F'(x) \n",
    "= \\frac{G'(x)}{G(b) - G(a)}\n",
    "= \\frac{g(x)}{G(b) - G(a)}\n",
    "= Z(\\mu,\\Sigma,a,b) g(x) \n",
    "$$\n",
    "\n",
    "avec $$ Z(\\mu,\\Sigma,a,b) = (G(b) - G(a))^{-1} =  \\left( \\int_{]a,b[^d} \\frac{1}{\\sqrt{(2\\pi)^d |\\Sigma|}} e^{-\\frac{1}{2} (x-\\mu)' \\Sigma^{-1} (x-\\mu)}  \\right)^{-1} $$ \n",
    "\n",
    "Donc la densité $f$ de la loi $\\mathcal{N}_{>a,<b,d}(\\mu,\\Sigma)$ est :\n",
    "$$\n",
    "f(x) = \\frac{g(x)}{ \\int_{]a,b[^d} g(x) dx} \\mathbb{1}_{]a,b[^d}(x)\n",
    "$$\n"
   ]
  },
  {
   "cell_type": "markdown",
   "metadata": {},
   "source": [
    "---"
   ]
  },
  {
   "cell_type": "markdown",
   "metadata": {},
   "source": [
    "### Question 2"
   ]
  },
  {
   "cell_type": "markdown",
   "metadata": {},
   "source": [
    "On suppose $d=1$. On veut simuler par Acceptation-Rejet la loi $\\mathcal{N}_{>0}(\\mu,\\sigma^2)$ de densité $f$."
   ]
  },
  {
   "cell_type": "markdown",
   "metadata": {},
   "source": [
    "- loi de proposition : $\\mathcal{N}(\\mu,\\sigma)$ de densité $g$\n",
    "\n",
    "Comme $ \\frac{f(x)}{g(x)} = (1-F(0))^{-1} \\mathbb{1}_{]0,+\\infty[}(x) \\leq (1-F(0))^{-1} =  (\\mathbb{P}_X(X > 0))^{-1} = (\\mathbb{P}_W(\\mu + \\sigma W > 0))^{-1} = (\\mathbb{P}_W(W \\leq \\frac{\\mu}{\\sigma}))^{-1} = (\\Phi(\\frac{\\mu}{\\sigma}))^{-1} = M $\n",
    "\n",
    "où $ W \\sim \\mathcal{N}(0,1)$ de fonction de répartition $\\Phi$.\n"
   ]
  },
  {
   "cell_type": "markdown",
   "metadata": {},
   "source": [
    "Ainsi on simule $f$ de la façon suivante :\n",
    "\n",
    "1) on simule $Y \\sim g$ ;\n",
    "\n",
    "2) on simule $U \\sim \\mathcal{U}(]0,1[)$ ;\n",
    "\n",
    "3) si $U \\leq \\frac{f(Y)}{Mg(Y)} = \\mathbb{1}_{]0,+\\infty[}(Y) $, alors $X \\overset{loi}{=} Y \\sim f$ ; sinon retour en 1)"
   ]
  },
  {
   "cell_type": "code",
   "execution_count": 2,
   "metadata": {},
   "outputs": [],
   "source": [
    "#version naïve\n",
    "def AR_g_V1(n,m,s):\n",
    "    #n = nombre de simulations\n",
    "    #m = paramètre moyenne de la loi de proposition g (et de la loi cible f)\n",
    "    #s = paramètre écart-type de la loi de proposition g (et de la loi cible f)\n",
    "    \n",
    "    resultat = []\n",
    "    g = st.norm(loc=m,scale=s)\n",
    "    while len(resultat) < n:\n",
    "        Y = g.rvs(size=1)\n",
    "        U = st.uniform.rvs(size=1)\n",
    "        \n",
    "        if (Y > 0):\n",
    "            resultat.append(Y)\n",
    "            \n",
    "    return np.r_[tuple(resultat)]\n",
    "\n",
    "        \n",
    "#version améliorée\n",
    "def AR_g_V2(n,m,s):\n",
    "    #n = nombre de simulations\n",
    "    #m = paramètre moyenne de la loi de proposition g (et de la loi cible f)\n",
    "    #s = paramètre écart-type de la loi de proposition g (et de la loi cible f)\n",
    "    \n",
    "    resultat = []\n",
    "    lresultat = 0\n",
    "    proba_accepte = st.norm.cdf(m/s,loc=0,scale=1) #=1/M\n",
    "    g = st.norm(loc=m,scale=s)\n",
    "    while lresultat < n:\n",
    "        missing = n - lresultat\n",
    "        n_simu = int(missing / proba_accepte)\n",
    "        Y = g.rvs(size=n_simu)\n",
    "        U = st.uniform.rvs(size=n_simu)\n",
    "        \n",
    "        accepte = Y > 0\n",
    "        if sum(accepte) > 0:\n",
    "            resultat.append(Y[accepte])\n",
    "        lresultat += sum(accepte)\n",
    "        \n",
    "    return np.r_[tuple(resultat)][0:(n-1)]\n",
    "        \n",
    "        \n",
    "#faire une version generale pour chaque troncature ?"
   ]
  },
  {
   "cell_type": "markdown",
   "metadata": {},
   "source": [
    "On remarque que pour $\\mu > 0$, la probabilité d'acceptation vérifie $\\frac{1}{M} = \\Phi(\\frac{\\mu}{\\sigma}) > 0.5$. La probabilité d'acceptation $\\frac{1}{M}$ est d'autant plus grande lorsque $\\mu >> 0$. Cette loi de proposition est donc intéressante pour $\\mu >0$."
   ]
  },
  {
   "cell_type": "code",
   "execution_count": 3,
   "metadata": {},
   "outputs": [],
   "source": [
    "n = 10000 #nombre de valeurs à simuler\n",
    "m = 1 #mu\n",
    "s = 2 #sigma"
   ]
  },
  {
   "cell_type": "code",
   "execution_count": 4,
   "metadata": {},
   "outputs": [
    {
     "data": {
      "image/png": "[encoded data removed]",
      "text/plain": [
       "<Figure size 432x288 with 1 Axes>"
      ]
     },
     "metadata": {
      "needs_background": "light"
     },
     "output_type": "display_data"
    }
   ],
   "source": [
    "plt.hist(AR_g_V2(n,m,s), density=True, bins=\"auto\")\n",
    "plt.title(\"hist. des densités pour un éch. de taille {0} (mu={1},sigma={2})\".format(n,m,s))\n",
    "plt.show()"
   ]
  },
  {
   "cell_type": "markdown",
   "metadata": {},
   "source": [
    "- loi de proposition : $\\mathcal{E}(\\lambda)$, $\\lambda > 0$, de densité $h(x) = \\lambda e^{- \\lambda x} \\mathbb{1}_{]0,+\\infty[}(x) $ \n",
    "\n",
    "$$\\forall x>0, \\;\\; \\frac{f(x)}{h(x)} \n",
    "= \\frac{g(x)}{\\Phi(\\frac{\\mu}{\\sigma})h(x)} \n",
    "= \\frac{1}{\\Phi(\\frac{\\mu}{\\sigma}) \\sqrt{2\\pi} \\sigma} \\frac{e^{-\\frac{1}{2\\sigma^2}(x-\\mu)^2}}{\\lambda e^{-\\lambda x}} \n",
    "= \\frac{1}{\\Phi(\\frac{\\mu}{\\sigma}) \\sqrt{2\\pi} \\sigma \\lambda} e^{-\\frac{1}{2\\sigma^2}(x-\\mu)^2 + \\lambda x} \n",
    "= \\frac{1}{\\Phi(\\frac{\\mu}{\\sigma}) \\sqrt{2\\pi} \\sigma \\lambda} e^{-\\frac{1}{2\\sigma^2} ((x-\\mu)^2 + 2 \\sigma^2 \\lambda x) } $$\n",
    "\n",
    "Soit \n",
    "\\begin{align*}\n",
    "P(x) & = (x-\\mu)^2 + 2 \\sigma^2 \\lambda x  \\\\\n",
    "& = x^2 - 2 \\mu x + \\mu^2 + 2 \\sigma^2 \\lambda x \\\\\n",
    "& = x^2 - 2 x (\\mu + \\sigma^2 \\lambda) + \\mu^2 \\\\\n",
    "& = x^2 - 2 x (\\mu + \\sigma^2 \\lambda) + (\\mu + \\sigma^2 \\lambda)^2 + \\mu^2 - (\\mu + \\sigma^2 \\lambda)^2 \\\\\n",
    "& = ( x - (\\mu + \\sigma^2 \\lambda) )^2 + \\mu^2 - \\mu^2 - 2 \\mu \\sigma^2 \\lambda - \\sigma^4 \\lambda^2 \\\\\n",
    "& = ( x - (\\mu + \\sigma^2 \\lambda) )^2 - 2 \\sigma^2 (\\mu \\lambda + \\frac{\\lambda^2 \\sigma^2}{2})\n",
    "\\end{align*}\n",
    "\n",
    "D'où \n",
    "$$\\forall x>0, \\;\\; \\frac{f(x)}{h(x)} \n",
    "= \\frac{1}{\\Phi(\\frac{\\mu}{\\sigma}) \\sqrt{2\\pi} \\sigma \\lambda} e^{-\\frac{1}{2\\sigma^2} P(x) }\n",
    "= \\frac{1}{\\Phi(\\frac{\\mu}{\\sigma}) \\sqrt{2\\pi} \\sigma \\lambda} e^{-\\frac{1}{2\\sigma^2} ( x - (\\mu + \\sigma^2 \\lambda) )^2} e^{\\mu \\lambda + \\frac{\\lambda^2 \\sigma^2}{2}}\n",
    "$$\n",
    "\n",
    "On cherche à majorer ce quotient en $x>0$.\n",
    "$x \\mapsto \\frac{f(x)}{h(x)}$ est maximum lorsque $x \\mapsto e^{-\\frac{1}{2\\sigma^2} ( x - (\\mu + \\sigma^2 \\lambda) )^2}$ atteint son maximum, c'est-à-dire lorsque $x \\mapsto ( x - (\\mu + \\sigma^2 \\lambda) )^2$ atteint son minimum : il est atteint en $x = \\mu + \\lambda \\sigma^2$ si $\\mu + \\lambda \\sigma^2 > 0$, sinon il est atteint en $x = 0$.\n",
    "\n",
    "En d'autres termes : \n",
    "\n",
    "pour $\\mu + \\lambda \\sigma^2 > 0$, $\\underset{x > 0}{\\text{argmax}}\\: \\frac{f(x)}{h(x)} = \\underset{x > 0}{\\text{argmax}}\\: e^{-\\frac{1}{2\\sigma^2} ( x - (\\mu + \\sigma^2 \\lambda) )^2} = \\underset{x > 0}{\\text{argmin}}\\: ( x - (\\mu + \\sigma^2 \\lambda) )^2 = \\mu + \\lambda \\sigma^2$ ;\n",
    "\n",
    "pour $\\mu + \\lambda \\sigma^2 < 0$, $\\underset{x > 0}{\\text{argmax}}\\: \\frac{f(x)}{h(x)} = \\underset{x > 0}{\\text{argmax}}\\: e^{-\\frac{1}{2\\sigma^2} ( x - (\\mu + \\sigma^2 \\lambda) )^2} = \\underset{x > 0}{\\text{argmin}}\\: ( x - (\\mu + \\sigma^2 \\lambda) )^2 = 0 $"
   ]
  },
  {
   "cell_type": "markdown",
   "metadata": {},
   "source": [
    "On en déduit :\n",
    "$$\n",
    "\\forall x>0, \\;\\; \\frac{f(x)}{h(x)} \n",
    "\\leq M(\\lambda) = \\left\\{\n",
    "    \\begin{array}{ll}\n",
    "        \\frac{1}{\\Phi(\\frac{\\mu}{\\sigma}) \\sqrt{2\\pi} \\sigma \\lambda} e^{\\mu \\lambda + \\frac{\\lambda^2 \\sigma^2}{2}} & \\mbox{si} \\mu + \\lambda \\sigma^2 > 0 \\\\\n",
    "        \\frac{1}{\\Phi(\\frac{\\mu}{\\sigma}) \\sqrt{2\\pi} \\sigma \\lambda}  e^{-\\frac{1}{2\\sigma^2} \\mu^2} & \\mbox{si} \\mu + \\lambda \\sigma^2 \\leq 0\n",
    "    \\end{array}\n",
    "\\right.\n",
    "$$"
   ]
  },
  {
   "cell_type": "markdown",
   "metadata": {},
   "source": [
    "Ainsi on simule $f$ de la façon suivante :\n",
    "\n",
    "1) on simule $Y \\sim h$ ;\n",
    "\n",
    "2) on simule $U \\sim \\mathcal{U}(]0,1[)$ ;\n",
    "\n",
    "3) si $U \\leq \\frac{f(Y)}{M(\\lambda) h(Y)} $, alors $X \\overset{loi}{=} Y \\sim f$ ; sinon retour en 1)"
   ]
  },
  {
   "cell_type": "code",
   "execution_count": 5,
   "metadata": {},
   "outputs": [],
   "source": [
    "def M_h(l,m,s):\n",
    "    if m+l*s**2 > 0:\n",
    "        return np.exp(m*l + l**2*s**2/2)/(st.norm.cdf(m/s,loc=0,scale=1)*np.sqrt(2*np.pi)*s*l)\n",
    "    else:\n",
    "        return np.exp(-m**2/(2*s**2))/(st.norm.cdf(m/s,loc=0,scale=1)*np.sqrt(2*np.pi)*s*l)\n"
   ]
  },
  {
   "cell_type": "code",
   "execution_count": 6,
   "metadata": {},
   "outputs": [],
   "source": [
    "#version naïve\n",
    "def AR_h_V1(n,m,s,l):\n",
    "    #n = nombre de simulations\n",
    "    #m = paramètre moyenne de la loi cible f = Z.g\n",
    "    #s = paramètre écart-type de la loi cible f = Z.g\n",
    "    #l = paramètre de la loi de proposition h \n",
    "    \n",
    "    resultat = []\n",
    "    M = M_h(l,m,s)\n",
    "    h = st.expon(loc=0,scale=1/l)\n",
    "    g = st.norm(loc=m,scale=s)\n",
    "    Z = 1/st.norm.cdf(m/s,loc=0,scale=1) \n",
    "    while len(resultat) < n:\n",
    "        Y = h.rvs(size=1)\n",
    "        U = st.uniform.rvs(size=1)\n",
    "        \n",
    "        if (U <= Z*g.pdf(Y)/(M*h.pdf(Y)))&(Y > 0):\n",
    "            resultat.append(Y)\n",
    "            \n",
    "    return np.r_[tuple(resultat)]\n",
    "\n",
    "\n",
    "#version améliorée\n",
    "def AR_h_V2(n,m,s,l):\n",
    "    #n = nombre de simulations\n",
    "    #m = paramètre moyenne de la loi de proposition g\n",
    "    #s = paramètre écart-type de la loi de proposition g\n",
    "    #l = paramètre de la loi de proposition h \n",
    "    \n",
    "    resultat = []\n",
    "    lresultat = 0\n",
    "    M = M_h(l,m,s)\n",
    "    proba_accepte = 1/M\n",
    "    h = st.expon(loc=0,scale=1/l)\n",
    "    g = st.norm(loc=m,scale=s)\n",
    "    Z = 1/st.norm.cdf(m/s,loc=0,scale=1)\n",
    "    while lresultat < n:\n",
    "        missing = n - lresultat\n",
    "        n_simu = int(missing / proba_accepte)\n",
    "        Y = h.rvs(size=n_simu)\n",
    "        U = st.uniform.rvs(size=n_simu)\n",
    "        \n",
    "        accepte = (U <= Z*g.pdf(Y)/(M*h.pdf(Y))) & (Y > 0)\n",
    "        if sum(accepte) > 0:\n",
    "            resultat.append(Y[accepte])\n",
    "        lresultat += sum(accepte)\n",
    "        \n",
    "    return np.r_[tuple(resultat)][0:(n-1)]\n",
    "        \n"
   ]
  },
  {
   "cell_type": "code",
   "execution_count": 7,
   "metadata": {},
   "outputs": [
    {
     "data": {
      "text/plain": [
       "0.8427384585761083"
      ]
     },
     "execution_count": 7,
     "metadata": {},
     "output_type": "execute_result"
    }
   ],
   "source": [
    "n = 10000\n",
    "m = -4\n",
    "s = 2\n",
    "l = 1\n",
    "\n",
    "M_h(l,m,s)\n",
    "1/M_h(l,m,s) #bien supérieure à 0.5, pour ce m et ce s"
   ]
  },
  {
   "cell_type": "code",
   "execution_count": 8,
   "metadata": {},
   "outputs": [
    {
     "data": {
      "image/png": "[encoded data removed]",
      "text/plain": [
       "<Figure size 432x288 with 1 Axes>"
      ]
     },
     "metadata": {
      "needs_background": "light"
     },
     "output_type": "display_data"
    },
    {
     "data": {
      "image/png": "[encoded data removed]",
      "text/plain": [
       "<Figure size 432x288 with 1 Axes>"
      ]
     },
     "metadata": {
      "needs_background": "light"
     },
     "output_type": "display_data"
    }
   ],
   "source": [
    "plt.hist(AR_h_V2(n,m,s,l), density=True, bins=\"auto\")\n",
    "plt.title(\"hist. des densités pour un éch. de taille {0} (mu={1},sigma={2})\".format(n,m,s))\n",
    "plt.show()\n",
    "\n",
    "plt.hist(AR_h_V2(n,2,s,l), density=True, bins=\"auto\")\n",
    "plt.title(\"hist. des densités pour un éch. de taille {0} (mu={1},sigma={2})\".format(n,2,s))\n",
    "plt.show()"
   ]
  },
  {
   "cell_type": "markdown",
   "metadata": {},
   "source": [
    "Si l'on veut simuler la loi $f$ selon cette méthode, les paramètres $\\mu$ et $\\sigma$ restent fixés par l'utilisateur. Seul le paramètre $\\lambda$ de la loi de proposition est variable. \n"
   ]
  },
  {
   "cell_type": "code",
   "execution_count": 9,
   "metadata": {},
   "outputs": [
    {
     "data": {
      "image/png": "[encoded data removed]",
      "text/plain": [
       "<Figure size 432x288 with 1 Axes>"
      ]
     },
     "metadata": {
      "needs_background": "light"
     },
     "output_type": "display_data"
    }
   ],
   "source": [
    "plt.plot(np.linspace(0.01,10,100),[1/M_h(l,m,s) for l in np.linspace(0.01,10,100)],\"b\")\n",
    "plt.xlabel(\"lambda\")\n",
    "plt.ylabel(\"1 / M(lambda)\")\n",
    "plt.title(\"proba acceptation selon lambda (mu={0}, sigma={1})\".format(m,s))\n",
    "plt.show()"
   ]
  },
  {
   "cell_type": "markdown",
   "metadata": {},
   "source": [
    "Pour maximiser la probabilité d'acceptation $\\frac{1}{M(\\lambda)}$, on minimise $M(\\lambda)$ en $\\lambda$.\n",
    "\n",
    "On suppose dans un premier temps que $\\mu < 0$.\n",
    "\n",
    "$$\n",
    "M(\\lambda) = \\left\\{\n",
    "    \\begin{array}{ll}\n",
    "        \\frac{1}{\\Phi(\\frac{\\mu}{\\sigma}) \\sqrt{2\\pi} \\sigma \\lambda} e^{\\mu \\lambda + \\frac{\\lambda^2 \\sigma^2}{2}} & \\mbox{si} \\lambda \\in\\: ]-\\frac{\\mu}{\\sigma^2},+\\infty[ \\\\\n",
    "        \\frac{1}{\\Phi(\\frac{\\mu}{\\sigma}) \\sqrt{2\\pi} \\sigma \\lambda}  e^{-\\frac{1}{2\\sigma^2} \\mu^2} & \\mbox{si} \\lambda \\in\\: ]0, -\\frac{\\mu}{\\sigma^2}]\n",
    "    \\end{array}\n",
    "\\right.\n",
    "$$\n",
    "\n",
    "Sur $]0, -\\frac{\\mu}{\\sigma^2}]$, $M(\\lambda)$ est strictement décroissante, le minimum est donc atteint en $-\\frac{\\mu}{\\sigma^2}$.\n",
    "\n",
    "Sur $]-\\frac{\\mu}{\\sigma^2},+\\infty[$, \n",
    "\\begin{align*}\n",
    "M'(\\lambda) & = -\\frac{1}{\\Phi(\\frac{\\mu}{\\sigma}) \\sqrt{2\\pi} \\sigma} \\frac{1}{\\lambda^2} e^{\\mu \\lambda + \\frac{\\lambda^2 \\sigma^2}{2}} + \\frac{1}{\\Phi(\\frac{\\mu}{\\sigma}) \\sqrt{2\\pi} \\sigma \\lambda} (\\mu + \\sigma^2 \\lambda) e^{\\mu \\lambda + \\frac{\\lambda^2 \\sigma^2}{2}} \\\\\n",
    "& = -\\frac{1}{\\lambda} M(\\lambda) + (\\mu + \\sigma^2 \\lambda) M(\\lambda) \\\\\n",
    "& = \\frac{1}{\\lambda} M(\\lambda) (\\sigma^2 \\lambda^2 + \\mu \\lambda - 1)\n",
    "\\end{align*}\n",
    "\n",
    "$\\frac{1}{\\lambda} M(\\lambda) \\neq 0 \\; \\forall \\lambda \\in ]-\\frac{\\mu}{\\sigma^2},+\\infty[$. Pour la nullité du polynôme :\n",
    "\n",
    "\\begin{align*}\n",
    "\\Delta = & \\mu^2 + 4\\sigma^2 > 0 \\; \\mbox{ il y a 2 racines réélles :} \\\\\n",
    "\\lambda_1 & = \\frac{-\\mu - \\sqrt{\\mu^2 + 4\\sigma^2}}{2\\sigma^2} < 0 \\; \\mbox{ cette racine est exclue}\\\\\n",
    "\\lambda_2 & = \\frac{-\\mu + \\sqrt{\\mu^2 + 4\\sigma^2}}{2\\sigma^2} > -\\frac{\\mu}{2\\sigma^2} \\\\\n",
    "\\end{align*}\n",
    "\n",
    "Comme $M'(\\lambda)<0$ pour $\\lambda<\\lambda_2$ et $M'(\\lambda)>0$ pour $\\lambda>\\lambda_2 $, le minimum global est atteint en $\\lambda^* = \\lambda_2 = \\frac{-\\mu + \\sqrt{\\mu^2 + 4\\sigma^2}}{2\\sigma^2} $\n",
    "\n",
    "Pour $\\mu < 0$, la loi de proposition optimale (telle que la probabilité d'acceptation soit maximisée) est la loi $\\mathcal{E}(\\lambda^*)$."
   ]
  },
  {
   "cell_type": "markdown",
   "metadata": {},
   "source": [
    "Pour $\\mu <0$ et avec cette loi de proposition optimale, a-t-on la probabilité d'acceptation supérieure à 0.5 ?"
   ]
  },
  {
   "cell_type": "code",
   "execution_count": 10,
   "metadata": {},
   "outputs": [],
   "source": [
    "def M_h_opti(m,s):\n",
    "    #assert m<0\n",
    "    l = (-m + np.sqrt(m**2 + 4*s**2))/(2*s**2)\n",
    "    if m+l*s**2 > 0:\n",
    "        return np.exp(m*l + l**2*s**2/2)/(st.norm.cdf(m/s,loc=0,scale=1)*np.sqrt(2*np.pi)*s*l)\n",
    "    else:\n",
    "        return np.exp(-m**2/(2*s**2))/(st.norm.cdf(m/s,loc=0,scale=1)*np.sqrt(2*np.pi)*s*l)\n"
   ]
  },
  {
   "cell_type": "code",
   "execution_count": 11,
   "metadata": {},
   "outputs": [
    {
     "data": {
      "text/plain": [
       "0.9336453245094183"
      ]
     },
     "execution_count": 11,
     "metadata": {},
     "output_type": "execute_result"
    }
   ],
   "source": [
    "m = -4\n",
    "s = 2\n",
    "1/M_h_opti(m,s)\n"
   ]
  },
  {
   "cell_type": "code",
   "execution_count": 12,
   "metadata": {
    "scrolled": false
   },
   "outputs": [
    {
     "data": {
      "image/png": "[encoded data removed]",
      "text/plain": [
       "<Figure size 432x288 with 1 Axes>"
      ]
     },
     "metadata": {
      "needs_background": "light"
     },
     "output_type": "display_data"
    },
    {
     "name": "stdout",
     "output_type": "stream",
     "text": [
      "0\n"
     ]
    }
   ],
   "source": [
    "plt.plot(np.linspace(-50,-0.001,1000),[1/M_h_opti(m,s) for m in np.linspace(-50,-1e-5,1000)],\"b\")\n",
    "plt.xlabel(\"mu\")\n",
    "plt.ylabel(\"1 / M(lambda*)\")\n",
    "plt.title(\"proba acceptation selon mu (lambda=lambda*, sigma={0})\".format(s))\n",
    "plt.show()\n",
    "\n",
    "print(sum(([1/M_h_opti(m,s) < 0.5 for m in np.linspace(-50,-1e-5,1000)])*1))\n"
   ]
  },
  {
   "cell_type": "markdown",
   "metadata": {},
   "source": [
    "Toutes les probabilités d'acceptation sont supérieures à $0.5$ pour une discrétisation de valeurs négatives de $\\mu$. La méthode d'acceptation-rejet de proposition $h$ est donc bien meilleure pour les $\\mu < 0$ que celle de proposition $g$."
   ]
  },
  {
   "cell_type": "markdown",
   "metadata": {},
   "source": [
    "On suppose dans un second temps que $\\mu > 0$.\n",
    "\n",
    "Alors $\\forall \\lambda > 0$,\n",
    "$$\n",
    "M(\\lambda) = \\frac{1}{\\Phi(\\frac{\\mu}{\\sigma}) \\sqrt{2\\pi} \\sigma \\lambda} e^{\\mu \\lambda + \\frac{\\lambda^2 \\sigma^2}{2}}\n",
    "$$\n",
    "\n",
    "par les mêmes calculs que précédents, on trouve que $\\lambda^* = \\underset{\\lambda>0}{\\text{argmin}}\\: M(\\lambda)  = \\lambda_2 = \\frac{-\\mu + \\sqrt{\\mu^2 + 4\\sigma^2}}{2\\sigma^2}\\; (>0)$.\n",
    "\n"
   ]
  },
  {
   "cell_type": "code",
   "execution_count": 15,
   "metadata": {},
   "outputs": [],
   "source": [
    "#AR_h_V2 avec proba acceptation optimale\n",
    "def AR_h_V3(n,m,s):\n",
    "    #n = nombre de simulations\n",
    "    #m = paramètre moyenne de la loi de proposition g\n",
    "    #s = paramètre écart-type de la loi de proposition g\n",
    "    #l = paramètre de la loi de proposition h \n",
    "    \n",
    "    resultat = []\n",
    "    lresultat = 0\n",
    "    M = M_h_opti(m,s)\n",
    "    proba_accepte = 1/M\n",
    "    h = st.expon(loc=0,scale=1/l)\n",
    "    g = st.norm(loc=m,scale=s)\n",
    "    Z = 1/st.norm.cdf(m/s,loc=0,scale=1)\n",
    "    while lresultat < n:\n",
    "        missing = n - lresultat\n",
    "        n_simu = int(missing / proba_accepte)\n",
    "        Y = h.rvs(size=n_simu)\n",
    "        U = st.uniform.rvs(size=n_simu)\n",
    "        \n",
    "        accepte = (U <= Z*g.pdf(Y)/(M*h.pdf(Y))) & (Y > 0)\n",
    "        if sum(accepte) > 0:\n",
    "            resultat.append(Y[accepte])\n",
    "        lresultat += sum(accepte)\n",
    "        \n",
    "    return np.r_[tuple(resultat)][0:(n-1)]"
   ]
  },
  {
   "cell_type": "markdown",
   "metadata": {},
   "source": [
    "Avec $\\lambda^*$ et en faisant varier $\\mu > 0$ : "
   ]
  },
  {
   "cell_type": "code",
   "execution_count": 16,
   "metadata": {},
   "outputs": [
    {
     "data": {
      "image/png": "[encoded data removed]",
      "text/plain": [
       "<Figure size 432x288 with 1 Axes>"
      ]
     },
     "metadata": {
      "needs_background": "light"
     },
     "output_type": "display_data"
    }
   ],
   "source": [
    "plt.plot(np.linspace(1e-5,50,1000),[1/M_h_opti(m,s) for m in np.linspace(1e-5,50,1000)],'b',label=\"proba acceptation de l'AR avec h\")\n",
    "plt.plot(np.linspace(1e-5,50,1000),[st.norm.cdf(m/s,loc=0,scale=1) for m in np.linspace(1e-5,50,1000)],'r',label=\"proba acceptation de l'AR avec g\")\n",
    "plt.xlabel(\"mu\")\n",
    "plt.ylabel(\"1 / M\")\n",
    "plt.title(\"proba acceptation selon mu (lambda=lambda*, sigma={0})\".format(s))\n",
    "plt.legend()\n",
    "plt.show()"
   ]
  },
  {
   "cell_type": "markdown",
   "metadata": {},
   "source": [
    "Pour $\\mu>0$ il existe un certain seuil $\\mu$ au-delà duquel la méthode d'acceptation-rejet de proposition $g$ est meilleure que celle de proposition $h$.\n",
    "\n",
    "Ce seuil augmente lorsque le paramètre $\\sigma$ augmente."
   ]
  },
  {
   "cell_type": "code",
   "execution_count": 18,
   "metadata": {},
   "outputs": [
    {
     "data": {
      "image/png": "[encoded data removed]",
      "text/plain": [
       "<Figure size 432x288 with 1 Axes>"
      ]
     },
     "metadata": {
      "needs_background": "light"
     },
     "output_type": "display_data"
    },
    {
     "data": {
      "image/png": "[encoded data removed]",
      "text/plain": [
       "<Figure size 432x288 with 1 Axes>"
      ]
     },
     "metadata": {
      "needs_background": "light"
     },
     "output_type": "display_data"
    },
    {
     "data": {
      "image/png": "[encoded data removed]",
      "text/plain": [
       "<Figure size 432x288 with 1 Axes>"
      ]
     },
     "metadata": {
      "needs_background": "light"
     },
     "output_type": "display_data"
    }
   ],
   "source": [
    "plt.figure(1)\n",
    "plt.plot(np.linspace(1e-5,50,1000),[1/M_h_opti(m,1) for m in np.linspace(1e-5,50,1000)],'b',label=\"proba acceptation de l'AR avec h\")\n",
    "plt.plot(np.linspace(1e-5,50,1000),[st.norm.cdf(m/1,loc=0,scale=1) for m in np.linspace(1e-5,50,1000)],'r',label=\"proba acceptation de l'AR avec g\")\n",
    "plt.xlabel(\"mu\")\n",
    "plt.ylabel(\"1 / M\")\n",
    "plt.title(\"proba acceptation selon mu (lambda=lambda*, sigma={0})\".format(1))\n",
    "plt.legend()\n",
    "\n",
    "\n",
    "plt.figure(2)\n",
    "plt.plot(np.linspace(1e-5,50,1000),[1/M_h_opti(m,10) for m in np.linspace(1e-5,50,1000)],'b',label=\"proba acceptation de l'AR avec h\")\n",
    "plt.plot(np.linspace(1e-5,50,1000),[st.norm.cdf(m/10,loc=0,scale=1) for m in np.linspace(1e-5,50,1000)],'r',label=\"proba acceptation de l'AR avec g\")\n",
    "plt.xlabel(\"mu\")\n",
    "plt.ylabel(\"1 / M\")\n",
    "plt.title(\"proba acceptation selon mu (lambda=lambda*, sigma={0})\".format(10))\n",
    "plt.legend()\n",
    "\n",
    "\n",
    "plt.figure(3)\n",
    "plt.plot(np.linspace(1e-5,50,1000),[1/M_h_opti(m,70) for m in np.linspace(1e-5,50,1000)],'b',label=\"proba acceptation de l'AR avec h\")\n",
    "plt.plot(np.linspace(1e-5,50,1000),[st.norm.cdf(m/70,loc=0,scale=1) for m in np.linspace(1e-5,50,1000)],'r',label=\"proba acceptation de l'AR avec g\")\n",
    "plt.xlabel(\"mu\")\n",
    "plt.ylabel(\"1 / M\")\n",
    "plt.title(\"proba acceptation selon mu (lambda=lambda*, sigma={0})\".format(70))\n",
    "plt.legend()\n",
    "\n",
    "plt.show()"
   ]
  },
  {
   "cell_type": "markdown",
   "metadata": {},
   "source": [
    "En conclusion, la méthode d'acceptation-rejet de proposition $h$ optimale (<code>AR_h_V3</code>) est préférable si $\\left[ \\mu < 0 \\right] \\; ou \\; \\left[ \\mu > 0 \\; et \\; \\frac{1}{\\Phi(\\frac{\\mu}{\\sigma}) \\sqrt{2\\pi} \\sigma \\lambda^*} e^{\\mu \\lambda^* + \\frac{\\lambda^{*2} \\sigma^2}{2}} > \\Phi(\\frac{\\mu}{\\sigma}) \\right] $. La methode d'acceptation-rejet de proposition $g$ (<code>AR_g_V2</code>) est préfèrable sinon."
   ]
  },
  {
   "cell_type": "markdown",
   "metadata": {},
   "source": [
    "---"
   ]
  },
  {
   "cell_type": "markdown",
   "metadata": {},
   "source": [
    "### Question 3"
   ]
  },
  {
   "cell_type": "code",
   "execution_count": null,
   "metadata": {},
   "outputs": [],
   "source": []
  }
 ],
 "metadata": {
  "kernelspec": {
   "display_name": "Python 3",
   "language": "python",
   "name": "python3"
  },
  "language_info": {
   "codemirror_mode": {
    "name": "ipython",
    "version": 3
   },
   "file_extension": ".py",
   "mimetype": "text/x-python",
   "name": "python",
   "nbconvert_exporter": "python",
   "pygments_lexer": "ipython3",
   "version": "3.7.1"
  }
 },
 "nbformat": 4,
 "nbformat_minor": 2
}
