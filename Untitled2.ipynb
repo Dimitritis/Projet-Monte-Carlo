{
 "cells": [
  {
   "cell_type": "code",
   "execution_count": null,
   "metadata": {},
   "outputs": [],
   "source": [
    "#définit les paramètres de la loi conditionnelle\n",
    "def params(i, m, Q, X):\n",
    "    #donne les parametres de la loi conditionnelle N_i|N_-i\n",
    "    # i : indice du composant du vecteur aléatoire\n",
    "    # m : parametre moyenne de la loi cible (np.array en ligne)\n",
    "    # Q : inverse du parametre matrice de variance-covariance de la loi cible\n",
    "    # X : valeur de la chaine pour une etape (vecteur de dimension d)\n",
    "    \n",
    "    d = m.shape[1]\n",
    "    m_x = m[:,i]-np.sum([Q[i,j]*(X[j]-m[:,j]) for j in range(d) if j != i])/Q[i,i]\n",
    "    s_x = np.sqrt(1/Q[i,i])\n",
    "    return(m_x, s_x)\n",
    "\n",
    "\n",
    "#Echantillonnage de Gibbs\n",
    "def Gibbs_Sampler(n, m, S, X0):\n",
    "    #n : nombre de simulations, nombre de transiitions de la chaine\n",
    "    #m : parametre moyenne de la loi cible (np.array en ligne)\n",
    "    #S : parametre matrice de variance-covariance de la loi cible\n",
    "    #X0 : valeur initiale de la chaine\n",
    "    \n",
    "    d = m.shape[1]\n",
    "    Q = np.linalg.inv(S)\n",
    "    X = [list(X0)]\n",
    "    for _n in range(n):\n",
    "        for i in range(d):\n",
    "            m_x, s_x = params(i, m, Q, X0)\n",
    "            X0[i] = Inv(1,m_x, s_x)\n",
    "        X.append(list(X0))\n",
    "    return(np.array(X)[1:,:])"
   ]
  },
  {
   "cell_type": "code",
   "execution_count": null,
   "metadata": {},
   "outputs": [],
   "source": [
    "#valeurs des paramètres\n",
    "n = 10_000\n",
    "m = np.array([[0,-3,3]])\n",
    "S = np.array([[2,0.1,-0.1],\n",
    "              [0.1,3,0.1],\n",
    "              [-0.1,0.1,4]])\n",
    "X0 = st.expon.rvs(size = 3)\n",
    "\n",
    "X = Gibbs_Sampler(n, m, S, X0)"
   ]
  },
  {
   "cell_type": "code",
   "execution_count": null,
   "metadata": {},
   "outputs": [],
   "source": [
    "#histogramme des densités pour chaque composante du vecteur simulé\n",
    "def plot_Gibbs(X, m, S, burnin = 100):\n",
    "    #X : simulations du vecteur aléatoire par Gibbs_Sampler\n",
    "    #m : parametre moyenne de la loi cible (vecteur de taille (d,))\n",
    "    #S : parametre matrice de variance-covariance de la loi cible\n",
    "    #burnin : les premières itérations de la chaîne peuvent ne pas êtres considérées (par défaut 100)\n",
    "    #car la chaîne est encore trop éloigné de la loi de proba limite (par le théorème ergodique)\n",
    "    \n",
    "    d = m.shape[1]\n",
    "    fig, axs = plt.subplots(d, figsize = (7,14))\n",
    "    fig.suptitle('Densités et hist. des densités des simulations, pour chaque composant du vecteur simulé')\n",
    "    x = np.linspace(0, 50, 10_000)\n",
    "    for t in range(d):\n",
    "        y = st.norm.pdf(x, loc = m[0,t], scale = np.sqrt(S[t,t]))/st.norm.cdf(m[0,t]/np.sqrt(S[t,t]))\n",
    "        axs[t].hist(X[burnin:,t], density = True, bins = \"auto\")\n",
    "        axs[t].plot(x, y)\n",
    "        axs[t].set(xlabel = \"Densité et hist. des densités de la simulation du composant {0}\".format(t+1) )"
   ]
  },
  {
   "cell_type": "code",
   "execution_count": null,
   "metadata": {},
   "outputs": [],
   "source": [
    "#valeurs des paramètres\n",
    "n = 5_000\n",
    "d = 2\n",
    "m = np.array([[3,0]])\n",
    "S = np.array([[2,0.3],\n",
    "              [0.3,4]])\n",
    "K = np.linalg.cholesky(S)\n",
    "\n",
    "X0 = st.expon.rvs(size = 2)\n",
    "\n",
    "X = Gibbs_Sampler(n, m, S, X0) # echantillon de taille n, paramètres supposés inconnus"
   ]
  },
  {
   "cell_type": "code",
   "execution_count": null,
   "metadata": {},
   "outputs": [],
   "source": [
    "#on regarde les histogrammes des densités pour avoir un \"a priori\" sur mu' et Sigma' \n",
    "#par tâtonnement sur les paramètres, en essayant de fit une densité à chaque histogramme des densités\n",
    "\n",
    "m_prime = np.array([[3.2,-0.2]])\n",
    "S_prime = np.array([[2.5,0.1],\n",
    "                    [0.1,4.5]])\n",
    "\n",
    "plot_Gibbs(X,m_prime,S_prime)"
   ]
  },
  {
   "cell_type": "code",
   "execution_count": null,
   "metadata": {},
   "outputs": [],
   "source": [
    "#Echantillon pour l'estimateur de Monte Carlo par Important Sampling de I, \n",
    "#loi de proposition : la même que celle du modèle, avec mu' et Sigma' choisis précédemment\n",
    "N = 50_000\n",
    "\n",
    "m_prime = np.array([[3.2,-0.2]])\n",
    "S_prime = np.array([[2.5,0.1],\n",
    "                    [0.1,4.5]])\n",
    "K_prime = np.linalg.cholesky(S_prime)\n",
    "\n",
    "#valeur du burnin choisie après\n",
    "burnin = 0 \n",
    "\n",
    "Y0 = st.expon.rvs(size = 2)\n",
    "\n",
    "Y = Gibbs_Sampler(N, m_prime, S_prime, Y0)"
   ]
  },
  {
   "cell_type": "code",
   "execution_count": null,
   "metadata": {},
   "outputs": [],
   "source": [
    "#vraie valeur de I(m,S) (supposée inconnue)\n",
    "I = (1 - st.norm.cdf(0,loc=tuple(m)[0][0],scale=S[0,0])\n",
    "     - st.norm.cdf(0,loc=tuple(m)[0][1],scale=S[1,1]) \n",
    "     + st.multivariate_normal.cdf(np.zeros(d),mean=tuple(m)[0],cov=S))\n",
    "print(\"I = \",I)\n",
    "\n",
    "#valeur estimée de I(m,S) (sans burnin) (aussi supposée inconnue car dépend de mu et Sigma)\n",
    "burnin = 0\n",
    "Z_prime = 1/(1 - st.norm.cdf(0,loc=tuple(m_prime)[0][0],scale=S_prime[0,0])\n",
    "             - st.norm.cdf(0,loc=tuple(m_prime)[0][1],scale=S_prime[1,1])\n",
    "             + st.multivariate_normal.cdf(np.zeros(d),mean=tuple(m_prime)[0],cov=S_prime))\n",
    "I_MC = 1/(Z_prime*(N-burnin))*sum(st.multivariate_normal.pdf(Y[burnin:,:],mean=tuple(m)[0],cov=S)/st.multivariate_normal.pdf(Y[burnin:,:],mean=tuple(m_prime)[0],cov=S_prime))\n",
    "print(\"Î = \",I_MC)\n"
   ]
  },
  {
   "cell_type": "code",
   "execution_count": null,
   "metadata": {},
   "outputs": [],
   "source": [
    "#choix de la valeur de burnin\n",
    "\n",
    "I_MC_liste = []\n",
    "for N_iter in np.linspace(1_000, N, 50):\n",
    "    I_MC = 1/(Z_prime*(N_iter))*sum(st.multivariate_normal.pdf(Y[:int(N_iter),:],mean=tuple(m)[0],cov=S)/st.multivariate_normal.pdf(Y[:int(N_iter),:],mean=tuple(m_prime)[0],cov=S_prime))\n",
    "    I_MC_liste.append(I_MC)\n"
   ]
  }
 ],
 "metadata": {
  "kernelspec": {
   "display_name": "Python 3",
   "language": "python",
   "name": "python3"
  },
  "language_info": {
   "codemirror_mode": {
    "name": "ipython",
    "version": 3
   },
   "file_extension": ".py",
   "mimetype": "text/x-python",
   "name": "python",
   "nbconvert_exporter": "python",
   "pygments_lexer": "ipython3",
   "version": "3.6.8"
  },
  "latex_envs": {
   "LaTeX_envs_menu_present": true,
   "autoclose": false,
   "autocomplete": true,
   "bibliofile": "biblio.bib",
   "cite_by": "apalike",
   "current_citInitial": 1,
   "eqLabelWithNumbers": true,
   "eqNumInitial": 1,
   "hotkeys": {
    "equation": "Ctrl-E",
    "itemize": "Ctrl-I"
   },
   "labels_anchors": false,
   "latex_user_defs": false,
   "report_style_numbering": false,
   "user_envs_cfg": false
  },
  "varInspector": {
   "cols": {
    "lenName": 16,
    "lenType": 16,
    "lenVar": 40
   },
   "kernels_config": {
    "python": {
     "delete_cmd_postfix": "",
     "delete_cmd_prefix": "del ",
     "library": "var_list.py",
     "varRefreshCmd": "print(var_dic_list())"
    },
    "r": {
     "delete_cmd_postfix": ") ",
     "delete_cmd_prefix": "rm(",
     "library": "var_list.r",
     "varRefreshCmd": "cat(var_dic_list()) "
    }
   },
   "types_to_exclude": [
    "module",
    "function",
    "builtin_function_or_method",
    "instance",
    "_Feature"
   ],
   "window_display": false
  }
 },
 "nbformat": 4,
 "nbformat_minor": 2
}
